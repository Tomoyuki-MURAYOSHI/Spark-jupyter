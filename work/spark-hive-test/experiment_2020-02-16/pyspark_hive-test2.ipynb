{
 "cells": [
  {
   "cell_type": "code",
   "execution_count": 1,
   "metadata": {},
   "outputs": [
    {
     "name": "stdout",
     "output_type": "stream",
     "text": [
      "CPU times: user 466 ms, sys: 211 ms, total: 678 ms\n",
      "Wall time: 6.61 s\n"
     ]
    },
    {
     "data": {
      "text/html": [
       "\n",
       "            <div>\n",
       "                <p><b>SparkSession - hive</b></p>\n",
       "                \n",
       "        <div>\n",
       "            <p><b>SparkContext</b></p>\n",
       "\n",
       "            <p><a href=\"http://012874f16d64:4040\">Spark UI</a></p>\n",
       "\n",
       "            <dl>\n",
       "              <dt>Version</dt>\n",
       "                <dd><code>v2.4.4</code></dd>\n",
       "              <dt>Master</dt>\n",
       "                <dd><code>local[*]</code></dd>\n",
       "              <dt>AppName</dt>\n",
       "                <dd><code>local-test</code></dd>\n",
       "            </dl>\n",
       "        </div>\n",
       "        \n",
       "            </div>\n",
       "        "
      ],
      "text/plain": [
       "<pyspark.sql.session.SparkSession at 0x7f866416bfd0>"
      ]
     },
     "execution_count": 1,
     "metadata": {},
     "output_type": "execute_result"
    }
   ],
   "source": [
    "%%time\n",
    "\n",
    "import pathlib\n",
    "from os.path import expanduser, join, abspath\n",
    "\n",
    "import pyspark\n",
    "from pyspark.sql import SparkSession\n",
    "from pyspark.sql import functions as fn\n",
    "from pyspark.sql.types import *\n",
    "from pyspark.sql.window import Window\n",
    "\n",
    "\n",
    "warehouse_location = abspath('/home/jovyan/work/hive-db/spark-warehouse')\n",
    "conf_metastore_db = (\"spark.driver.extraJavaOptions\", \"-Dderby.system.home=/home/jovyan/work/hive-db\")\n",
    "# https://www.ibm.com/support/knowledgecenter/en/SS3H8V_1.1.0/com.ibm.izoda.v1r1.azka100/topics/azkic_t_updconfigfiles.htm\n",
    "\n",
    "spark = SparkSession \\\n",
    "        .builder \\\n",
    "        .config(\"spark.sql.warehouse.dir\", warehouse_location) \\\n",
    "        .config(*conf_metastore_db) \\\n",
    "        .enableHiveSupport() \\\n",
    "        .appName(\"local-test\") \\\n",
    "        .getOrCreate()\n",
    "\n",
    "spark"
   ]
  },
  {
   "cell_type": "code",
   "execution_count": 2,
   "metadata": {},
   "outputs": [],
   "source": [
    "import seaborn as sns\n",
    "import pandas as pd\n",
    "import numpy as np\n",
    "import dask.dataframe as dd"
   ]
  },
  {
   "cell_type": "code",
   "execution_count": null,
   "metadata": {},
   "outputs": [],
   "source": []
  },
  {
   "cell_type": "markdown",
   "metadata": {},
   "source": [
    "- テストデータ用意"
   ]
  },
  {
   "cell_type": "code",
   "execution_count": 3,
   "metadata": {},
   "outputs": [
    {
     "name": "stdout",
     "output_type": "stream",
     "text": [
      "+------------+-----------+------------+-----------+-------+\n",
      "|sepal_length|sepal_width|petal_length|petal_width|species|\n",
      "+------------+-----------+------------+-----------+-------+\n",
      "|         5.1|        3.5|         1.4|        0.2| setosa|\n",
      "|         4.9|        3.0|         1.4|        0.2| setosa|\n",
      "|         4.7|        3.2|         1.3|        0.2| setosa|\n",
      "|         4.6|        3.1|         1.5|        0.2| setosa|\n",
      "|         5.0|        3.6|         1.4|        0.2| setosa|\n",
      "|         5.4|        3.9|         1.7|        0.4| setosa|\n",
      "|         4.6|        3.4|         1.4|        0.3| setosa|\n",
      "|         5.0|        3.4|         1.5|        0.2| setosa|\n",
      "|         4.4|        2.9|         1.4|        0.2| setosa|\n",
      "|         4.9|        3.1|         1.5|        0.1| setosa|\n",
      "|         5.4|        3.7|         1.5|        0.2| setosa|\n",
      "|         4.8|        3.4|         1.6|        0.2| setosa|\n",
      "|         4.8|        3.0|         1.4|        0.1| setosa|\n",
      "|         4.3|        3.0|         1.1|        0.1| setosa|\n",
      "|         5.8|        4.0|         1.2|        0.2| setosa|\n",
      "|         5.7|        4.4|         1.5|        0.4| setosa|\n",
      "|         5.4|        3.9|         1.3|        0.4| setosa|\n",
      "|         5.1|        3.5|         1.4|        0.3| setosa|\n",
      "|         5.7|        3.8|         1.7|        0.3| setosa|\n",
      "|         5.1|        3.8|         1.5|        0.3| setosa|\n",
      "+------------+-----------+------------+-----------+-------+\n",
      "only showing top 20 rows\n",
      "\n"
     ]
    }
   ],
   "source": [
    "iris = sns.load_dataset('iris')\n",
    "df_iris = spark.createDataFrame(iris)\n",
    "df_iris.show()"
   ]
  },
  {
   "cell_type": "code",
   "execution_count": 4,
   "metadata": {},
   "outputs": [
    {
     "name": "stdout",
     "output_type": "stream",
     "text": [
      "+------------+\n",
      "|databaseName|\n",
      "+------------+\n",
      "|     default|\n",
      "|         tmp|\n",
      "+------------+\n",
      "\n"
     ]
    }
   ],
   "source": [
    "# 接続テスト\n",
    "spark.sql(\"\"\"\n",
    "create database if not exists tmp\n",
    "\"\"\")\n",
    "\n",
    "spark.sql(\"\"\"\n",
    "show databases\n",
    "\"\"\").show()"
   ]
  },
  {
   "cell_type": "code",
   "execution_count": 5,
   "metadata": {},
   "outputs": [
    {
     "name": "stdout",
     "output_type": "stream",
     "text": [
      "+------------+-----------+------------+-----------+----------+\n",
      "|sepal_length|sepal_width|petal_length|petal_width|   species|\n",
      "+------------+-----------+------------+-----------+----------+\n",
      "|         6.8|        2.8|         4.8|        1.4|versicolor|\n",
      "|         6.7|        3.0|         5.0|        1.7|versicolor|\n",
      "|         6.0|        2.9|         4.5|        1.5|versicolor|\n",
      "|         5.7|        2.6|         3.5|        1.0|versicolor|\n",
      "|         5.5|        2.4|         3.8|        1.1|versicolor|\n",
      "|         5.5|        2.4|         3.7|        1.0|versicolor|\n",
      "|         5.8|        2.7|         3.9|        1.2|versicolor|\n",
      "|         6.0|        2.7|         5.1|        1.6|versicolor|\n",
      "|         5.4|        3.0|         4.5|        1.5|versicolor|\n",
      "|         6.0|        3.4|         4.5|        1.6|versicolor|\n",
      "|         6.7|        3.1|         4.7|        1.5|versicolor|\n",
      "|         6.3|        2.3|         4.4|        1.3|versicolor|\n",
      "|         5.6|        3.0|         4.1|        1.3|versicolor|\n",
      "|         5.5|        2.5|         4.0|        1.3|versicolor|\n",
      "|         5.5|        2.6|         4.4|        1.2|versicolor|\n",
      "|         6.1|        3.0|         4.6|        1.4|versicolor|\n",
      "|         5.8|        2.6|         4.0|        1.2|versicolor|\n",
      "|         5.0|        2.3|         3.3|        1.0|versicolor|\n",
      "|         5.6|        2.7|         4.2|        1.3|versicolor|\n",
      "|         5.7|        3.0|         4.2|        1.2|versicolor|\n",
      "+------------+-----------+------------+-----------+----------+\n",
      "only showing top 20 rows\n",
      "\n",
      "CPU times: user 3.97 ms, sys: 0 ns, total: 3.97 ms\n",
      "Wall time: 2.38 s\n"
     ]
    }
   ],
   "source": [
    "%%time\n",
    "# DataFrame-APIから永続テーブルに保存\n",
    "df_iris.write.saveAsTable(\"tmp.iris\")\n",
    "\n",
    "spark.sql(\"\"\"\n",
    "select * from tmp.iris\n",
    "\"\"\").show()"
   ]
  },
  {
   "cell_type": "markdown",
   "metadata": {},
   "source": [
    "- ちゃんと指定した場所にHiveのDBとmetastore_db(derby)両方が設定されていることを確認\n",
    "    - https://www.ibm.com/support/knowledgecenter/en/SS3H8V_1.1.0/com.ibm.izoda.v1r1.azka100/topics/azkic_t_updconfigfiles.htm"
   ]
  },
  {
   "cell_type": "markdown",
   "metadata": {},
   "source": [
    "- データベース生成"
   ]
  },
  {
   "cell_type": "code",
   "execution_count": 6,
   "metadata": {},
   "outputs": [
    {
     "data": {
      "text/plain": [
       "DataFrame[]"
      ]
     },
     "execution_count": 6,
     "metadata": {},
     "output_type": "execute_result"
    }
   ],
   "source": [
    "spark.sql(\"\"\"\n",
    "create database if not exists sns\n",
    "\"\"\")"
   ]
  },
  {
   "cell_type": "markdown",
   "metadata": {},
   "source": [
    "- `/path/to/spark-datawarehouse/sns.db/`が生成される"
   ]
  },
  {
   "cell_type": "code",
   "execution_count": 7,
   "metadata": {},
   "outputs": [
    {
     "data": {
      "text/plain": [
       "DataFrame[]"
      ]
     },
     "execution_count": 7,
     "metadata": {},
     "output_type": "execute_result"
    }
   ],
   "source": [
    "spark.sql(\"\"\"\n",
    "create database if not exists ext\n",
    "location '/home/jovyan/work/hive-db/spark-warehouse/ext.db'\n",
    "\"\"\")"
   ]
  },
  {
   "cell_type": "code",
   "execution_count": 8,
   "metadata": {},
   "outputs": [
    {
     "name": "stderr",
     "output_type": "stream",
     "text": [
      "/home/jovyan/.local/lib/python3.7/site-packages/pyarrow/__init__.py:157: UserWarning: pyarrow.open_stream is deprecated, please use pyarrow.ipc.open_stream\n",
      "  warnings.warn(\"pyarrow.open_stream is deprecated, please use \"\n"
     ]
    },
    {
     "data": {
      "text/html": [
       "<div>\n",
       "<style scoped>\n",
       "    .dataframe tbody tr th:only-of-type {\n",
       "        vertical-align: middle;\n",
       "    }\n",
       "\n",
       "    .dataframe tbody tr th {\n",
       "        vertical-align: top;\n",
       "    }\n",
       "\n",
       "    .dataframe thead th {\n",
       "        text-align: right;\n",
       "    }\n",
       "</style>\n",
       "<table border=\"1\" class=\"dataframe\">\n",
       "  <thead>\n",
       "    <tr style=\"text-align: right;\">\n",
       "      <th></th>\n",
       "      <th>database_description_item</th>\n",
       "      <th>database_description_value</th>\n",
       "    </tr>\n",
       "  </thead>\n",
       "  <tbody>\n",
       "    <tr>\n",
       "      <th>0</th>\n",
       "      <td>Database Name</td>\n",
       "      <td>ext</td>\n",
       "    </tr>\n",
       "    <tr>\n",
       "      <th>1</th>\n",
       "      <td>Description</td>\n",
       "      <td></td>\n",
       "    </tr>\n",
       "    <tr>\n",
       "      <th>2</th>\n",
       "      <td>Location</td>\n",
       "      <td>file:/home/jovyan/work/hive-db/spark-warehouse...</td>\n",
       "    </tr>\n",
       "  </tbody>\n",
       "</table>\n",
       "</div>"
      ],
      "text/plain": [
       "  database_description_item                         database_description_value\n",
       "0             Database Name                                                ext\n",
       "1               Description                                                   \n",
       "2                  Location  file:/home/jovyan/work/hive-db/spark-warehouse..."
      ]
     },
     "execution_count": 8,
     "metadata": {},
     "output_type": "execute_result"
    }
   ],
   "source": [
    "spark.sql(\"\"\"\n",
    "describe database ext\n",
    "\"\"\").toPandas()"
   ]
  },
  {
   "cell_type": "code",
   "execution_count": 9,
   "metadata": {},
   "outputs": [
    {
     "name": "stdout",
     "output_type": "stream",
     "text": [
      "+------------+\n",
      "|databaseName|\n",
      "+------------+\n",
      "|     default|\n",
      "|         ext|\n",
      "|         sns|\n",
      "|         tmp|\n",
      "+------------+\n",
      "\n"
     ]
    }
   ],
   "source": [
    "spark.sql(\"\"\"\n",
    "show databases\n",
    "\"\"\").show()"
   ]
  },
  {
   "cell_type": "code",
   "execution_count": 17,
   "metadata": {},
   "outputs": [],
   "source": [
    "#spark.sql(\"drop database ext\") 削除"
   ]
  },
  {
   "cell_type": "code",
   "execution_count": 13,
   "metadata": {},
   "outputs": [
    {
     "name": "stdout",
     "output_type": "stream",
     "text": [
      "+------------+-----------+------------+-----------+----------+\n",
      "|sepal_length|sepal_width|petal_length|petal_width|   species|\n",
      "+------------+-----------+------------+-----------+----------+\n",
      "|         6.8|        2.8|         4.8|        1.4|versicolor|\n",
      "|         6.7|        3.0|         5.0|        1.7|versicolor|\n",
      "|         6.0|        2.9|         4.5|        1.5|versicolor|\n",
      "|         5.7|        2.6|         3.5|        1.0|versicolor|\n",
      "|         5.5|        2.4|         3.8|        1.1|versicolor|\n",
      "|         5.5|        2.4|         3.7|        1.0|versicolor|\n",
      "|         5.8|        2.7|         3.9|        1.2|versicolor|\n",
      "|         6.0|        2.7|         5.1|        1.6|versicolor|\n",
      "|         5.4|        3.0|         4.5|        1.5|versicolor|\n",
      "|         6.0|        3.4|         4.5|        1.6|versicolor|\n",
      "|         6.7|        3.1|         4.7|        1.5|versicolor|\n",
      "|         6.3|        2.3|         4.4|        1.3|versicolor|\n",
      "|         5.6|        3.0|         4.1|        1.3|versicolor|\n",
      "|         5.5|        2.5|         4.0|        1.3|versicolor|\n",
      "|         5.5|        2.6|         4.4|        1.2|versicolor|\n",
      "|         6.1|        3.0|         4.6|        1.4|versicolor|\n",
      "|         5.8|        2.6|         4.0|        1.2|versicolor|\n",
      "|         5.0|        2.3|         3.3|        1.0|versicolor|\n",
      "|         5.6|        2.7|         4.2|        1.3|versicolor|\n",
      "|         5.7|        3.0|         4.2|        1.2|versicolor|\n",
      "+------------+-----------+------------+-----------+----------+\n",
      "only showing top 20 rows\n",
      "\n"
     ]
    }
   ],
   "source": [
    "spark.sql(\"\"\"\n",
    "create table if not exists sns.iris_3\n",
    "using orc\n",
    "options (\"compression\"=\"zlib\")\n",
    "as select * from tmp.iris\n",
    "\"\"\")\n",
    "\n",
    "spark.sql(\"\"\"\n",
    "select * from sns.iris_3\n",
    "\"\"\").show()"
   ]
  },
  {
   "cell_type": "code",
   "execution_count": 15,
   "metadata": {},
   "outputs": [
    {
     "name": "stdout",
     "output_type": "stream",
     "text": [
      "+------------+---------+-------+\n",
      "|    col_name|data_type|comment|\n",
      "+------------+---------+-------+\n",
      "|sepal_length|   double|   null|\n",
      "| sepal_width|   double|   null|\n",
      "|petal_length|   double|   null|\n",
      "| petal_width|   double|   null|\n",
      "|     species|   string|   null|\n",
      "+------------+---------+-------+\n",
      "\n"
     ]
    }
   ],
   "source": [
    "spark.sql(\"\"\"\n",
    "describe table sns.iris_3\n",
    "\"\"\").show()"
   ]
  },
  {
   "cell_type": "code",
   "execution_count": null,
   "metadata": {},
   "outputs": [],
   "source": []
  },
  {
   "cell_type": "code",
   "execution_count": null,
   "metadata": {},
   "outputs": [],
   "source": []
  },
  {
   "cell_type": "code",
   "execution_count": null,
   "metadata": {},
   "outputs": [],
   "source": []
  }
 ],
 "metadata": {
  "kernelspec": {
   "display_name": "Python 3",
   "language": "python",
   "name": "python3"
  },
  "language_info": {
   "codemirror_mode": {
    "name": "ipython",
    "version": 3
   },
   "file_extension": ".py",
   "mimetype": "text/x-python",
   "name": "python",
   "nbconvert_exporter": "python",
   "pygments_lexer": "ipython3",
   "version": "3.7.6"
  }
 },
 "nbformat": 4,
 "nbformat_minor": 4
}
