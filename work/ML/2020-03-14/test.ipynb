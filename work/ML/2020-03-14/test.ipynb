{
 "cells": [
  {
   "cell_type": "markdown",
   "metadata": {},
   "source": [
    "# Machine-Learning\n",
    "\n",
    "- 各手法の学習やまとめ\n",
    "\n",
    "---\n",
    "\n",
    "## Useful Links\n",
    "\n",
    "### optuna\n",
    "- https://qiita.com/studio_haneya/items/2dc3ba9d7cafa36ddffa\n",
    "- https://qiita.com/koshian2/items/1c0f781d244a6046b83e\n",
    "- https://qiita.com/hideki/items/c09242639fd74abe73a0\n",
    "- https://tech.preferred.jp/ja/blog/hyperparameter-tuning-with-optuna-integration-lightgbm-tuner/\n",
    "- https://qiita.com/tjmnmn/items/dee7f7e61328e6dd93f7"
   ]
  },
  {
   "cell_type": "code",
   "execution_count": 1,
   "metadata": {},
   "outputs": [],
   "source": [
    "from pyspark.sql import SparkSession\n",
    "\n",
    "spark = SparkSession.builder.enableHiveSupport().getOrCreate()"
   ]
  },
  {
   "cell_type": "code",
   "execution_count": 2,
   "metadata": {},
   "outputs": [],
   "source": [
    "import numpy as np\n",
    "import pandas as pd\n",
    "import dask.dataframe as dd\n",
    "import seaborn as sns\n",
    "import tensorflow as tf\n",
    "from tensorflow import keras"
   ]
  },
  {
   "cell_type": "code",
   "execution_count": 3,
   "metadata": {},
   "outputs": [],
   "source": [
    "import xgboost as xgb\n",
    "import lightgbm as lgb"
   ]
  },
  {
   "cell_type": "code",
   "execution_count": 4,
   "metadata": {},
   "outputs": [],
   "source": [
    "from sklearn.svm import SVR\n",
    "from sklearn.ensemble import RandomForestRegressor\n",
    "from sklearn.datasets import load_boston\n",
    "from sklearn.model_selection import GridSearchCV\n",
    "from sklearn.model_selection import train_test_split\n",
    "from sklearn.model_selection import cross_val_predict, cross_val_score, cross_validate\n",
    "from sklearn import metrics\n",
    "from sklearn.metrics import mean_squared_error\n",
    "from sklearn.metrics import mean_absolute_error\n",
    "from sklearn.metrics import r2_score\n",
    "from sklearn.pipeline import make_pipeline\n",
    "from sklearn.pipeline import Pipeline\n",
    "from sklearn.preprocessing import OneHotEncoder\n",
    "from sklearn.preprocessing import normalize\n",
    "from sklearn.preprocessing import StandardScaler\n",
    "from sklearn.impute import SimpleImputer"
   ]
  },
  {
   "cell_type": "code",
   "execution_count": 5,
   "metadata": {},
   "outputs": [],
   "source": [
    "import umap\n",
    "import optuna"
   ]
  },
  {
   "cell_type": "code",
   "execution_count": 6,
   "metadata": {},
   "outputs": [],
   "source": [
    "import matplotlib as mpl\n",
    "import matplotlib.pyplot as plt"
   ]
  },
  {
   "cell_type": "code",
   "execution_count": null,
   "metadata": {},
   "outputs": [],
   "source": []
  },
  {
   "cell_type": "markdown",
   "metadata": {},
   "source": [
    "- TestData"
   ]
  },
  {
   "cell_type": "code",
   "execution_count": 21,
   "metadata": {},
   "outputs": [],
   "source": [
    "boston = load_boston()\n",
    "X, y = boston[\"data\"], boston[\"target\"]\n",
    "X_train, X_test, y_train, y_test = train_test_split(X, y, test_size=0.2, random_state=10)\n",
    "X_train, X_val, y_train, y_val = train_test_split(X_train, y_train, test_size=0.25, random_state=12)\n",
    "\n",
    "scaler = StandardScaler()\n",
    "X_train = scaler.fit_transform(X_train)\n",
    "X_val = scaler.transform(X_val)\n",
    "X_test = scaler.transform(X_test)"
   ]
  },
  {
   "cell_type": "code",
   "execution_count": null,
   "metadata": {},
   "outputs": [],
   "source": []
  },
  {
   "cell_type": "code",
   "execution_count": 22,
   "metadata": {},
   "outputs": [],
   "source": [
    "def objective(trial):\n",
    "    svr_c = trial.suggest_loguniform('svr_c', 1e0, 1e2)\n",
    "    epsilon = trial.suggest_loguniform('epsilon', 1e-1, 1e1)\n",
    "    svr = SVR(C=svr_c, epsilon=epsilon)\n",
    "    svr.fit(X_train, y_train)\n",
    "    y_pred = svr.predict(X_val)\n",
    "    return mean_squared_error(y_val, y_pred)"
   ]
  },
  {
   "cell_type": "code",
   "execution_count": 33,
   "metadata": {},
   "outputs": [],
   "source": [
    "# verbose\n",
    "optuna.logging.set_verbosity(\"WARN\")"
   ]
  },
  {
   "cell_type": "code",
   "execution_count": 34,
   "metadata": {},
   "outputs": [
    {
     "name": "stdout",
     "output_type": "stream",
     "text": [
      "{'svr_c': 47.80312057103909, 'epsilon': 0.5295153347987208}\n",
      "14.51025611692636\n",
      "FrozenTrial(number=69, value=14.51025611692636, datetime_start=datetime.datetime(2020, 3, 14, 14, 30, 36, 64107), datetime_complete=datetime.datetime(2020, 3, 14, 14, 30, 37, 224403), params={'svr_c': 47.80312057103909, 'epsilon': 0.5295153347987208}, distributions={'svr_c': LogUniformDistribution(high=100.0, low=1.0), 'epsilon': LogUniformDistribution(high=10.0, low=0.1)}, user_attrs={}, system_attrs={'_number': 69}, intermediate_values={}, trial_id=69, state=TrialState.COMPLETE)\n",
      "CPU times: user 22.1 s, sys: 405 ms, total: 22.5 s\n",
      "Wall time: 20.2 s\n"
     ]
    }
   ],
   "source": [
    "%%time\n",
    "# optuna\n",
    "study = optuna.create_study()\n",
    "study.optimize(objective, n_trials=100, n_jobs=-1, )\n",
    "\n",
    "# 最適解\n",
    "print(study.best_params)\n",
    "print(study.best_value)\n",
    "print(study.best_trial)\n"
   ]
  },
  {
   "cell_type": "code",
   "execution_count": 28,
   "metadata": {},
   "outputs": [
    {
     "data": {
      "text/plain": [
       "'1.1.0'"
      ]
     },
     "execution_count": 28,
     "metadata": {},
     "output_type": "execute_result"
    }
   ],
   "source": [
    "optuna.__version__"
   ]
  },
  {
   "cell_type": "code",
   "execution_count": 36,
   "metadata": {},
   "outputs": [
    {
     "data": {
      "text/html": [
       "<div>\n",
       "<style scoped>\n",
       "    .dataframe tbody tr th:only-of-type {\n",
       "        vertical-align: middle;\n",
       "    }\n",
       "\n",
       "    .dataframe tbody tr th {\n",
       "        vertical-align: top;\n",
       "    }\n",
       "\n",
       "    .dataframe thead th {\n",
       "        text-align: right;\n",
       "    }\n",
       "</style>\n",
       "<table border=\"1\" class=\"dataframe\">\n",
       "  <thead>\n",
       "    <tr style=\"text-align: right;\">\n",
       "      <th></th>\n",
       "      <th>number</th>\n",
       "      <th>value</th>\n",
       "      <th>datetime_start</th>\n",
       "      <th>datetime_complete</th>\n",
       "      <th>params_epsilon</th>\n",
       "      <th>params_svr_c</th>\n",
       "      <th>system_attrs__number</th>\n",
       "      <th>state</th>\n",
       "    </tr>\n",
       "  </thead>\n",
       "  <tbody>\n",
       "    <tr>\n",
       "      <th>0</th>\n",
       "      <td>0</td>\n",
       "      <td>20.087987</td>\n",
       "      <td>2020-03-14 14:30:22.709442</td>\n",
       "      <td>2020-03-14 14:30:23.649268</td>\n",
       "      <td>0.178525</td>\n",
       "      <td>6.077787</td>\n",
       "      <td>0</td>\n",
       "      <td>COMPLETE</td>\n",
       "    </tr>\n",
       "    <tr>\n",
       "      <th>1</th>\n",
       "      <td>1</td>\n",
       "      <td>29.835038</td>\n",
       "      <td>2020-03-14 14:30:22.710828</td>\n",
       "      <td>2020-03-14 14:30:22.918425</td>\n",
       "      <td>4.760041</td>\n",
       "      <td>3.392961</td>\n",
       "      <td>1</td>\n",
       "      <td>COMPLETE</td>\n",
       "    </tr>\n",
       "    <tr>\n",
       "      <th>2</th>\n",
       "      <td>2</td>\n",
       "      <td>18.125181</td>\n",
       "      <td>2020-03-14 14:30:22.713083</td>\n",
       "      <td>2020-03-14 14:30:23.106981</td>\n",
       "      <td>0.508322</td>\n",
       "      <td>9.718897</td>\n",
       "      <td>2</td>\n",
       "      <td>COMPLETE</td>\n",
       "    </tr>\n",
       "    <tr>\n",
       "      <th>3</th>\n",
       "      <td>3</td>\n",
       "      <td>25.521729</td>\n",
       "      <td>2020-03-14 14:30:22.918917</td>\n",
       "      <td>2020-03-14 14:30:23.466589</td>\n",
       "      <td>2.670597</td>\n",
       "      <td>2.943728</td>\n",
       "      <td>3</td>\n",
       "      <td>COMPLETE</td>\n",
       "    </tr>\n",
       "    <tr>\n",
       "      <th>4</th>\n",
       "      <td>4</td>\n",
       "      <td>15.282329</td>\n",
       "      <td>2020-03-14 14:30:22.920275</td>\n",
       "      <td>2020-03-14 14:30:23.463948</td>\n",
       "      <td>1.975581</td>\n",
       "      <td>43.424663</td>\n",
       "      <td>4</td>\n",
       "      <td>COMPLETE</td>\n",
       "    </tr>\n",
       "    <tr>\n",
       "      <th>...</th>\n",
       "      <td>...</td>\n",
       "      <td>...</td>\n",
       "      <td>...</td>\n",
       "      <td>...</td>\n",
       "      <td>...</td>\n",
       "      <td>...</td>\n",
       "      <td>...</td>\n",
       "      <td>...</td>\n",
       "    </tr>\n",
       "    <tr>\n",
       "      <th>95</th>\n",
       "      <td>95</td>\n",
       "      <td>14.549767</td>\n",
       "      <td>2020-03-14 14:30:41.210120</td>\n",
       "      <td>2020-03-14 14:30:42.197917</td>\n",
       "      <td>0.406272</td>\n",
       "      <td>55.251462</td>\n",
       "      <td>95</td>\n",
       "      <td>COMPLETE</td>\n",
       "    </tr>\n",
       "    <tr>\n",
       "      <th>96</th>\n",
       "      <td>96</td>\n",
       "      <td>14.569879</td>\n",
       "      <td>2020-03-14 14:30:41.391612</td>\n",
       "      <td>2020-03-14 14:30:41.656432</td>\n",
       "      <td>0.369337</td>\n",
       "      <td>56.391512</td>\n",
       "      <td>96</td>\n",
       "      <td>COMPLETE</td>\n",
       "    </tr>\n",
       "    <tr>\n",
       "      <th>97</th>\n",
       "      <td>97</td>\n",
       "      <td>14.528322</td>\n",
       "      <td>2020-03-14 14:30:41.656957</td>\n",
       "      <td>2020-03-14 14:30:42.792988</td>\n",
       "      <td>0.505399</td>\n",
       "      <td>52.096430</td>\n",
       "      <td>97</td>\n",
       "      <td>COMPLETE</td>\n",
       "    </tr>\n",
       "    <tr>\n",
       "      <th>98</th>\n",
       "      <td>98</td>\n",
       "      <td>14.521673</td>\n",
       "      <td>2020-03-14 14:30:42.197034</td>\n",
       "      <td>2020-03-14 14:30:42.792472</td>\n",
       "      <td>0.483532</td>\n",
       "      <td>51.438979</td>\n",
       "      <td>98</td>\n",
       "      <td>COMPLETE</td>\n",
       "    </tr>\n",
       "    <tr>\n",
       "      <th>99</th>\n",
       "      <td>99</td>\n",
       "      <td>14.519688</td>\n",
       "      <td>2020-03-14 14:30:42.198180</td>\n",
       "      <td>2020-03-14 14:30:42.431218</td>\n",
       "      <td>0.470245</td>\n",
       "      <td>50.452585</td>\n",
       "      <td>99</td>\n",
       "      <td>COMPLETE</td>\n",
       "    </tr>\n",
       "  </tbody>\n",
       "</table>\n",
       "<p>100 rows × 8 columns</p>\n",
       "</div>"
      ],
      "text/plain": [
       "    number      value             datetime_start          datetime_complete  \\\n",
       "0        0  20.087987 2020-03-14 14:30:22.709442 2020-03-14 14:30:23.649268   \n",
       "1        1  29.835038 2020-03-14 14:30:22.710828 2020-03-14 14:30:22.918425   \n",
       "2        2  18.125181 2020-03-14 14:30:22.713083 2020-03-14 14:30:23.106981   \n",
       "3        3  25.521729 2020-03-14 14:30:22.918917 2020-03-14 14:30:23.466589   \n",
       "4        4  15.282329 2020-03-14 14:30:22.920275 2020-03-14 14:30:23.463948   \n",
       "..     ...        ...                        ...                        ...   \n",
       "95      95  14.549767 2020-03-14 14:30:41.210120 2020-03-14 14:30:42.197917   \n",
       "96      96  14.569879 2020-03-14 14:30:41.391612 2020-03-14 14:30:41.656432   \n",
       "97      97  14.528322 2020-03-14 14:30:41.656957 2020-03-14 14:30:42.792988   \n",
       "98      98  14.521673 2020-03-14 14:30:42.197034 2020-03-14 14:30:42.792472   \n",
       "99      99  14.519688 2020-03-14 14:30:42.198180 2020-03-14 14:30:42.431218   \n",
       "\n",
       "    params_epsilon  params_svr_c  system_attrs__number     state  \n",
       "0         0.178525      6.077787                     0  COMPLETE  \n",
       "1         4.760041      3.392961                     1  COMPLETE  \n",
       "2         0.508322      9.718897                     2  COMPLETE  \n",
       "3         2.670597      2.943728                     3  COMPLETE  \n",
       "4         1.975581     43.424663                     4  COMPLETE  \n",
       "..             ...           ...                   ...       ...  \n",
       "95        0.406272     55.251462                    95  COMPLETE  \n",
       "96        0.369337     56.391512                    96  COMPLETE  \n",
       "97        0.505399     52.096430                    97  COMPLETE  \n",
       "98        0.483532     51.438979                    98  COMPLETE  \n",
       "99        0.470245     50.452585                    99  COMPLETE  \n",
       "\n",
       "[100 rows x 8 columns]"
      ]
     },
     "execution_count": 36,
     "metadata": {},
     "output_type": "execute_result"
    }
   ],
   "source": [
    "study.trials_dataframe()"
   ]
  },
  {
   "cell_type": "code",
   "execution_count": 37,
   "metadata": {},
   "outputs": [],
   "source": [
    "spark.createDataFrame(study.trials_dataframe()).createOrReplaceTempView(\"optimize_log\")"
   ]
  },
  {
   "cell_type": "code",
   "execution_count": 39,
   "metadata": {},
   "outputs": [],
   "source": [
    "spark.table(\"optimize_log\").cache()\n",
    "df = spark.table(\"optimize_log\")"
   ]
  },
  {
   "cell_type": "code",
   "execution_count": 43,
   "metadata": {},
   "outputs": [
    {
     "data": {
      "text/plain": [
       "FrozenTrial(number=69, value=14.51025611692636, datetime_start=datetime.datetime(2020, 3, 14, 14, 30, 36, 64107), datetime_complete=datetime.datetime(2020, 3, 14, 14, 30, 37, 224403), params={'svr_c': 47.80312057103909, 'epsilon': 0.5295153347987208}, distributions={'svr_c': LogUniformDistribution(high=100.0, low=1.0), 'epsilon': LogUniformDistribution(high=10.0, low=0.1)}, user_attrs={}, system_attrs={'_number': 69}, intermediate_values={}, trial_id=69, state=TrialState.COMPLETE)"
      ]
     },
     "execution_count": 43,
     "metadata": {},
     "output_type": "execute_result"
    }
   ],
   "source": [
    "study.best_trial"
   ]
  },
  {
   "cell_type": "code",
   "execution_count": 45,
   "metadata": {},
   "outputs": [],
   "source": [
    "boston = load_boston()\n",
    "X, y = boston[\"data\"], boston[\"target\"]\n",
    "X_train, X_test, y_train, y_test = train_test_split(X, y, test_size=0.2, random_state=10)\n",
    "X_train = scaler.transform(X_train)\n",
    "X_test = scaler.transform(X_test)"
   ]
  },
  {
   "cell_type": "code",
   "execution_count": 46,
   "metadata": {},
   "outputs": [
    {
     "data": {
      "text/plain": [
       "SVR(C=47.80312057103909, cache_size=200, coef0=0.0, degree=3,\n",
       "    epsilon=0.5295153347987208, gamma='scale', kernel='rbf', max_iter=-1,\n",
       "    shrinking=True, tol=0.001, verbose=False)"
      ]
     },
     "execution_count": 46,
     "metadata": {},
     "output_type": "execute_result"
    }
   ],
   "source": [
    "svr_opt = SVR(C=47.80312057103909, epsilon=0.5295153347987208)\n",
    "svr_opt.fit(X_train, y_train)"
   ]
  },
  {
   "cell_type": "code",
   "execution_count": 50,
   "metadata": {},
   "outputs": [
    {
     "data": {
      "text/plain": [
       "0.9399058998449586"
      ]
     },
     "execution_count": 50,
     "metadata": {},
     "output_type": "execute_result"
    }
   ],
   "source": [
    "y_val = svr_opt.predict(X_train)\n",
    "r2_score(y_pred=y_val, y_true=y_train)"
   ]
  },
  {
   "cell_type": "code",
   "execution_count": 51,
   "metadata": {},
   "outputs": [
    {
     "data": {
      "text/plain": [
       "0.882693351850568"
      ]
     },
     "execution_count": 51,
     "metadata": {},
     "output_type": "execute_result"
    }
   ],
   "source": [
    "y_pred = svr_opt.predict(X_test)\n",
    "r2_score(y_pred=y_pred, y_true=y_test)"
   ]
  },
  {
   "cell_type": "code",
   "execution_count": 123,
   "metadata": {},
   "outputs": [
    {
     "data": {
      "text/plain": [
       "<matplotlib.axes._subplots.AxesSubplot at 0x7f8d741fb8d0>"
      ]
     },
     "execution_count": 123,
     "metadata": {},
     "output_type": "execute_result"
    },
    {
     "data": {
      "image/png": "[encoded data removed]",
      "text/plain": [
       "<Figure size 432x288 with 1 Axes>"
      ]
     },
     "metadata": {
      "needs_background": "light"
     },
     "output_type": "display_data"
    }
   ],
   "source": [
    "pd.DataFrame({\n",
    "    \"pred\": svr_opt.predict(X_test),\n",
    "    \"true\": y_test,\n",
    "}).plot.scatter(\"pred\", \"true\")"
   ]
  },
  {
   "cell_type": "code",
   "execution_count": null,
   "metadata": {},
   "outputs": [],
   "source": []
  },
  {
   "cell_type": "code",
   "execution_count": null,
   "metadata": {},
   "outputs": [],
   "source": []
  },
  {
   "cell_type": "code",
   "execution_count": 52,
   "metadata": {},
   "outputs": [],
   "source": [
    "rfr = RandomForestRegressor()"
   ]
  },
  {
   "cell_type": "code",
   "execution_count": 53,
   "metadata": {},
   "outputs": [
    {
     "data": {
      "text/plain": [
       "RandomForestRegressor(bootstrap=True, ccp_alpha=0.0, criterion='mse',\n",
       "                      max_depth=None, max_features='auto', max_leaf_nodes=None,\n",
       "                      max_samples=None, min_impurity_decrease=0.0,\n",
       "                      min_impurity_split=None, min_samples_leaf=1,\n",
       "                      min_samples_split=2, min_weight_fraction_leaf=0.0,\n",
       "                      n_estimators=100, n_jobs=None, oob_score=False,\n",
       "                      random_state=None, verbose=0, warm_start=False)"
      ]
     },
     "execution_count": 53,
     "metadata": {},
     "output_type": "execute_result"
    }
   ],
   "source": [
    "rfr.fit(X_train, y_train)"
   ]
  },
  {
   "cell_type": "code",
   "execution_count": 54,
   "metadata": {},
   "outputs": [
    {
     "data": {
      "text/plain": [
       "array([0.03345978, 0.00052275, 0.00500824, 0.00118949, 0.02178318,\n",
       "       0.35730612, 0.01243488, 0.06231122, 0.00508474, 0.0122527 ,\n",
       "       0.01137513, 0.01542766, 0.46184412])"
      ]
     },
     "execution_count": 54,
     "metadata": {},
     "output_type": "execute_result"
    }
   ],
   "source": [
    "rfr.feature_importances_"
   ]
  },
  {
   "cell_type": "code",
   "execution_count": 55,
   "metadata": {},
   "outputs": [
    {
     "data": {
      "text/plain": [
       "0.9792091122687117"
      ]
     },
     "execution_count": 55,
     "metadata": {},
     "output_type": "execute_result"
    }
   ],
   "source": [
    "r2_score(y_pred=rfr.predict(X_train), y_true=y_train)"
   ]
  },
  {
   "cell_type": "code",
   "execution_count": 56,
   "metadata": {},
   "outputs": [
    {
     "data": {
      "text/plain": [
       "0.8567816927561908"
      ]
     },
     "execution_count": 56,
     "metadata": {},
     "output_type": "execute_result"
    }
   ],
   "source": [
    "r2_score(y_pred=rfr.predict(X_test), y_true=y_test)"
   ]
  },
  {
   "cell_type": "code",
   "execution_count": 70,
   "metadata": {},
   "outputs": [],
   "source": [
    "reg = RandomForestRegressor()"
   ]
  },
  {
   "cell_type": "code",
   "execution_count": 71,
   "metadata": {},
   "outputs": [
    {
     "data": {
      "text/plain": [
       "array([0.75192882, 0.83142657, 0.71077727, 0.6926323 , 0.04426712])"
      ]
     },
     "execution_count": 71,
     "metadata": {},
     "output_type": "execute_result"
    }
   ],
   "source": [
    "cross_val_score(reg, X=X_test, y=y_test, scoring=\"r2\", cv=5)"
   ]
  },
  {
   "cell_type": "code",
   "execution_count": 73,
   "metadata": {},
   "outputs": [
    {
     "data": {
      "text/plain": [
       "array([-2.7060e+00, -5.9900e-01,  5.8850e+00, -1.2360e+00, -7.2200e-01,\n",
       "        1.9360e+00, -3.7130e+00,  3.2530e+00,  1.0730e+00,  8.7550e+00,\n",
       "       -2.3800e-01, -5.1100e-01, -1.2689e+01,  6.0900e-01, -4.4300e-01,\n",
       "       -7.8910e+00,  6.0550e+00, -7.1060e+00, -9.2200e-01,  3.7530e+00,\n",
       "       -4.0140e+00, -1.3170e+00,  3.8910e+00, -8.6300e-01, -2.4180e+00,\n",
       "        2.5430e+00, -1.0240e+01, -1.7300e-01, -3.4680e+00, -7.9020e+00,\n",
       "       -6.2500e-01, -1.3880e+00,  1.7080e+00, -2.5400e-01, -6.8600e-01,\n",
       "        1.3900e+00,  3.9720e+00, -6.7140e+00,  3.5860e+00,  2.0510e+00,\n",
       "       -5.8610e+00, -3.2300e+00,  1.6390e+00,  1.6240e+00,  4.7040e+00,\n",
       "        2.9250e+00, -3.6610e+00, -5.3630e+00, -2.8600e+00,  2.1350e+00,\n",
       "       -2.6030e+00,  2.0710e+00, -3.6650e+00, -2.5520e+00,  5.9870e+00,\n",
       "        2.5730e+00,  7.7300e-01, -5.2080e+00,  4.9120e+00,  1.7251e+01,\n",
       "       -1.2950e+00, -6.0900e-01, -7.5200e+00, -8.9020e+00, -4.5760e+00,\n",
       "       -9.9500e-01,  1.2180e+00,  2.5920e+00, -2.8730e+00, -1.1080e+00,\n",
       "        1.9880e+00, -1.6410e+00, -1.4160e+00, -2.6708e+01, -4.2880e+00,\n",
       "       -7.3210e+00, -6.6790e+00,  4.6310e+00,  7.4800e-01, -7.3910e+00,\n",
       "       -1.5540e+00,  3.5760e+00,  5.3820e+00,  6.0070e+00,  8.8100e+00,\n",
       "        7.0760e+00,  1.9000e-02,  3.7090e+00,  3.7070e+00,  3.4690e+00,\n",
       "        4.8790e+00,  2.5400e+00,  4.4900e+00,  1.7570e+00,  4.8300e+00,\n",
       "        6.8910e+00,  2.5570e+00, -4.1110e+00,  3.5030e+00,  1.2220e+00,\n",
       "        7.1700e-01,  1.9330e+00])"
      ]
     },
     "execution_count": 73,
     "metadata": {},
     "output_type": "execute_result"
    }
   ],
   "source": [
    "cross_val_predict(estimator=reg, X=X_test, y=y_test, cv=5, n_jobs=-1) -y_test"
   ]
  },
  {
   "cell_type": "code",
   "execution_count": null,
   "metadata": {},
   "outputs": [],
   "source": []
  },
  {
   "cell_type": "code",
   "execution_count": null,
   "metadata": {},
   "outputs": [],
   "source": []
  },
  {
   "cell_type": "code",
   "execution_count": 61,
   "metadata": {},
   "outputs": [
    {
     "name": "stdout",
     "output_type": "stream",
     "text": [
      ".. _boston_dataset:\n",
      "\n",
      "Boston house prices dataset\n",
      "---------------------------\n",
      "\n",
      "**Data Set Characteristics:**  \n",
      "\n",
      "    :Number of Instances: 506 \n",
      "\n",
      "    :Number of Attributes: 13 numeric/categorical predictive. Median Value (attribute 14) is usually the target.\n",
      "\n",
      "    :Attribute Information (in order):\n",
      "        - CRIM     per capita crime rate by town\n",
      "        - ZN       proportion of residential land zoned for lots over 25,000 sq.ft.\n",
      "        - INDUS    proportion of non-retail business acres per town\n",
      "        - CHAS     Charles River dummy variable (= 1 if tract bounds river; 0 otherwise)\n",
      "        - NOX      nitric oxides concentration (parts per 10 million)\n",
      "        - RM       average number of rooms per dwelling\n",
      "        - AGE      proportion of owner-occupied units built prior to 1940\n",
      "        - DIS      weighted distances to five Boston employment centres\n",
      "        - RAD      index of accessibility to radial highways\n",
      "        - TAX      full-value property-tax rate per $10,000\n",
      "        - PTRATIO  pupil-teacher ratio by town\n",
      "        - B        1000(Bk - 0.63)^2 where Bk is the proportion of blacks by town\n",
      "        - LSTAT    % lower status of the population\n",
      "        - MEDV     Median value of owner-occupied homes in $1000's\n",
      "\n",
      "    :Missing Attribute Values: None\n",
      "\n",
      "    :Creator: Harrison, D. and Rubinfeld, D.L.\n",
      "\n",
      "This is a copy of UCI ML housing dataset.\n",
      "https://archive.ics.uci.edu/ml/machine-learning-databases/housing/\n",
      "\n",
      "\n",
      "This dataset was taken from the StatLib library which is maintained at Carnegie Mellon University.\n",
      "\n",
      "The Boston house-price data of Harrison, D. and Rubinfeld, D.L. 'Hedonic\n",
      "prices and the demand for clean air', J. Environ. Economics & Management,\n",
      "vol.5, 81-102, 1978.   Used in Belsley, Kuh & Welsch, 'Regression diagnostics\n",
      "...', Wiley, 1980.   N.B. Various transformations are used in the table on\n",
      "pages 244-261 of the latter.\n",
      "\n",
      "The Boston house-price data has been used in many machine learning papers that address regression\n",
      "problems.   \n",
      "     \n",
      ".. topic:: References\n",
      "\n",
      "   - Belsley, Kuh & Welsch, 'Regression diagnostics: Identifying Influential Data and Sources of Collinearity', Wiley, 1980. 244-261.\n",
      "   - Quinlan,R. (1993). Combining Instance-Based and Model-Based Learning. In Proceedings on the Tenth International Conference of Machine Learning, 236-243, University of Massachusetts, Amherst. Morgan Kaufmann.\n",
      "\n"
     ]
    }
   ],
   "source": [
    "print(boston.DESCR)\n"
   ]
  },
  {
   "cell_type": "code",
   "execution_count": 64,
   "metadata": {},
   "outputs": [
    {
     "data": {
      "text/html": [
       "<div>\n",
       "<style scoped>\n",
       "    .dataframe tbody tr th:only-of-type {\n",
       "        vertical-align: middle;\n",
       "    }\n",
       "\n",
       "    .dataframe tbody tr th {\n",
       "        vertical-align: top;\n",
       "    }\n",
       "\n",
       "    .dataframe thead th {\n",
       "        text-align: right;\n",
       "    }\n",
       "</style>\n",
       "<table border=\"1\" class=\"dataframe\">\n",
       "  <thead>\n",
       "    <tr style=\"text-align: right;\">\n",
       "      <th></th>\n",
       "      <th>CRIM</th>\n",
       "      <th>ZN</th>\n",
       "      <th>INDUS</th>\n",
       "      <th>CHAS</th>\n",
       "      <th>NOX</th>\n",
       "      <th>RM</th>\n",
       "      <th>AGE</th>\n",
       "      <th>DIS</th>\n",
       "      <th>RAD</th>\n",
       "      <th>TAX</th>\n",
       "      <th>PTRATIO</th>\n",
       "      <th>B</th>\n",
       "      <th>LSTAT</th>\n",
       "      <th>target</th>\n",
       "    </tr>\n",
       "  </thead>\n",
       "  <tbody>\n",
       "    <tr>\n",
       "      <th>0</th>\n",
       "      <td>0.00632</td>\n",
       "      <td>18.0</td>\n",
       "      <td>2.31</td>\n",
       "      <td>0.0</td>\n",
       "      <td>0.538</td>\n",
       "      <td>6.575</td>\n",
       "      <td>65.2</td>\n",
       "      <td>4.0900</td>\n",
       "      <td>1.0</td>\n",
       "      <td>296.0</td>\n",
       "      <td>15.3</td>\n",
       "      <td>396.90</td>\n",
       "      <td>4.98</td>\n",
       "      <td>24.0</td>\n",
       "    </tr>\n",
       "    <tr>\n",
       "      <th>1</th>\n",
       "      <td>0.02731</td>\n",
       "      <td>0.0</td>\n",
       "      <td>7.07</td>\n",
       "      <td>0.0</td>\n",
       "      <td>0.469</td>\n",
       "      <td>6.421</td>\n",
       "      <td>78.9</td>\n",
       "      <td>4.9671</td>\n",
       "      <td>2.0</td>\n",
       "      <td>242.0</td>\n",
       "      <td>17.8</td>\n",
       "      <td>396.90</td>\n",
       "      <td>9.14</td>\n",
       "      <td>21.6</td>\n",
       "    </tr>\n",
       "    <tr>\n",
       "      <th>2</th>\n",
       "      <td>0.02729</td>\n",
       "      <td>0.0</td>\n",
       "      <td>7.07</td>\n",
       "      <td>0.0</td>\n",
       "      <td>0.469</td>\n",
       "      <td>7.185</td>\n",
       "      <td>61.1</td>\n",
       "      <td>4.9671</td>\n",
       "      <td>2.0</td>\n",
       "      <td>242.0</td>\n",
       "      <td>17.8</td>\n",
       "      <td>392.83</td>\n",
       "      <td>4.03</td>\n",
       "      <td>34.7</td>\n",
       "    </tr>\n",
       "    <tr>\n",
       "      <th>3</th>\n",
       "      <td>0.03237</td>\n",
       "      <td>0.0</td>\n",
       "      <td>2.18</td>\n",
       "      <td>0.0</td>\n",
       "      <td>0.458</td>\n",
       "      <td>6.998</td>\n",
       "      <td>45.8</td>\n",
       "      <td>6.0622</td>\n",
       "      <td>3.0</td>\n",
       "      <td>222.0</td>\n",
       "      <td>18.7</td>\n",
       "      <td>394.63</td>\n",
       "      <td>2.94</td>\n",
       "      <td>33.4</td>\n",
       "    </tr>\n",
       "    <tr>\n",
       "      <th>4</th>\n",
       "      <td>0.06905</td>\n",
       "      <td>0.0</td>\n",
       "      <td>2.18</td>\n",
       "      <td>0.0</td>\n",
       "      <td>0.458</td>\n",
       "      <td>7.147</td>\n",
       "      <td>54.2</td>\n",
       "      <td>6.0622</td>\n",
       "      <td>3.0</td>\n",
       "      <td>222.0</td>\n",
       "      <td>18.7</td>\n",
       "      <td>396.90</td>\n",
       "      <td>5.33</td>\n",
       "      <td>36.2</td>\n",
       "    </tr>\n",
       "    <tr>\n",
       "      <th>...</th>\n",
       "      <td>...</td>\n",
       "      <td>...</td>\n",
       "      <td>...</td>\n",
       "      <td>...</td>\n",
       "      <td>...</td>\n",
       "      <td>...</td>\n",
       "      <td>...</td>\n",
       "      <td>...</td>\n",
       "      <td>...</td>\n",
       "      <td>...</td>\n",
       "      <td>...</td>\n",
       "      <td>...</td>\n",
       "      <td>...</td>\n",
       "      <td>...</td>\n",
       "    </tr>\n",
       "    <tr>\n",
       "      <th>501</th>\n",
       "      <td>0.06263</td>\n",
       "      <td>0.0</td>\n",
       "      <td>11.93</td>\n",
       "      <td>0.0</td>\n",
       "      <td>0.573</td>\n",
       "      <td>6.593</td>\n",
       "      <td>69.1</td>\n",
       "      <td>2.4786</td>\n",
       "      <td>1.0</td>\n",
       "      <td>273.0</td>\n",
       "      <td>21.0</td>\n",
       "      <td>391.99</td>\n",
       "      <td>9.67</td>\n",
       "      <td>22.4</td>\n",
       "    </tr>\n",
       "    <tr>\n",
       "      <th>502</th>\n",
       "      <td>0.04527</td>\n",
       "      <td>0.0</td>\n",
       "      <td>11.93</td>\n",
       "      <td>0.0</td>\n",
       "      <td>0.573</td>\n",
       "      <td>6.120</td>\n",
       "      <td>76.7</td>\n",
       "      <td>2.2875</td>\n",
       "      <td>1.0</td>\n",
       "      <td>273.0</td>\n",
       "      <td>21.0</td>\n",
       "      <td>396.90</td>\n",
       "      <td>9.08</td>\n",
       "      <td>20.6</td>\n",
       "    </tr>\n",
       "    <tr>\n",
       "      <th>503</th>\n",
       "      <td>0.06076</td>\n",
       "      <td>0.0</td>\n",
       "      <td>11.93</td>\n",
       "      <td>0.0</td>\n",
       "      <td>0.573</td>\n",
       "      <td>6.976</td>\n",
       "      <td>91.0</td>\n",
       "      <td>2.1675</td>\n",
       "      <td>1.0</td>\n",
       "      <td>273.0</td>\n",
       "      <td>21.0</td>\n",
       "      <td>396.90</td>\n",
       "      <td>5.64</td>\n",
       "      <td>23.9</td>\n",
       "    </tr>\n",
       "    <tr>\n",
       "      <th>504</th>\n",
       "      <td>0.10959</td>\n",
       "      <td>0.0</td>\n",
       "      <td>11.93</td>\n",
       "      <td>0.0</td>\n",
       "      <td>0.573</td>\n",
       "      <td>6.794</td>\n",
       "      <td>89.3</td>\n",
       "      <td>2.3889</td>\n",
       "      <td>1.0</td>\n",
       "      <td>273.0</td>\n",
       "      <td>21.0</td>\n",
       "      <td>393.45</td>\n",
       "      <td>6.48</td>\n",
       "      <td>22.0</td>\n",
       "    </tr>\n",
       "    <tr>\n",
       "      <th>505</th>\n",
       "      <td>0.04741</td>\n",
       "      <td>0.0</td>\n",
       "      <td>11.93</td>\n",
       "      <td>0.0</td>\n",
       "      <td>0.573</td>\n",
       "      <td>6.030</td>\n",
       "      <td>80.8</td>\n",
       "      <td>2.5050</td>\n",
       "      <td>1.0</td>\n",
       "      <td>273.0</td>\n",
       "      <td>21.0</td>\n",
       "      <td>396.90</td>\n",
       "      <td>7.88</td>\n",
       "      <td>11.9</td>\n",
       "    </tr>\n",
       "  </tbody>\n",
       "</table>\n",
       "<p>506 rows × 14 columns</p>\n",
       "</div>"
      ],
      "text/plain": [
       "        CRIM    ZN  INDUS  CHAS    NOX     RM   AGE     DIS  RAD    TAX  \\\n",
       "0    0.00632  18.0   2.31   0.0  0.538  6.575  65.2  4.0900  1.0  296.0   \n",
       "1    0.02731   0.0   7.07   0.0  0.469  6.421  78.9  4.9671  2.0  242.0   \n",
       "2    0.02729   0.0   7.07   0.0  0.469  7.185  61.1  4.9671  2.0  242.0   \n",
       "3    0.03237   0.0   2.18   0.0  0.458  6.998  45.8  6.0622  3.0  222.0   \n",
       "4    0.06905   0.0   2.18   0.0  0.458  7.147  54.2  6.0622  3.0  222.0   \n",
       "..       ...   ...    ...   ...    ...    ...   ...     ...  ...    ...   \n",
       "501  0.06263   0.0  11.93   0.0  0.573  6.593  69.1  2.4786  1.0  273.0   \n",
       "502  0.04527   0.0  11.93   0.0  0.573  6.120  76.7  2.2875  1.0  273.0   \n",
       "503  0.06076   0.0  11.93   0.0  0.573  6.976  91.0  2.1675  1.0  273.0   \n",
       "504  0.10959   0.0  11.93   0.0  0.573  6.794  89.3  2.3889  1.0  273.0   \n",
       "505  0.04741   0.0  11.93   0.0  0.573  6.030  80.8  2.5050  1.0  273.0   \n",
       "\n",
       "     PTRATIO       B  LSTAT  target  \n",
       "0       15.3  396.90   4.98    24.0  \n",
       "1       17.8  396.90   9.14    21.6  \n",
       "2       17.8  392.83   4.03    34.7  \n",
       "3       18.7  394.63   2.94    33.4  \n",
       "4       18.7  396.90   5.33    36.2  \n",
       "..       ...     ...    ...     ...  \n",
       "501     21.0  391.99   9.67    22.4  \n",
       "502     21.0  396.90   9.08    20.6  \n",
       "503     21.0  396.90   5.64    23.9  \n",
       "504     21.0  393.45   6.48    22.0  \n",
       "505     21.0  396.90   7.88    11.9  \n",
       "\n",
       "[506 rows x 14 columns]"
      ]
     },
     "execution_count": 64,
     "metadata": {},
     "output_type": "execute_result"
    }
   ],
   "source": [
    "df_boston = pd.DataFrame(boston.data, columns=boston.feature_names)\n",
    "df_boston[\"target\"] = boston.target\n",
    "df_boston"
   ]
  },
  {
   "cell_type": "code",
   "execution_count": 66,
   "metadata": {},
   "outputs": [],
   "source": [
    "spark.createDataFrame(df_boston).write.saveAsTable(\"sklearn.boston\", format=\"orc\", compression=\"zlib\")"
   ]
  },
  {
   "cell_type": "code",
   "execution_count": 67,
   "metadata": {},
   "outputs": [
    {
     "name": "stdout",
     "output_type": "stream",
     "text": [
      "+-------+----+-----+----+-----+-----+-----+------+---+-----+-------+------+-----+------+\n",
      "|   CRIM|  ZN|INDUS|CHAS|  NOX|   RM|  AGE|   DIS|RAD|  TAX|PTRATIO|     B|LSTAT|target|\n",
      "+-------+----+-----+----+-----+-----+-----+------+---+-----+-------+------+-----+------+\n",
      "|0.04819|80.0| 3.64| 0.0|0.392|6.108| 32.0|9.2203|1.0|315.0|   16.4|392.89| 6.57|  21.9|\n",
      "|0.03548|80.0| 3.64| 0.0|0.392|5.876| 19.1|9.2203|1.0|315.0|   16.4|395.18| 9.25|  20.9|\n",
      "|0.01538|90.0| 3.75| 0.0|0.394|7.454| 34.2|6.3361|3.0|244.0|   15.9|386.34| 3.11|  44.0|\n",
      "|0.61154|20.0| 3.97| 0.0|0.647|8.704| 86.9| 1.801|5.0|264.0|   13.0| 389.7| 5.12|  50.0|\n",
      "|0.66351|20.0| 3.97| 0.0|0.647|7.333|100.0|1.8946|5.0|264.0|   13.0|383.29| 7.79|  36.0|\n",
      "|0.65665|20.0| 3.97| 0.0|0.647|6.842|100.0|2.0107|5.0|264.0|   13.0|391.93|  6.9|  30.1|\n",
      "|0.54011|20.0| 3.97| 0.0|0.647|7.203| 81.8|2.1121|5.0|264.0|   13.0| 392.8| 9.59|  33.8|\n",
      "|0.53412|20.0| 3.97| 0.0|0.647| 7.52| 89.4|2.1398|5.0|264.0|   13.0|388.37| 7.26|  43.1|\n",
      "|0.52014|20.0| 3.97| 0.0|0.647|8.398| 91.5|2.2885|5.0|264.0|   13.0|386.86| 5.91|  48.8|\n",
      "|0.82526|20.0| 3.97| 0.0|0.647|7.327| 94.5|2.0788|5.0|264.0|   13.0|393.42|11.25|  31.0|\n",
      "|0.55007|20.0| 3.97| 0.0|0.647|7.206| 91.6|1.9301|5.0|264.0|   13.0|387.89|  8.1|  36.5|\n",
      "|0.76162|20.0| 3.97| 0.0|0.647| 5.56| 62.8|1.9865|5.0|264.0|   13.0| 392.4|10.45|  22.8|\n",
      "| 0.7857|20.0| 3.97| 0.0|0.647|7.014| 84.6|2.1329|5.0|264.0|   13.0|384.07|14.79|  30.7|\n",
      "|0.57834|20.0| 3.97| 0.0|0.575|8.297| 67.0|2.4216|5.0|264.0|   13.0|384.54| 7.44|  50.0|\n",
      "| 0.5405|20.0| 3.97| 0.0|0.575| 7.47| 52.6| 2.872|5.0|264.0|   13.0| 390.3| 3.16|  43.5|\n",
      "|0.09065|20.0| 6.96| 1.0|0.464| 5.92| 61.5|3.9175|3.0|223.0|   18.6|391.34|13.65|  20.7|\n",
      "|0.29916|20.0| 6.96| 0.0|0.464|5.856| 42.1| 4.429|3.0|223.0|   18.6|388.65| 13.0|  21.1|\n",
      "|0.16211|20.0| 6.96| 0.0|0.464| 6.24| 16.3| 4.429|3.0|223.0|   18.6| 396.9| 6.59|  25.2|\n",
      "| 0.1146|20.0| 6.96| 0.0|0.464|6.538| 58.7|3.9175|3.0|223.0|   18.6|394.96| 7.73|  24.4|\n",
      "|0.22188|20.0| 6.96| 1.0|0.464|7.691| 51.8|4.3665|3.0|223.0|   18.6|390.77| 6.58|  35.2|\n",
      "+-------+----+-----+----+-----+-----+-----+------+---+-----+-------+------+-----+------+\n",
      "only showing top 20 rows\n",
      "\n"
     ]
    }
   ],
   "source": [
    "spark.table(\"sklearn.boston\").show()"
   ]
  },
  {
   "cell_type": "code",
   "execution_count": 88,
   "metadata": {},
   "outputs": [],
   "source": [
    "xgbr = xgb.XGBRegressor(n_estimators=500, objective=\"reg:squarederror\",)"
   ]
  },
  {
   "cell_type": "code",
   "execution_count": 91,
   "metadata": {},
   "outputs": [
    {
     "data": {
      "text/plain": [
       "XGBRegressor(base_score=0.5, booster='gbtree', colsample_bylevel=1,\n",
       "             colsample_bynode=1, colsample_bytree=1, gamma=0,\n",
       "             importance_type='gain', learning_rate=0.1, max_delta_step=0,\n",
       "             max_depth=3, min_child_weight=1, missing=None, n_estimators=500,\n",
       "             n_jobs=1, nthread=None, objective='reg:squarederror',\n",
       "             random_state=0, reg_alpha=0, reg_lambda=1, scale_pos_weight=1,\n",
       "             seed=None, silent=None, subsample=1, verbosity=1)"
      ]
     },
     "execution_count": 91,
     "metadata": {},
     "output_type": "execute_result"
    }
   ],
   "source": [
    "xgbr.fit(X_train, y_train, early_stopping_rounds=None, )"
   ]
  },
  {
   "cell_type": "code",
   "execution_count": 93,
   "metadata": {},
   "outputs": [
    {
     "data": {
      "text/plain": [
       "<matplotlib.axes._subplots.AxesSubplot at 0x7f8d73cb1dd0>"
      ]
     },
     "execution_count": 93,
     "metadata": {},
     "output_type": "execute_result"
    },
    {
     "data": {
      "image/png": "[encoded data removed]",
      "text/plain": [
       "<Figure size 432x288 with 1 Axes>"
      ]
     },
     "metadata": {
      "needs_background": "light"
     },
     "output_type": "display_data"
    }
   ],
   "source": [
    "pd.DataFrame({\n",
    "    \"predict\": xgbr.predict(X_train),\n",
    "    \"true\": y_train,\n",
    "}).plot.scatter(\"predict\", \"true\")"
   ]
  },
  {
   "cell_type": "code",
   "execution_count": 94,
   "metadata": {},
   "outputs": [
    {
     "data": {
      "text/plain": [
       "<matplotlib.axes._subplots.AxesSubplot at 0x7f8d7437d490>"
      ]
     },
     "execution_count": 94,
     "metadata": {},
     "output_type": "execute_result"
    },
    {
     "data": {
      "image/png": "[encoded data removed]",
      "text/plain": [
       "<Figure size 432x288 with 1 Axes>"
      ]
     },
     "metadata": {
      "needs_background": "light"
     },
     "output_type": "display_data"
    }
   ],
   "source": [
    "pd.DataFrame({\n",
    "    \"predict\": xgbr.predict(X_test),\n",
    "    \"true\": y_test,\n",
    "}).plot.scatter(\"predict\", \"true\")"
   ]
  },
  {
   "cell_type": "code",
   "execution_count": 95,
   "metadata": {},
   "outputs": [
    {
     "data": {
      "text/plain": [
       "0.893782054660815"
      ]
     },
     "execution_count": 95,
     "metadata": {},
     "output_type": "execute_result"
    }
   ],
   "source": [
    "r2_score(y_pred=xgbr.predict(X_test), y_true=y_test)"
   ]
  },
  {
   "cell_type": "code",
   "execution_count": 98,
   "metadata": {},
   "outputs": [
    {
     "ename": "ValueError",
     "evalue": "'neg_r2' is not a valid scoring value. Use sorted(sklearn.metrics.SCORERS.keys()) to get valid options.",
     "output_type": "error",
     "traceback": [
      "\u001b[0;31m---------------------------------------------------------------------------\u001b[0m",
      "\u001b[0;31mKeyError\u001b[0m                                  Traceback (most recent call last)",
      "\u001b[0;32m/opt/conda/lib/python3.7/site-packages/sklearn/metrics/_scorer.py\u001b[0m in \u001b[0;36mget_scorer\u001b[0;34m(scoring)\u001b[0m\n\u001b[1;32m    358\u001b[0m             \u001b[0;32melse\u001b[0m\u001b[0;34m:\u001b[0m\u001b[0;34m\u001b[0m\u001b[0;34m\u001b[0m\u001b[0m\n\u001b[0;32m--> 359\u001b[0;31m                 \u001b[0mscorer\u001b[0m \u001b[0;34m=\u001b[0m \u001b[0mSCORERS\u001b[0m\u001b[0;34m[\u001b[0m\u001b[0mscoring\u001b[0m\u001b[0;34m]\u001b[0m\u001b[0;34m\u001b[0m\u001b[0;34m\u001b[0m\u001b[0m\n\u001b[0m\u001b[1;32m    360\u001b[0m         \u001b[0;32mexcept\u001b[0m \u001b[0mKeyError\u001b[0m\u001b[0;34m:\u001b[0m\u001b[0;34m\u001b[0m\u001b[0;34m\u001b[0m\u001b[0m\n",
      "\u001b[0;31mKeyError\u001b[0m: 'neg_r2'",
      "\nDuring handling of the above exception, another exception occurred:\n",
      "\u001b[0;31mValueError\u001b[0m                                Traceback (most recent call last)",
      "\u001b[0;32m<ipython-input-98-e0d823f607bd>\u001b[0m in \u001b[0;36m<module>\u001b[0;34m\u001b[0m\n\u001b[1;32m      1\u001b[0m \u001b[0mxgbr_2\u001b[0m \u001b[0;34m=\u001b[0m \u001b[0mxgb\u001b[0m\u001b[0;34m.\u001b[0m\u001b[0mXGBRegressor\u001b[0m\u001b[0;34m(\u001b[0m\u001b[0mn_estimators\u001b[0m\u001b[0;34m=\u001b[0m\u001b[0;36m500\u001b[0m\u001b[0;34m,\u001b[0m \u001b[0mobjective\u001b[0m\u001b[0;34m=\u001b[0m\u001b[0;34m\"reg:squarederror\"\u001b[0m\u001b[0;34m)\u001b[0m\u001b[0;34m\u001b[0m\u001b[0;34m\u001b[0m\u001b[0m\n\u001b[0;32m----> 2\u001b[0;31m \u001b[0mcross_val_score\u001b[0m\u001b[0;34m(\u001b[0m\u001b[0mestimator\u001b[0m\u001b[0;34m=\u001b[0m\u001b[0mxgbr\u001b[0m\u001b[0;34m,\u001b[0m \u001b[0mX\u001b[0m\u001b[0;34m=\u001b[0m\u001b[0mX\u001b[0m\u001b[0;34m,\u001b[0m \u001b[0my\u001b[0m\u001b[0;34m=\u001b[0m\u001b[0my\u001b[0m\u001b[0;34m,\u001b[0m \u001b[0mcv\u001b[0m\u001b[0;34m=\u001b[0m\u001b[0;36m5\u001b[0m\u001b[0;34m,\u001b[0m \u001b[0mn_jobs\u001b[0m\u001b[0;34m=\u001b[0m\u001b[0;34m-\u001b[0m\u001b[0;36m1\u001b[0m\u001b[0;34m,\u001b[0m \u001b[0mscoring\u001b[0m\u001b[0;34m=\u001b[0m\u001b[0;34m\"neg_r2\"\u001b[0m\u001b[0;34m)\u001b[0m\u001b[0;34m\u001b[0m\u001b[0;34m\u001b[0m\u001b[0m\n\u001b[0m",
      "\u001b[0;32m/opt/conda/lib/python3.7/site-packages/sklearn/model_selection/_validation.py\u001b[0m in \u001b[0;36mcross_val_score\u001b[0;34m(estimator, X, y, groups, scoring, cv, n_jobs, verbose, fit_params, pre_dispatch, error_score)\u001b[0m\n\u001b[1;32m    381\u001b[0m     \"\"\"\n\u001b[1;32m    382\u001b[0m     \u001b[0;31m# To ensure multimetric format is not supported\u001b[0m\u001b[0;34m\u001b[0m\u001b[0;34m\u001b[0m\u001b[0;34m\u001b[0m\u001b[0m\n\u001b[0;32m--> 383\u001b[0;31m     \u001b[0mscorer\u001b[0m \u001b[0;34m=\u001b[0m \u001b[0mcheck_scoring\u001b[0m\u001b[0;34m(\u001b[0m\u001b[0mestimator\u001b[0m\u001b[0;34m,\u001b[0m \u001b[0mscoring\u001b[0m\u001b[0;34m=\u001b[0m\u001b[0mscoring\u001b[0m\u001b[0;34m)\u001b[0m\u001b[0;34m\u001b[0m\u001b[0;34m\u001b[0m\u001b[0m\n\u001b[0m\u001b[1;32m    384\u001b[0m \u001b[0;34m\u001b[0m\u001b[0m\n\u001b[1;32m    385\u001b[0m     cv_results = cross_validate(estimator=estimator, X=X, y=y, groups=groups,\n",
      "\u001b[0;32m/opt/conda/lib/python3.7/site-packages/sklearn/metrics/_scorer.py\u001b[0m in \u001b[0;36mcheck_scoring\u001b[0;34m(estimator, scoring, allow_none)\u001b[0m\n\u001b[1;32m    401\u001b[0m                         \"'fit' method, %r was passed\" % estimator)\n\u001b[1;32m    402\u001b[0m     \u001b[0;32mif\u001b[0m \u001b[0misinstance\u001b[0m\u001b[0;34m(\u001b[0m\u001b[0mscoring\u001b[0m\u001b[0;34m,\u001b[0m \u001b[0mstr\u001b[0m\u001b[0;34m)\u001b[0m\u001b[0;34m:\u001b[0m\u001b[0;34m\u001b[0m\u001b[0;34m\u001b[0m\u001b[0m\n\u001b[0;32m--> 403\u001b[0;31m         \u001b[0;32mreturn\u001b[0m \u001b[0mget_scorer\u001b[0m\u001b[0;34m(\u001b[0m\u001b[0mscoring\u001b[0m\u001b[0;34m)\u001b[0m\u001b[0;34m\u001b[0m\u001b[0;34m\u001b[0m\u001b[0m\n\u001b[0m\u001b[1;32m    404\u001b[0m     \u001b[0;32melif\u001b[0m \u001b[0mcallable\u001b[0m\u001b[0;34m(\u001b[0m\u001b[0mscoring\u001b[0m\u001b[0;34m)\u001b[0m\u001b[0;34m:\u001b[0m\u001b[0;34m\u001b[0m\u001b[0;34m\u001b[0m\u001b[0m\n\u001b[1;32m    405\u001b[0m         \u001b[0;31m# Heuristic to ensure user has not passed a metric\u001b[0m\u001b[0;34m\u001b[0m\u001b[0;34m\u001b[0m\u001b[0;34m\u001b[0m\u001b[0m\n",
      "\u001b[0;32m/opt/conda/lib/python3.7/site-packages/sklearn/metrics/_scorer.py\u001b[0m in \u001b[0;36mget_scorer\u001b[0;34m(scoring)\u001b[0m\n\u001b[1;32m    361\u001b[0m             raise ValueError('%r is not a valid scoring value. '\n\u001b[1;32m    362\u001b[0m                              \u001b[0;34m'Use sorted(sklearn.metrics.SCORERS.keys()) '\u001b[0m\u001b[0;34m\u001b[0m\u001b[0;34m\u001b[0m\u001b[0m\n\u001b[0;32m--> 363\u001b[0;31m                              'to get valid options.' % scoring)\n\u001b[0m\u001b[1;32m    364\u001b[0m     \u001b[0;32melse\u001b[0m\u001b[0;34m:\u001b[0m\u001b[0;34m\u001b[0m\u001b[0;34m\u001b[0m\u001b[0m\n\u001b[1;32m    365\u001b[0m         \u001b[0mscorer\u001b[0m \u001b[0;34m=\u001b[0m \u001b[0mscoring\u001b[0m\u001b[0;34m\u001b[0m\u001b[0;34m\u001b[0m\u001b[0m\n",
      "\u001b[0;31mValueError\u001b[0m: 'neg_r2' is not a valid scoring value. Use sorted(sklearn.metrics.SCORERS.keys()) to get valid options."
     ]
    }
   ],
   "source": [
    "xgbr_2 = xgb.XGBRegressor(n_estimators=500, objective=\"reg:squarederror\")\n",
    "cross_val_score(estimator=xgbr, X=X, y=y, cv=5, n_jobs=-1, scoring=\"neg_r2\")"
   ]
  },
  {
   "cell_type": "code",
   "execution_count": null,
   "metadata": {},
   "outputs": [],
   "source": []
  },
  {
   "cell_type": "code",
   "execution_count": null,
   "metadata": {},
   "outputs": [],
   "source": []
  },
  {
   "cell_type": "code",
   "execution_count": 99,
   "metadata": {},
   "outputs": [],
   "source": [
    "lgbr = lgb.LGBMRegressor(n_estimators=500,)"
   ]
  },
  {
   "cell_type": "code",
   "execution_count": 100,
   "metadata": {},
   "outputs": [
    {
     "data": {
      "text/plain": [
       "LGBMRegressor(boosting_type='gbdt', class_weight=None, colsample_bytree=1.0,\n",
       "              importance_type='split', learning_rate=0.1, max_depth=-1,\n",
       "              min_child_samples=20, min_child_weight=0.001, min_split_gain=0.0,\n",
       "              n_estimators=500, n_jobs=-1, num_leaves=31, objective=None,\n",
       "              random_state=None, reg_alpha=0.0, reg_lambda=0.0, silent=True,\n",
       "              subsample=1.0, subsample_for_bin=200000, subsample_freq=0)"
      ]
     },
     "execution_count": 100,
     "metadata": {},
     "output_type": "execute_result"
    }
   ],
   "source": [
    "lgbr"
   ]
  },
  {
   "cell_type": "code",
   "execution_count": 101,
   "metadata": {},
   "outputs": [
    {
     "data": {
      "text/plain": [
       "array([0.91024117, 0.87234191, 0.87231724, 0.83507547, 0.71403842])"
      ]
     },
     "execution_count": 101,
     "metadata": {},
     "output_type": "execute_result"
    }
   ],
   "source": [
    "cross_val_score(estimator=lgbr, X=X_train, y=y_train, cv=5)"
   ]
  },
  {
   "cell_type": "code",
   "execution_count": 109,
   "metadata": {},
   "outputs": [],
   "source": [
    "result = cross_validate(estimator=lgbr, X=X_train, y=y_train, scoring=\"r2\", cv=5, n_jobs=-1, return_estimator=True, return_train_score=True, \n",
    "                       fit_params={\n",
    "                           \"early_stopping_rounds\": 10,\n",
    "                           \"eval_set\": [(X_train, y_train), (X_test, y_test)]\n",
    "                       })"
   ]
  },
  {
   "cell_type": "code",
   "execution_count": 110,
   "metadata": {},
   "outputs": [
    {
     "data": {
      "text/plain": [
       "{'fit_time': array([0.2549758 , 0.33827949, 0.15793252, 0.26139712, 0.07632303]),\n",
       " 'score_time': array([0.00263572, 0.00333929, 0.00188947, 0.00301361, 0.00162482]),\n",
       " 'estimator': (LGBMRegressor(boosting_type='gbdt', class_weight=None, colsample_bytree=1.0,\n",
       "                importance_type='split', learning_rate=0.1, max_depth=-1,\n",
       "                min_child_samples=20, min_child_weight=0.001, min_split_gain=0.0,\n",
       "                n_estimators=500, n_jobs=-1, num_leaves=31, objective=None,\n",
       "                random_state=None, reg_alpha=0.0, reg_lambda=0.0, silent=True,\n",
       "                subsample=1.0, subsample_for_bin=200000, subsample_freq=0),\n",
       "  LGBMRegressor(boosting_type='gbdt', class_weight=None, colsample_bytree=1.0,\n",
       "                importance_type='split', learning_rate=0.1, max_depth=-1,\n",
       "                min_child_samples=20, min_child_weight=0.001, min_split_gain=0.0,\n",
       "                n_estimators=500, n_jobs=-1, num_leaves=31, objective=None,\n",
       "                random_state=None, reg_alpha=0.0, reg_lambda=0.0, silent=True,\n",
       "                subsample=1.0, subsample_for_bin=200000, subsample_freq=0),\n",
       "  LGBMRegressor(boosting_type='gbdt', class_weight=None, colsample_bytree=1.0,\n",
       "                importance_type='split', learning_rate=0.1, max_depth=-1,\n",
       "                min_child_samples=20, min_child_weight=0.001, min_split_gain=0.0,\n",
       "                n_estimators=500, n_jobs=-1, num_leaves=31, objective=None,\n",
       "                random_state=None, reg_alpha=0.0, reg_lambda=0.0, silent=True,\n",
       "                subsample=1.0, subsample_for_bin=200000, subsample_freq=0),\n",
       "  LGBMRegressor(boosting_type='gbdt', class_weight=None, colsample_bytree=1.0,\n",
       "                importance_type='split', learning_rate=0.1, max_depth=-1,\n",
       "                min_child_samples=20, min_child_weight=0.001, min_split_gain=0.0,\n",
       "                n_estimators=500, n_jobs=-1, num_leaves=31, objective=None,\n",
       "                random_state=None, reg_alpha=0.0, reg_lambda=0.0, silent=True,\n",
       "                subsample=1.0, subsample_for_bin=200000, subsample_freq=0),\n",
       "  LGBMRegressor(boosting_type='gbdt', class_weight=None, colsample_bytree=1.0,\n",
       "                importance_type='split', learning_rate=0.1, max_depth=-1,\n",
       "                min_child_samples=20, min_child_weight=0.001, min_split_gain=0.0,\n",
       "                n_estimators=500, n_jobs=-1, num_leaves=31, objective=None,\n",
       "                random_state=None, reg_alpha=0.0, reg_lambda=0.0, silent=True,\n",
       "                subsample=1.0, subsample_for_bin=200000, subsample_freq=0)),\n",
       " 'test_score': array([0.91429247, 0.87170891, 0.86901974, 0.83516154, 0.70403036]),\n",
       " 'train_score': array([0.98734781, 0.99300826, 0.97232544, 0.98906762, 0.96171   ])}"
      ]
     },
     "execution_count": 110,
     "metadata": {},
     "output_type": "execute_result"
    }
   ],
   "source": [
    "result"
   ]
  },
  {
   "cell_type": "code",
   "execution_count": 115,
   "metadata": {},
   "outputs": [
    {
     "data": {
      "text/plain": [
       "0.8388426052165844"
      ]
     },
     "execution_count": 115,
     "metadata": {},
     "output_type": "execute_result"
    }
   ],
   "source": [
    "result['test_score'].mean()"
   ]
  },
  {
   "cell_type": "code",
   "execution_count": 111,
   "metadata": {},
   "outputs": [
    {
     "data": {
      "text/plain": [
       "{'fit_time': array([0.20883226, 0.16356516, 0.23707414, 0.22967005, 0.10072732]),\n",
       " 'score_time': array([0.00169873, 0.00155306, 0.00121999, 0.00166631, 0.00103855]),\n",
       " 'estimator': (XGBRegressor(base_score=0.5, booster='gbtree', colsample_bylevel=1,\n",
       "               colsample_bynode=1, colsample_bytree=1, gamma=0,\n",
       "               importance_type='gain', learning_rate=0.1, max_delta_step=0,\n",
       "               max_depth=3, min_child_weight=1, missing=nan, n_estimators=500,\n",
       "               n_jobs=1, nthread=None, objective='reg:linear', random_state=0,\n",
       "               reg_alpha=0, reg_lambda=1, scale_pos_weight=1, seed=None,\n",
       "               silent=None, subsample=1, verbosity=1),\n",
       "  XGBRegressor(base_score=0.5, booster='gbtree', colsample_bylevel=1,\n",
       "               colsample_bynode=1, colsample_bytree=1, gamma=0,\n",
       "               importance_type='gain', learning_rate=0.1, max_delta_step=0,\n",
       "               max_depth=3, min_child_weight=1, missing=nan, n_estimators=500,\n",
       "               n_jobs=1, nthread=None, objective='reg:linear', random_state=0,\n",
       "               reg_alpha=0, reg_lambda=1, scale_pos_weight=1, seed=None,\n",
       "               silent=None, subsample=1, verbosity=1),\n",
       "  XGBRegressor(base_score=0.5, booster='gbtree', colsample_bylevel=1,\n",
       "               colsample_bynode=1, colsample_bytree=1, gamma=0,\n",
       "               importance_type='gain', learning_rate=0.1, max_delta_step=0,\n",
       "               max_depth=3, min_child_weight=1, missing=nan, n_estimators=500,\n",
       "               n_jobs=1, nthread=None, objective='reg:linear', random_state=0,\n",
       "               reg_alpha=0, reg_lambda=1, scale_pos_weight=1, seed=None,\n",
       "               silent=None, subsample=1, verbosity=1),\n",
       "  XGBRegressor(base_score=0.5, booster='gbtree', colsample_bylevel=1,\n",
       "               colsample_bynode=1, colsample_bytree=1, gamma=0,\n",
       "               importance_type='gain', learning_rate=0.1, max_delta_step=0,\n",
       "               max_depth=3, min_child_weight=1, missing=nan, n_estimators=500,\n",
       "               n_jobs=1, nthread=None, objective='reg:linear', random_state=0,\n",
       "               reg_alpha=0, reg_lambda=1, scale_pos_weight=1, seed=None,\n",
       "               silent=None, subsample=1, verbosity=1),\n",
       "  XGBRegressor(base_score=0.5, booster='gbtree', colsample_bylevel=1,\n",
       "               colsample_bynode=1, colsample_bytree=1, gamma=0,\n",
       "               importance_type='gain', learning_rate=0.1, max_delta_step=0,\n",
       "               max_depth=3, min_child_weight=1, missing=nan, n_estimators=500,\n",
       "               n_jobs=1, nthread=None, objective='reg:linear', random_state=0,\n",
       "               reg_alpha=0, reg_lambda=1, scale_pos_weight=1, seed=None,\n",
       "               silent=None, subsample=1, verbosity=1)),\n",
       " 'test_score': array([0.90880961, 0.90364175, 0.9007046 , 0.85551665, 0.76603848]),\n",
       " 'train_score': array([0.98902759, 0.98268332, 0.98494206, 0.98953049, 0.98242377])}"
      ]
     },
     "execution_count": 111,
     "metadata": {},
     "output_type": "execute_result"
    }
   ],
   "source": [
    "xgbr = xgb.XGBRegressor(n_estimators=500)\n",
    "result2 = cross_validate(estimator=xgbr, X=X_train, y=y_train, scoring=\"r2\", cv=5, n_jobs=-1, return_estimator=True, return_train_score=True, \n",
    "                       fit_params={\n",
    "                           \"early_stopping_rounds\": 10,\n",
    "                           \"eval_set\": [(X_train, y_train), (X_test, y_test)]\n",
    "                       })\n",
    "result2"
   ]
  },
  {
   "cell_type": "code",
   "execution_count": 116,
   "metadata": {},
   "outputs": [
    {
     "data": {
      "text/plain": [
       "0.8669422186020208"
      ]
     },
     "execution_count": 116,
     "metadata": {},
     "output_type": "execute_result"
    }
   ],
   "source": [
    "result2[\"test_score\"].mean()"
   ]
  },
  {
   "cell_type": "code",
   "execution_count": 117,
   "metadata": {},
   "outputs": [
    {
     "name": "stdout",
     "output_type": "stream",
     "text": [
      "[17:29:37] WARNING: /home/conda/feedstock_root/build_artifacts/xgboost_1572314959925/work/src/objective/regression_obj.cu:152: reg:linear is now deprecated in favor of reg:squarederror.\n",
      "[0]\tvalidation_0-rmse:20.8969\tvalidation_1-rmse:24.4022\n",
      "Multiple eval metrics have been passed: 'validation_1-rmse' will be used for early stopping.\n",
      "\n",
      "Will train until validation_1-rmse hasn't improved in 10 rounds.\n",
      "[1]\tvalidation_0-rmse:18.9417\tvalidation_1-rmse:22.2365\n",
      "[2]\tvalidation_0-rmse:17.1728\tvalidation_1-rmse:20.2414\n",
      "[3]\tvalidation_0-rmse:15.5863\tvalidation_1-rmse:18.4857\n",
      "[4]\tvalidation_0-rmse:14.153\tvalidation_1-rmse:16.8711\n",
      "[5]\tvalidation_0-rmse:12.8559\tvalidation_1-rmse:15.3861\n",
      "[6]\tvalidation_0-rmse:11.7034\tvalidation_1-rmse:14.119\n",
      "[7]\tvalidation_0-rmse:10.6545\tvalidation_1-rmse:12.9225\n",
      "[8]\tvalidation_0-rmse:9.7131\tvalidation_1-rmse:11.8826\n",
      "[9]\tvalidation_0-rmse:8.86373\tvalidation_1-rmse:10.9221\n",
      "[10]\tvalidation_0-rmse:8.11264\tvalidation_1-rmse:10.1329\n",
      "[11]\tvalidation_0-rmse:7.43414\tvalidation_1-rmse:9.38108\n",
      "[12]\tvalidation_0-rmse:6.82382\tvalidation_1-rmse:8.71751\n",
      "[13]\tvalidation_0-rmse:6.28117\tvalidation_1-rmse:8.12354\n",
      "[14]\tvalidation_0-rmse:5.79419\tvalidation_1-rmse:7.5815\n",
      "[15]\tvalidation_0-rmse:5.36346\tvalidation_1-rmse:7.1102\n",
      "[16]\tvalidation_0-rmse:4.97361\tvalidation_1-rmse:6.69405\n",
      "[17]\tvalidation_0-rmse:4.63369\tvalidation_1-rmse:6.33119\n",
      "[18]\tvalidation_0-rmse:4.32399\tvalidation_1-rmse:5.98494\n",
      "[19]\tvalidation_0-rmse:4.05148\tvalidation_1-rmse:5.70136\n",
      "[20]\tvalidation_0-rmse:3.81399\tvalidation_1-rmse:5.44893\n",
      "[21]\tvalidation_0-rmse:3.59877\tvalidation_1-rmse:5.2261\n",
      "[22]\tvalidation_0-rmse:3.41457\tvalidation_1-rmse:5.03428\n",
      "[23]\tvalidation_0-rmse:3.25226\tvalidation_1-rmse:4.86808\n",
      "[24]\tvalidation_0-rmse:3.10929\tvalidation_1-rmse:4.71065\n",
      "[25]\tvalidation_0-rmse:2.97241\tvalidation_1-rmse:4.61512\n",
      "[26]\tvalidation_0-rmse:2.86581\tvalidation_1-rmse:4.51952\n",
      "[27]\tvalidation_0-rmse:2.76873\tvalidation_1-rmse:4.43738\n",
      "[28]\tvalidation_0-rmse:2.67582\tvalidation_1-rmse:4.36579\n",
      "[29]\tvalidation_0-rmse:2.59007\tvalidation_1-rmse:4.29655\n",
      "[30]\tvalidation_0-rmse:2.5143\tvalidation_1-rmse:4.22025\n",
      "[31]\tvalidation_0-rmse:2.45037\tvalidation_1-rmse:4.17417\n",
      "[32]\tvalidation_0-rmse:2.40036\tvalidation_1-rmse:4.14726\n",
      "[33]\tvalidation_0-rmse:2.33295\tvalidation_1-rmse:4.10285\n",
      "[34]\tvalidation_0-rmse:2.28869\tvalidation_1-rmse:4.07357\n",
      "[35]\tvalidation_0-rmse:2.24299\tvalidation_1-rmse:4.05258\n",
      "[36]\tvalidation_0-rmse:2.21193\tvalidation_1-rmse:4.03232\n",
      "[37]\tvalidation_0-rmse:2.16434\tvalidation_1-rmse:4.00115\n",
      "[38]\tvalidation_0-rmse:2.13268\tvalidation_1-rmse:3.97857\n",
      "[39]\tvalidation_0-rmse:2.10586\tvalidation_1-rmse:3.94861\n",
      "[40]\tvalidation_0-rmse:2.07536\tvalidation_1-rmse:3.93232\n",
      "[41]\tvalidation_0-rmse:2.05305\tvalidation_1-rmse:3.91755\n",
      "[42]\tvalidation_0-rmse:2.02701\tvalidation_1-rmse:3.90636\n",
      "[43]\tvalidation_0-rmse:1.99569\tvalidation_1-rmse:3.87902\n",
      "[44]\tvalidation_0-rmse:1.96586\tvalidation_1-rmse:3.83489\n",
      "[45]\tvalidation_0-rmse:1.95197\tvalidation_1-rmse:3.81584\n",
      "[46]\tvalidation_0-rmse:1.93655\tvalidation_1-rmse:3.81215\n",
      "[47]\tvalidation_0-rmse:1.92076\tvalidation_1-rmse:3.80159\n",
      "[48]\tvalidation_0-rmse:1.90338\tvalidation_1-rmse:3.7899\n",
      "[49]\tvalidation_0-rmse:1.88898\tvalidation_1-rmse:3.78277\n",
      "[50]\tvalidation_0-rmse:1.87846\tvalidation_1-rmse:3.77332\n",
      "[51]\tvalidation_0-rmse:1.86406\tvalidation_1-rmse:3.77158\n",
      "[52]\tvalidation_0-rmse:1.85284\tvalidation_1-rmse:3.7723\n",
      "[53]\tvalidation_0-rmse:1.84047\tvalidation_1-rmse:3.76076\n",
      "[54]\tvalidation_0-rmse:1.82511\tvalidation_1-rmse:3.74535\n",
      "[55]\tvalidation_0-rmse:1.80788\tvalidation_1-rmse:3.7296\n",
      "[56]\tvalidation_0-rmse:1.79203\tvalidation_1-rmse:3.72353\n",
      "[57]\tvalidation_0-rmse:1.77169\tvalidation_1-rmse:3.70685\n",
      "[58]\tvalidation_0-rmse:1.76022\tvalidation_1-rmse:3.70063\n",
      "[59]\tvalidation_0-rmse:1.74905\tvalidation_1-rmse:3.70189\n",
      "[60]\tvalidation_0-rmse:1.7362\tvalidation_1-rmse:3.69471\n",
      "[61]\tvalidation_0-rmse:1.72627\tvalidation_1-rmse:3.68398\n",
      "[62]\tvalidation_0-rmse:1.71126\tvalidation_1-rmse:3.6579\n",
      "[63]\tvalidation_0-rmse:1.70485\tvalidation_1-rmse:3.65185\n",
      "[64]\tvalidation_0-rmse:1.69079\tvalidation_1-rmse:3.64197\n",
      "[65]\tvalidation_0-rmse:1.68125\tvalidation_1-rmse:3.64177\n",
      "[66]\tvalidation_0-rmse:1.67283\tvalidation_1-rmse:3.62497\n",
      "[67]\tvalidation_0-rmse:1.66116\tvalidation_1-rmse:3.62176\n",
      "[68]\tvalidation_0-rmse:1.65356\tvalidation_1-rmse:3.60735\n",
      "[69]\tvalidation_0-rmse:1.64774\tvalidation_1-rmse:3.61227\n",
      "[70]\tvalidation_0-rmse:1.63911\tvalidation_1-rmse:3.59737\n",
      "[71]\tvalidation_0-rmse:1.62338\tvalidation_1-rmse:3.59361\n",
      "[72]\tvalidation_0-rmse:1.6148\tvalidation_1-rmse:3.59359\n",
      "[73]\tvalidation_0-rmse:1.60656\tvalidation_1-rmse:3.58598\n",
      "[74]\tvalidation_0-rmse:1.59888\tvalidation_1-rmse:3.58179\n",
      "[75]\tvalidation_0-rmse:1.58102\tvalidation_1-rmse:3.57715\n",
      "[76]\tvalidation_0-rmse:1.5734\tvalidation_1-rmse:3.56624\n",
      "[77]\tvalidation_0-rmse:1.56851\tvalidation_1-rmse:3.56709\n",
      "[78]\tvalidation_0-rmse:1.5597\tvalidation_1-rmse:3.56549\n",
      "[79]\tvalidation_0-rmse:1.5516\tvalidation_1-rmse:3.56175\n",
      "[80]\tvalidation_0-rmse:1.54372\tvalidation_1-rmse:3.56354\n",
      "[81]\tvalidation_0-rmse:1.5382\tvalidation_1-rmse:3.56239\n",
      "[82]\tvalidation_0-rmse:1.53107\tvalidation_1-rmse:3.56551\n",
      "[83]\tvalidation_0-rmse:1.52209\tvalidation_1-rmse:3.55672\n",
      "[84]\tvalidation_0-rmse:1.51002\tvalidation_1-rmse:3.55273\n",
      "[85]\tvalidation_0-rmse:1.49821\tvalidation_1-rmse:3.55031\n",
      "[86]\tvalidation_0-rmse:1.49196\tvalidation_1-rmse:3.55196\n",
      "[87]\tvalidation_0-rmse:1.48178\tvalidation_1-rmse:3.53528\n",
      "[88]\tvalidation_0-rmse:1.47621\tvalidation_1-rmse:3.53114\n",
      "[89]\tvalidation_0-rmse:1.47128\tvalidation_1-rmse:3.52631\n",
      "[90]\tvalidation_0-rmse:1.46704\tvalidation_1-rmse:3.52736\n",
      "[91]\tvalidation_0-rmse:1.46149\tvalidation_1-rmse:3.5289\n",
      "[92]\tvalidation_0-rmse:1.45511\tvalidation_1-rmse:3.51904\n",
      "[93]\tvalidation_0-rmse:1.44777\tvalidation_1-rmse:3.50834\n",
      "[94]\tvalidation_0-rmse:1.43643\tvalidation_1-rmse:3.50837\n",
      "[95]\tvalidation_0-rmse:1.42468\tvalidation_1-rmse:3.50658\n",
      "[96]\tvalidation_0-rmse:1.41983\tvalidation_1-rmse:3.4996\n",
      "[97]\tvalidation_0-rmse:1.4133\tvalidation_1-rmse:3.49777\n",
      "[98]\tvalidation_0-rmse:1.40874\tvalidation_1-rmse:3.49467\n",
      "[99]\tvalidation_0-rmse:1.40338\tvalidation_1-rmse:3.49694\n",
      "[100]\tvalidation_0-rmse:1.39806\tvalidation_1-rmse:3.49597\n",
      "[101]\tvalidation_0-rmse:1.39054\tvalidation_1-rmse:3.49507\n",
      "[102]\tvalidation_0-rmse:1.3856\tvalidation_1-rmse:3.49521\n",
      "[103]\tvalidation_0-rmse:1.37785\tvalidation_1-rmse:3.49068\n",
      "[104]\tvalidation_0-rmse:1.37383\tvalidation_1-rmse:3.48644\n",
      "[105]\tvalidation_0-rmse:1.36973\tvalidation_1-rmse:3.48733\n",
      "[106]\tvalidation_0-rmse:1.36329\tvalidation_1-rmse:3.47463\n",
      "[107]\tvalidation_0-rmse:1.35858\tvalidation_1-rmse:3.47263\n",
      "[108]\tvalidation_0-rmse:1.34881\tvalidation_1-rmse:3.47342\n",
      "[109]\tvalidation_0-rmse:1.34442\tvalidation_1-rmse:3.47489\n",
      "[110]\tvalidation_0-rmse:1.34061\tvalidation_1-rmse:3.473\n",
      "[111]\tvalidation_0-rmse:1.33356\tvalidation_1-rmse:3.47227\n",
      "[112]\tvalidation_0-rmse:1.33128\tvalidation_1-rmse:3.46849\n",
      "[113]\tvalidation_0-rmse:1.32711\tvalidation_1-rmse:3.46898\n",
      "[114]\tvalidation_0-rmse:1.32329\tvalidation_1-rmse:3.46932\n",
      "[115]\tvalidation_0-rmse:1.30934\tvalidation_1-rmse:3.47341\n",
      "[116]\tvalidation_0-rmse:1.30232\tvalidation_1-rmse:3.46939\n",
      "[117]\tvalidation_0-rmse:1.2963\tvalidation_1-rmse:3.47192\n",
      "[118]\tvalidation_0-rmse:1.29156\tvalidation_1-rmse:3.47131\n",
      "[119]\tvalidation_0-rmse:1.28781\tvalidation_1-rmse:3.47065\n",
      "[120]\tvalidation_0-rmse:1.28213\tvalidation_1-rmse:3.47195\n",
      "[121]\tvalidation_0-rmse:1.27384\tvalidation_1-rmse:3.47384\n",
      "[122]\tvalidation_0-rmse:1.27021\tvalidation_1-rmse:3.47809\n",
      "Stopping. Best iteration:\n",
      "[112]\tvalidation_0-rmse:1.33128\tvalidation_1-rmse:3.46849\n",
      "\n"
     ]
    },
    {
     "data": {
      "text/plain": [
       "XGBRegressor(base_score=0.5, booster='gbtree', colsample_bylevel=1,\n",
       "             colsample_bynode=1, colsample_bytree=1, gamma=0,\n",
       "             importance_type='gain', learning_rate=0.1, max_delta_step=0,\n",
       "             max_depth=3, min_child_weight=1, missing=None, n_estimators=500,\n",
       "             n_jobs=1, nthread=None, objective='reg:linear', random_state=0,\n",
       "             reg_alpha=0, reg_lambda=1, scale_pos_weight=1, seed=None,\n",
       "             silent=None, subsample=1, verbosity=1)"
      ]
     },
     "execution_count": 117,
     "metadata": {},
     "output_type": "execute_result"
    }
   ],
   "source": [
    "xgbr.fit(X_train, y_train, early_stopping_rounds=10, eval_set=[(X_train, y_train), (X_test, y_test)])"
   ]
  },
  {
   "cell_type": "code",
   "execution_count": 118,
   "metadata": {},
   "outputs": [
    {
     "data": {
      "text/plain": [
       "0.8849650262576161"
      ]
     },
     "execution_count": 118,
     "metadata": {},
     "output_type": "execute_result"
    }
   ],
   "source": [
    "r2_score(y_pred=xgbr.predict(X_test), y_true=y_test)"
   ]
  },
  {
   "cell_type": "code",
   "execution_count": 119,
   "metadata": {},
   "outputs": [
    {
     "data": {
      "text/plain": [
       "0.9769713946318522"
      ]
     },
     "execution_count": 119,
     "metadata": {},
     "output_type": "execute_result"
    }
   ],
   "source": [
    "r2_score(y_pred=xgbr.predict(X_train), y_true=y_train)"
   ]
  },
  {
   "cell_type": "code",
   "execution_count": null,
   "metadata": {},
   "outputs": [],
   "source": []
  },
  {
   "cell_type": "code",
   "execution_count": 120,
   "metadata": {},
   "outputs": [
    {
     "name": "stdout",
     "output_type": "stream",
     "text": [
      "[1]\ttraining's l2: 65.0708\tvalid_1's l2: 100.513\n",
      "Training until validation scores don't improve for 10 rounds\n",
      "[2]\ttraining's l2: 55.1651\tvalid_1's l2: 87.1426\n",
      "[3]\ttraining's l2: 47.2103\tvalid_1's l2: 75.8832\n",
      "[4]\ttraining's l2: 40.5493\tvalid_1's l2: 67.2276\n",
      "[5]\ttraining's l2: 35.1255\tvalid_1's l2: 60.2342\n",
      "[6]\ttraining's l2: 30.7042\tvalid_1's l2: 54.4774\n",
      "[7]\ttraining's l2: 27.0398\tvalid_1's l2: 49.3105\n",
      "[8]\ttraining's l2: 24.0467\tvalid_1's l2: 45.1863\n",
      "[9]\ttraining's l2: 21.6042\tvalid_1's l2: 41.9058\n",
      "[10]\ttraining's l2: 19.5368\tvalid_1's l2: 38.7828\n",
      "[11]\ttraining's l2: 17.7418\tvalid_1's l2: 36.4811\n",
      "[12]\ttraining's l2: 16.2561\tvalid_1's l2: 34.5693\n",
      "[13]\ttraining's l2: 15.0448\tvalid_1's l2: 32.8834\n",
      "[14]\ttraining's l2: 13.9077\tvalid_1's l2: 31.493\n",
      "[15]\ttraining's l2: 12.9505\tvalid_1's l2: 30.2817\n",
      "[16]\ttraining's l2: 12.1334\tvalid_1's l2: 29.2319\n",
      "[17]\ttraining's l2: 11.4743\tvalid_1's l2: 28.4308\n",
      "[18]\ttraining's l2: 10.7454\tvalid_1's l2: 27.2031\n",
      "[19]\ttraining's l2: 10.1257\tvalid_1's l2: 25.9369\n",
      "[20]\ttraining's l2: 9.58392\tvalid_1's l2: 24.977\n",
      "[21]\ttraining's l2: 9.14182\tvalid_1's l2: 24.1832\n",
      "[22]\ttraining's l2: 8.77526\tvalid_1's l2: 23.6315\n",
      "[23]\ttraining's l2: 8.44246\tvalid_1's l2: 23.021\n",
      "[24]\ttraining's l2: 8.16463\tvalid_1's l2: 22.5952\n",
      "[25]\ttraining's l2: 7.901\tvalid_1's l2: 22.2317\n",
      "[26]\ttraining's l2: 7.68441\tvalid_1's l2: 21.8962\n",
      "[27]\ttraining's l2: 7.44543\tvalid_1's l2: 21.3459\n",
      "[28]\ttraining's l2: 7.16965\tvalid_1's l2: 20.736\n",
      "[29]\ttraining's l2: 6.92307\tvalid_1's l2: 20.4306\n",
      "[30]\ttraining's l2: 6.72525\tvalid_1's l2: 20.2037\n",
      "[31]\ttraining's l2: 6.56092\tvalid_1's l2: 19.9651\n",
      "[32]\ttraining's l2: 6.39301\tvalid_1's l2: 19.7732\n",
      "[33]\ttraining's l2: 6.20304\tvalid_1's l2: 19.2668\n",
      "[34]\ttraining's l2: 6.06389\tvalid_1's l2: 19.0672\n",
      "[35]\ttraining's l2: 5.88019\tvalid_1's l2: 18.6645\n",
      "[36]\ttraining's l2: 5.7511\tvalid_1's l2: 18.442\n",
      "[37]\ttraining's l2: 5.65834\tvalid_1's l2: 18.3602\n",
      "[38]\ttraining's l2: 5.54765\tvalid_1's l2: 18.2895\n",
      "[39]\ttraining's l2: 5.45182\tvalid_1's l2: 18.1896\n",
      "[40]\ttraining's l2: 5.32025\tvalid_1's l2: 18.0403\n",
      "[41]\ttraining's l2: 5.23384\tvalid_1's l2: 17.9492\n",
      "[42]\ttraining's l2: 5.1123\tvalid_1's l2: 17.7961\n",
      "[43]\ttraining's l2: 5.04605\tvalid_1's l2: 17.694\n",
      "[44]\ttraining's l2: 4.92164\tvalid_1's l2: 17.3504\n",
      "[45]\ttraining's l2: 4.80127\tvalid_1's l2: 17.3867\n",
      "[46]\ttraining's l2: 4.73015\tvalid_1's l2: 17.3329\n",
      "[47]\ttraining's l2: 4.65063\tvalid_1's l2: 17.3582\n",
      "[48]\ttraining's l2: 4.58066\tvalid_1's l2: 17.2777\n",
      "[49]\ttraining's l2: 4.52349\tvalid_1's l2: 17.2081\n",
      "[50]\ttraining's l2: 4.4254\tvalid_1's l2: 17.2352\n",
      "[51]\ttraining's l2: 4.3575\tvalid_1's l2: 17.2105\n",
      "[52]\ttraining's l2: 4.30695\tvalid_1's l2: 17.2444\n",
      "[53]\ttraining's l2: 4.22421\tvalid_1's l2: 17.2074\n",
      "[54]\ttraining's l2: 4.16488\tvalid_1's l2: 17.1711\n",
      "[55]\ttraining's l2: 4.09672\tvalid_1's l2: 17.1055\n",
      "[56]\ttraining's l2: 4.03611\tvalid_1's l2: 17.0242\n",
      "[57]\ttraining's l2: 3.95671\tvalid_1's l2: 17.0793\n",
      "[58]\ttraining's l2: 3.88574\tvalid_1's l2: 17.1071\n",
      "[59]\ttraining's l2: 3.8046\tvalid_1's l2: 16.9366\n",
      "[60]\ttraining's l2: 3.73194\tvalid_1's l2: 16.8552\n",
      "[61]\ttraining's l2: 3.69317\tvalid_1's l2: 16.8277\n",
      "[62]\ttraining's l2: 3.64281\tvalid_1's l2: 16.815\n",
      "[63]\ttraining's l2: 3.54402\tvalid_1's l2: 16.8241\n",
      "[64]\ttraining's l2: 3.50485\tvalid_1's l2: 16.764\n",
      "[65]\ttraining's l2: 3.45816\tvalid_1's l2: 16.7421\n",
      "[66]\ttraining's l2: 3.39026\tvalid_1's l2: 16.6541\n",
      "[67]\ttraining's l2: 3.33316\tvalid_1's l2: 16.6848\n",
      "[68]\ttraining's l2: 3.23683\tvalid_1's l2: 16.5264\n",
      "[69]\ttraining's l2: 3.19965\tvalid_1's l2: 16.5111\n",
      "[70]\ttraining's l2: 3.17111\tvalid_1's l2: 16.5352\n",
      "[71]\ttraining's l2: 3.1373\tvalid_1's l2: 16.5264\n",
      "[72]\ttraining's l2: 3.09154\tvalid_1's l2: 16.5998\n",
      "[73]\ttraining's l2: 3.03314\tvalid_1's l2: 16.4596\n",
      "[74]\ttraining's l2: 2.99135\tvalid_1's l2: 16.4931\n",
      "[75]\ttraining's l2: 2.96423\tvalid_1's l2: 16.4622\n",
      "[76]\ttraining's l2: 2.92571\tvalid_1's l2: 16.3552\n",
      "[77]\ttraining's l2: 2.89396\tvalid_1's l2: 16.388\n",
      "[78]\ttraining's l2: 2.86136\tvalid_1's l2: 16.4302\n",
      "[79]\ttraining's l2: 2.82284\tvalid_1's l2: 16.3418\n",
      "[80]\ttraining's l2: 2.76847\tvalid_1's l2: 16.1348\n",
      "[81]\ttraining's l2: 2.71532\tvalid_1's l2: 16.0753\n",
      "[82]\ttraining's l2: 2.67564\tvalid_1's l2: 16.031\n",
      "[83]\ttraining's l2: 2.65175\tvalid_1's l2: 16.0076\n",
      "[84]\ttraining's l2: 2.62276\tvalid_1's l2: 15.9368\n",
      "[85]\ttraining's l2: 2.59119\tvalid_1's l2: 15.97\n",
      "[86]\ttraining's l2: 2.54598\tvalid_1's l2: 15.9126\n",
      "[87]\ttraining's l2: 2.5168\tvalid_1's l2: 15.9555\n",
      "[88]\ttraining's l2: 2.49375\tvalid_1's l2: 15.9419\n",
      "[89]\ttraining's l2: 2.47236\tvalid_1's l2: 15.8993\n",
      "[90]\ttraining's l2: 2.4497\tvalid_1's l2: 15.8978\n",
      "[91]\ttraining's l2: 2.40845\tvalid_1's l2: 15.9777\n",
      "[92]\ttraining's l2: 2.3675\tvalid_1's l2: 15.83\n",
      "[93]\ttraining's l2: 2.34438\tvalid_1's l2: 15.8038\n",
      "[94]\ttraining's l2: 2.31734\tvalid_1's l2: 15.7021\n",
      "[95]\ttraining's l2: 2.29887\tvalid_1's l2: 15.7336\n",
      "[96]\ttraining's l2: 2.27026\tvalid_1's l2: 15.6815\n",
      "[97]\ttraining's l2: 2.23368\tvalid_1's l2: 15.5371\n",
      "[98]\ttraining's l2: 2.19906\tvalid_1's l2: 15.4876\n",
      "[99]\ttraining's l2: 2.1774\tvalid_1's l2: 15.5095\n",
      "[100]\ttraining's l2: 2.15244\tvalid_1's l2: 15.5258\n",
      "[101]\ttraining's l2: 2.13882\tvalid_1's l2: 15.5018\n",
      "[102]\ttraining's l2: 2.10964\tvalid_1's l2: 15.4796\n",
      "[103]\ttraining's l2: 2.08485\tvalid_1's l2: 15.3829\n",
      "[104]\ttraining's l2: 2.05285\tvalid_1's l2: 15.3405\n",
      "[105]\ttraining's l2: 2.01838\tvalid_1's l2: 15.3176\n",
      "[106]\ttraining's l2: 1.98193\tvalid_1's l2: 15.2365\n",
      "[107]\ttraining's l2: 1.96806\tvalid_1's l2: 15.214\n",
      "[108]\ttraining's l2: 1.9486\tvalid_1's l2: 15.2044\n",
      "[109]\ttraining's l2: 1.92605\tvalid_1's l2: 15.2362\n",
      "[110]\ttraining's l2: 1.90652\tvalid_1's l2: 15.2275\n",
      "[111]\ttraining's l2: 1.88376\tvalid_1's l2: 15.1629\n",
      "[112]\ttraining's l2: 1.85836\tvalid_1's l2: 15.0276\n",
      "[113]\ttraining's l2: 1.83192\tvalid_1's l2: 15.0308\n",
      "[114]\ttraining's l2: 1.8154\tvalid_1's l2: 15.0646\n",
      "[115]\ttraining's l2: 1.79274\tvalid_1's l2: 15.05\n",
      "[116]\ttraining's l2: 1.76782\tvalid_1's l2: 15.0842\n",
      "[117]\ttraining's l2: 1.74369\tvalid_1's l2: 14.9768\n",
      "[118]\ttraining's l2: 1.72539\tvalid_1's l2: 15.0039\n",
      "[119]\ttraining's l2: 1.71411\tvalid_1's l2: 14.9892\n",
      "[120]\ttraining's l2: 1.69472\tvalid_1's l2: 14.97\n",
      "[121]\ttraining's l2: 1.67631\tvalid_1's l2: 14.997\n",
      "[122]\ttraining's l2: 1.64881\tvalid_1's l2: 14.9224\n",
      "[123]\ttraining's l2: 1.63882\tvalid_1's l2: 14.9036\n",
      "[124]\ttraining's l2: 1.62581\tvalid_1's l2: 14.9277\n",
      "[125]\ttraining's l2: 1.60888\tvalid_1's l2: 14.9495\n",
      "[126]\ttraining's l2: 1.59282\tvalid_1's l2: 14.9748\n",
      "[127]\ttraining's l2: 1.57941\tvalid_1's l2: 14.9169\n",
      "[128]\ttraining's l2: 1.56155\tvalid_1's l2: 14.8647\n",
      "[129]\ttraining's l2: 1.53526\tvalid_1's l2: 14.8387\n",
      "[130]\ttraining's l2: 1.51886\tvalid_1's l2: 14.7622\n",
      "[131]\ttraining's l2: 1.49871\tvalid_1's l2: 14.722\n",
      "[132]\ttraining's l2: 1.47681\tvalid_1's l2: 14.7645\n",
      "[133]\ttraining's l2: 1.46078\tvalid_1's l2: 14.7872\n",
      "[134]\ttraining's l2: 1.44285\tvalid_1's l2: 14.7627\n",
      "[135]\ttraining's l2: 1.42953\tvalid_1's l2: 14.7603\n",
      "[136]\ttraining's l2: 1.4116\tvalid_1's l2: 14.7274\n",
      "[137]\ttraining's l2: 1.40126\tvalid_1's l2: 14.7202\n",
      "[138]\ttraining's l2: 1.39126\tvalid_1's l2: 14.7039\n",
      "[139]\ttraining's l2: 1.37534\tvalid_1's l2: 14.6696\n",
      "[140]\ttraining's l2: 1.36017\tvalid_1's l2: 14.6407\n",
      "[141]\ttraining's l2: 1.34215\tvalid_1's l2: 14.6252\n",
      "[142]\ttraining's l2: 1.33136\tvalid_1's l2: 14.6221\n",
      "[143]\ttraining's l2: 1.31368\tvalid_1's l2: 14.5725\n",
      "[144]\ttraining's l2: 1.29664\tvalid_1's l2: 14.5348\n",
      "[145]\ttraining's l2: 1.28307\tvalid_1's l2: 14.5313\n",
      "[146]\ttraining's l2: 1.26945\tvalid_1's l2: 14.5092\n",
      "[147]\ttraining's l2: 1.25705\tvalid_1's l2: 14.5154\n",
      "[148]\ttraining's l2: 1.23893\tvalid_1's l2: 14.4924\n",
      "[149]\ttraining's l2: 1.22495\tvalid_1's l2: 14.5073\n",
      "[150]\ttraining's l2: 1.21138\tvalid_1's l2: 14.5232\n",
      "[151]\ttraining's l2: 1.1973\tvalid_1's l2: 14.5259\n",
      "[152]\ttraining's l2: 1.18584\tvalid_1's l2: 14.4963\n",
      "[153]\ttraining's l2: 1.17525\tvalid_1's l2: 14.4653\n",
      "[154]\ttraining's l2: 1.1627\tvalid_1's l2: 14.4407\n",
      "[155]\ttraining's l2: 1.15289\tvalid_1's l2: 14.4236\n",
      "[156]\ttraining's l2: 1.1411\tvalid_1's l2: 14.4025\n",
      "[157]\ttraining's l2: 1.12978\tvalid_1's l2: 14.3999\n",
      "[158]\ttraining's l2: 1.11815\tvalid_1's l2: 14.4073\n",
      "[159]\ttraining's l2: 1.10276\tvalid_1's l2: 14.3864\n",
      "[160]\ttraining's l2: 1.09096\tvalid_1's l2: 14.3366\n",
      "[161]\ttraining's l2: 1.08183\tvalid_1's l2: 14.312\n",
      "[162]\ttraining's l2: 1.07157\tvalid_1's l2: 14.2838\n",
      "[163]\ttraining's l2: 1.06142\tvalid_1's l2: 14.2921\n",
      "[164]\ttraining's l2: 1.05035\tvalid_1's l2: 14.2845\n",
      "[165]\ttraining's l2: 1.04357\tvalid_1's l2: 14.2766\n",
      "[166]\ttraining's l2: 1.0359\tvalid_1's l2: 14.2609\n",
      "[167]\ttraining's l2: 1.02504\tvalid_1's l2: 14.2478\n",
      "[168]\ttraining's l2: 1.01728\tvalid_1's l2: 14.2386\n",
      "[169]\ttraining's l2: 1.00596\tvalid_1's l2: 14.2068\n",
      "[170]\ttraining's l2: 0.999339\tvalid_1's l2: 14.229\n",
      "[171]\ttraining's l2: 0.99161\tvalid_1's l2: 14.2174\n",
      "[172]\ttraining's l2: 0.978788\tvalid_1's l2: 14.2536\n",
      "[173]\ttraining's l2: 0.967865\tvalid_1's l2: 14.262\n",
      "[174]\ttraining's l2: 0.955561\tvalid_1's l2: 14.2757\n",
      "[175]\ttraining's l2: 0.945941\tvalid_1's l2: 14.2897\n",
      "[176]\ttraining's l2: 0.936524\tvalid_1's l2: 14.3057\n",
      "[177]\ttraining's l2: 0.928768\tvalid_1's l2: 14.2865\n",
      "[178]\ttraining's l2: 0.920422\tvalid_1's l2: 14.2988\n",
      "[179]\ttraining's l2: 0.909674\tvalid_1's l2: 14.3113\n",
      "Early stopping, best iteration is:\n",
      "[169]\ttraining's l2: 1.00596\tvalid_1's l2: 14.2068\n"
     ]
    },
    {
     "data": {
      "text/plain": [
       "LGBMRegressor(boosting_type='gbdt', class_weight=None, colsample_bytree=1.0,\n",
       "              importance_type='split', learning_rate=0.1, max_depth=-1,\n",
       "              min_child_samples=20, min_child_weight=0.001, min_split_gain=0.0,\n",
       "              n_estimators=500, n_jobs=-1, num_leaves=31, objective=None,\n",
       "              random_state=None, reg_alpha=0.0, reg_lambda=0.0, silent=True,\n",
       "              subsample=1.0, subsample_for_bin=200000, subsample_freq=0)"
      ]
     },
     "execution_count": 120,
     "metadata": {},
     "output_type": "execute_result"
    }
   ],
   "source": [
    "lgbr.fit(X_train, y_train, early_stopping_rounds=10, eval_set=[(X_train, y_train), (X_test, y_test)])"
   ]
  },
  {
   "cell_type": "code",
   "execution_count": 121,
   "metadata": {},
   "outputs": [
    {
     "data": {
      "text/plain": [
       "0.9869289678555995"
      ]
     },
     "execution_count": 121,
     "metadata": {},
     "output_type": "execute_result"
    }
   ],
   "source": [
    "r2_score(y_pred=lgbr.predict(X_train), y_true=y_train)"
   ]
  },
  {
   "cell_type": "code",
   "execution_count": 122,
   "metadata": {},
   "outputs": [
    {
     "data": {
      "text/plain": [
       "0.8641550482150658"
      ]
     },
     "execution_count": 122,
     "metadata": {},
     "output_type": "execute_result"
    }
   ],
   "source": [
    "r2_score(y_pred=lgbr.predict(X_test), y_true=y_test)"
   ]
  },
  {
   "cell_type": "code",
   "execution_count": null,
   "metadata": {},
   "outputs": [],
   "source": []
  },
  {
   "cell_type": "code",
   "execution_count": null,
   "metadata": {},
   "outputs": [],
   "source": []
  },
  {
   "cell_type": "code",
   "execution_count": 125,
   "metadata": {},
   "outputs": [
    {
     "name": "stderr",
     "output_type": "stream",
     "text": [
      "/opt/conda/lib/python3.7/site-packages/optuna/integration/lightgbm_tuner/sklearn.py:50: UserWarning: LightGBMTuner doesn't support sklearn API. Use `train()` or `LightGBMTuner` for hyperparameter tuning.\n",
      "  warnings.warn(\"LightGBMTuner doesn't support sklearn API. \"\n"
     ]
    },
    {
     "ename": "RuntimeError",
     "evalue": "scikit-learn estimators should always specify their parameters in the signature of their __init__ (no varargs). <class 'optuna.integration.lightgbm_tuner.sklearn.LGBMRegressor'> with constructor (self, *args, **kwargs) doesn't  follow this convention.",
     "output_type": "error",
     "traceback": [
      "\u001b[0;31m---------------------------------------------------------------------------\u001b[0m",
      "\u001b[0;31mRuntimeError\u001b[0m                              Traceback (most recent call last)",
      "\u001b[0;32m/opt/conda/lib/python3.7/site-packages/IPython/core/formatters.py\u001b[0m in \u001b[0;36m__call__\u001b[0;34m(self, obj)\u001b[0m\n\u001b[1;32m    700\u001b[0m                 \u001b[0mtype_pprinters\u001b[0m\u001b[0;34m=\u001b[0m\u001b[0mself\u001b[0m\u001b[0;34m.\u001b[0m\u001b[0mtype_printers\u001b[0m\u001b[0;34m,\u001b[0m\u001b[0;34m\u001b[0m\u001b[0;34m\u001b[0m\u001b[0m\n\u001b[1;32m    701\u001b[0m                 deferred_pprinters=self.deferred_printers)\n\u001b[0;32m--> 702\u001b[0;31m             \u001b[0mprinter\u001b[0m\u001b[0;34m.\u001b[0m\u001b[0mpretty\u001b[0m\u001b[0;34m(\u001b[0m\u001b[0mobj\u001b[0m\u001b[0;34m)\u001b[0m\u001b[0;34m\u001b[0m\u001b[0;34m\u001b[0m\u001b[0m\n\u001b[0m\u001b[1;32m    703\u001b[0m             \u001b[0mprinter\u001b[0m\u001b[0;34m.\u001b[0m\u001b[0mflush\u001b[0m\u001b[0;34m(\u001b[0m\u001b[0;34m)\u001b[0m\u001b[0;34m\u001b[0m\u001b[0;34m\u001b[0m\u001b[0m\n\u001b[1;32m    704\u001b[0m             \u001b[0;32mreturn\u001b[0m \u001b[0mstream\u001b[0m\u001b[0;34m.\u001b[0m\u001b[0mgetvalue\u001b[0m\u001b[0;34m(\u001b[0m\u001b[0;34m)\u001b[0m\u001b[0;34m\u001b[0m\u001b[0;34m\u001b[0m\u001b[0m\n",
      "\u001b[0;32m/opt/conda/lib/python3.7/site-packages/IPython/lib/pretty.py\u001b[0m in \u001b[0;36mpretty\u001b[0;34m(self, obj)\u001b[0m\n\u001b[1;32m    403\u001b[0m                         \u001b[0;32mif\u001b[0m \u001b[0mcls\u001b[0m \u001b[0;32mis\u001b[0m \u001b[0;32mnot\u001b[0m \u001b[0mobject\u001b[0m\u001b[0;31m \u001b[0m\u001b[0;31m\\\u001b[0m\u001b[0;34m\u001b[0m\u001b[0;34m\u001b[0m\u001b[0m\n\u001b[1;32m    404\u001b[0m                                 \u001b[0;32mand\u001b[0m \u001b[0mcallable\u001b[0m\u001b[0;34m(\u001b[0m\u001b[0mcls\u001b[0m\u001b[0;34m.\u001b[0m\u001b[0m__dict__\u001b[0m\u001b[0;34m.\u001b[0m\u001b[0mget\u001b[0m\u001b[0;34m(\u001b[0m\u001b[0;34m'__repr__'\u001b[0m\u001b[0;34m)\u001b[0m\u001b[0;34m)\u001b[0m\u001b[0;34m:\u001b[0m\u001b[0;34m\u001b[0m\u001b[0;34m\u001b[0m\u001b[0m\n\u001b[0;32m--> 405\u001b[0;31m                             \u001b[0;32mreturn\u001b[0m \u001b[0m_repr_pprint\u001b[0m\u001b[0;34m(\u001b[0m\u001b[0mobj\u001b[0m\u001b[0;34m,\u001b[0m \u001b[0mself\u001b[0m\u001b[0;34m,\u001b[0m \u001b[0mcycle\u001b[0m\u001b[0;34m)\u001b[0m\u001b[0;34m\u001b[0m\u001b[0;34m\u001b[0m\u001b[0m\n\u001b[0m\u001b[1;32m    406\u001b[0m \u001b[0;34m\u001b[0m\u001b[0m\n\u001b[1;32m    407\u001b[0m             \u001b[0;32mreturn\u001b[0m \u001b[0m_default_pprint\u001b[0m\u001b[0;34m(\u001b[0m\u001b[0mobj\u001b[0m\u001b[0;34m,\u001b[0m \u001b[0mself\u001b[0m\u001b[0;34m,\u001b[0m \u001b[0mcycle\u001b[0m\u001b[0;34m)\u001b[0m\u001b[0;34m\u001b[0m\u001b[0;34m\u001b[0m\u001b[0m\n",
      "\u001b[0;32m/opt/conda/lib/python3.7/site-packages/IPython/lib/pretty.py\u001b[0m in \u001b[0;36m_repr_pprint\u001b[0;34m(obj, p, cycle)\u001b[0m\n\u001b[1;32m    693\u001b[0m     \u001b[0;34m\"\"\"A pprint that just redirects to the normal repr function.\"\"\"\u001b[0m\u001b[0;34m\u001b[0m\u001b[0;34m\u001b[0m\u001b[0m\n\u001b[1;32m    694\u001b[0m     \u001b[0;31m# Find newlines and replace them with p.break_()\u001b[0m\u001b[0;34m\u001b[0m\u001b[0;34m\u001b[0m\u001b[0;34m\u001b[0m\u001b[0m\n\u001b[0;32m--> 695\u001b[0;31m     \u001b[0moutput\u001b[0m \u001b[0;34m=\u001b[0m \u001b[0mrepr\u001b[0m\u001b[0;34m(\u001b[0m\u001b[0mobj\u001b[0m\u001b[0;34m)\u001b[0m\u001b[0;34m\u001b[0m\u001b[0;34m\u001b[0m\u001b[0m\n\u001b[0m\u001b[1;32m    696\u001b[0m     \u001b[0mlines\u001b[0m \u001b[0;34m=\u001b[0m \u001b[0moutput\u001b[0m\u001b[0;34m.\u001b[0m\u001b[0msplitlines\u001b[0m\u001b[0;34m(\u001b[0m\u001b[0;34m)\u001b[0m\u001b[0;34m\u001b[0m\u001b[0;34m\u001b[0m\u001b[0m\n\u001b[1;32m    697\u001b[0m     \u001b[0;32mwith\u001b[0m \u001b[0mp\u001b[0m\u001b[0;34m.\u001b[0m\u001b[0mgroup\u001b[0m\u001b[0;34m(\u001b[0m\u001b[0;34m)\u001b[0m\u001b[0;34m:\u001b[0m\u001b[0;34m\u001b[0m\u001b[0;34m\u001b[0m\u001b[0m\n",
      "\u001b[0;32m/opt/conda/lib/python3.7/site-packages/sklearn/base.py\u001b[0m in \u001b[0;36m__repr__\u001b[0;34m(self, N_CHAR_MAX)\u001b[0m\n\u001b[1;32m    261\u001b[0m             n_max_elements_to_show=N_MAX_ELEMENTS_TO_SHOW)\n\u001b[1;32m    262\u001b[0m \u001b[0;34m\u001b[0m\u001b[0m\n\u001b[0;32m--> 263\u001b[0;31m         \u001b[0mrepr_\u001b[0m \u001b[0;34m=\u001b[0m \u001b[0mpp\u001b[0m\u001b[0;34m.\u001b[0m\u001b[0mpformat\u001b[0m\u001b[0;34m(\u001b[0m\u001b[0mself\u001b[0m\u001b[0;34m)\u001b[0m\u001b[0;34m\u001b[0m\u001b[0;34m\u001b[0m\u001b[0m\n\u001b[0m\u001b[1;32m    264\u001b[0m \u001b[0;34m\u001b[0m\u001b[0m\n\u001b[1;32m    265\u001b[0m         \u001b[0;31m# Use bruteforce ellipsis when there are a lot of non-blank characters\u001b[0m\u001b[0;34m\u001b[0m\u001b[0;34m\u001b[0m\u001b[0;34m\u001b[0m\u001b[0m\n",
      "\u001b[0;32m/opt/conda/lib/python3.7/pprint.py\u001b[0m in \u001b[0;36mpformat\u001b[0;34m(self, object)\u001b[0m\n\u001b[1;32m    142\u001b[0m     \u001b[0;32mdef\u001b[0m \u001b[0mpformat\u001b[0m\u001b[0;34m(\u001b[0m\u001b[0mself\u001b[0m\u001b[0;34m,\u001b[0m \u001b[0mobject\u001b[0m\u001b[0;34m)\u001b[0m\u001b[0;34m:\u001b[0m\u001b[0;34m\u001b[0m\u001b[0;34m\u001b[0m\u001b[0m\n\u001b[1;32m    143\u001b[0m         \u001b[0msio\u001b[0m \u001b[0;34m=\u001b[0m \u001b[0m_StringIO\u001b[0m\u001b[0;34m(\u001b[0m\u001b[0;34m)\u001b[0m\u001b[0;34m\u001b[0m\u001b[0;34m\u001b[0m\u001b[0m\n\u001b[0;32m--> 144\u001b[0;31m         \u001b[0mself\u001b[0m\u001b[0;34m.\u001b[0m\u001b[0m_format\u001b[0m\u001b[0;34m(\u001b[0m\u001b[0mobject\u001b[0m\u001b[0;34m,\u001b[0m \u001b[0msio\u001b[0m\u001b[0;34m,\u001b[0m \u001b[0;36m0\u001b[0m\u001b[0;34m,\u001b[0m \u001b[0;36m0\u001b[0m\u001b[0;34m,\u001b[0m \u001b[0;34m{\u001b[0m\u001b[0;34m}\u001b[0m\u001b[0;34m,\u001b[0m \u001b[0;36m0\u001b[0m\u001b[0;34m)\u001b[0m\u001b[0;34m\u001b[0m\u001b[0;34m\u001b[0m\u001b[0m\n\u001b[0m\u001b[1;32m    145\u001b[0m         \u001b[0;32mreturn\u001b[0m \u001b[0msio\u001b[0m\u001b[0;34m.\u001b[0m\u001b[0mgetvalue\u001b[0m\u001b[0;34m(\u001b[0m\u001b[0;34m)\u001b[0m\u001b[0;34m\u001b[0m\u001b[0;34m\u001b[0m\u001b[0m\n\u001b[1;32m    146\u001b[0m \u001b[0;34m\u001b[0m\u001b[0m\n",
      "\u001b[0;32m/opt/conda/lib/python3.7/pprint.py\u001b[0m in \u001b[0;36m_format\u001b[0;34m(self, object, stream, indent, allowance, context, level)\u001b[0m\n\u001b[1;32m    159\u001b[0m             \u001b[0mself\u001b[0m\u001b[0;34m.\u001b[0m\u001b[0m_readable\u001b[0m \u001b[0;34m=\u001b[0m \u001b[0;32mFalse\u001b[0m\u001b[0;34m\u001b[0m\u001b[0;34m\u001b[0m\u001b[0m\n\u001b[1;32m    160\u001b[0m             \u001b[0;32mreturn\u001b[0m\u001b[0;34m\u001b[0m\u001b[0;34m\u001b[0m\u001b[0m\n\u001b[0;32m--> 161\u001b[0;31m         \u001b[0mrep\u001b[0m \u001b[0;34m=\u001b[0m \u001b[0mself\u001b[0m\u001b[0;34m.\u001b[0m\u001b[0m_repr\u001b[0m\u001b[0;34m(\u001b[0m\u001b[0mobject\u001b[0m\u001b[0;34m,\u001b[0m \u001b[0mcontext\u001b[0m\u001b[0;34m,\u001b[0m \u001b[0mlevel\u001b[0m\u001b[0;34m)\u001b[0m\u001b[0;34m\u001b[0m\u001b[0;34m\u001b[0m\u001b[0m\n\u001b[0m\u001b[1;32m    162\u001b[0m         \u001b[0mmax_width\u001b[0m \u001b[0;34m=\u001b[0m \u001b[0mself\u001b[0m\u001b[0;34m.\u001b[0m\u001b[0m_width\u001b[0m \u001b[0;34m-\u001b[0m \u001b[0mindent\u001b[0m \u001b[0;34m-\u001b[0m \u001b[0mallowance\u001b[0m\u001b[0;34m\u001b[0m\u001b[0;34m\u001b[0m\u001b[0m\n\u001b[1;32m    163\u001b[0m         \u001b[0;32mif\u001b[0m \u001b[0mlen\u001b[0m\u001b[0;34m(\u001b[0m\u001b[0mrep\u001b[0m\u001b[0;34m)\u001b[0m \u001b[0;34m>\u001b[0m \u001b[0mmax_width\u001b[0m\u001b[0;34m:\u001b[0m\u001b[0;34m\u001b[0m\u001b[0;34m\u001b[0m\u001b[0m\n",
      "\u001b[0;32m/opt/conda/lib/python3.7/pprint.py\u001b[0m in \u001b[0;36m_repr\u001b[0;34m(self, object, context, level)\u001b[0m\n\u001b[1;32m    391\u001b[0m     \u001b[0;32mdef\u001b[0m \u001b[0m_repr\u001b[0m\u001b[0;34m(\u001b[0m\u001b[0mself\u001b[0m\u001b[0;34m,\u001b[0m \u001b[0mobject\u001b[0m\u001b[0;34m,\u001b[0m \u001b[0mcontext\u001b[0m\u001b[0;34m,\u001b[0m \u001b[0mlevel\u001b[0m\u001b[0;34m)\u001b[0m\u001b[0;34m:\u001b[0m\u001b[0;34m\u001b[0m\u001b[0;34m\u001b[0m\u001b[0m\n\u001b[1;32m    392\u001b[0m         repr, readable, recursive = self.format(object, context.copy(),\n\u001b[0;32m--> 393\u001b[0;31m                                                 self._depth, level)\n\u001b[0m\u001b[1;32m    394\u001b[0m         \u001b[0;32mif\u001b[0m \u001b[0;32mnot\u001b[0m \u001b[0mreadable\u001b[0m\u001b[0;34m:\u001b[0m\u001b[0;34m\u001b[0m\u001b[0;34m\u001b[0m\u001b[0m\n\u001b[1;32m    395\u001b[0m             \u001b[0mself\u001b[0m\u001b[0;34m.\u001b[0m\u001b[0m_readable\u001b[0m \u001b[0;34m=\u001b[0m \u001b[0;32mFalse\u001b[0m\u001b[0;34m\u001b[0m\u001b[0;34m\u001b[0m\u001b[0m\n",
      "\u001b[0;32m/opt/conda/lib/python3.7/site-packages/sklearn/utils/_pprint.py\u001b[0m in \u001b[0;36mformat\u001b[0;34m(self, object, context, maxlevels, level)\u001b[0m\n\u001b[1;32m    168\u001b[0m     \u001b[0;32mdef\u001b[0m \u001b[0mformat\u001b[0m\u001b[0;34m(\u001b[0m\u001b[0mself\u001b[0m\u001b[0;34m,\u001b[0m \u001b[0mobject\u001b[0m\u001b[0;34m,\u001b[0m \u001b[0mcontext\u001b[0m\u001b[0;34m,\u001b[0m \u001b[0mmaxlevels\u001b[0m\u001b[0;34m,\u001b[0m \u001b[0mlevel\u001b[0m\u001b[0;34m)\u001b[0m\u001b[0;34m:\u001b[0m\u001b[0;34m\u001b[0m\u001b[0;34m\u001b[0m\u001b[0m\n\u001b[1;32m    169\u001b[0m         return _safe_repr(object, context, maxlevels, level,\n\u001b[0;32m--> 170\u001b[0;31m                           changed_only=self._changed_only)\n\u001b[0m\u001b[1;32m    171\u001b[0m \u001b[0;34m\u001b[0m\u001b[0m\n\u001b[1;32m    172\u001b[0m     def _pprint_estimator(self, object, stream, indent, allowance, context,\n",
      "\u001b[0;32m/opt/conda/lib/python3.7/site-packages/sklearn/utils/_pprint.py\u001b[0m in \u001b[0;36m_safe_repr\u001b[0;34m(object, context, maxlevels, level, changed_only)\u001b[0m\n\u001b[1;32m    413\u001b[0m             \u001b[0mparams\u001b[0m \u001b[0;34m=\u001b[0m \u001b[0m_changed_params\u001b[0m\u001b[0;34m(\u001b[0m\u001b[0mobject\u001b[0m\u001b[0;34m)\u001b[0m\u001b[0;34m\u001b[0m\u001b[0;34m\u001b[0m\u001b[0m\n\u001b[1;32m    414\u001b[0m         \u001b[0;32melse\u001b[0m\u001b[0;34m:\u001b[0m\u001b[0;34m\u001b[0m\u001b[0;34m\u001b[0m\u001b[0m\n\u001b[0;32m--> 415\u001b[0;31m             \u001b[0mparams\u001b[0m \u001b[0;34m=\u001b[0m \u001b[0mobject\u001b[0m\u001b[0;34m.\u001b[0m\u001b[0mget_params\u001b[0m\u001b[0;34m(\u001b[0m\u001b[0mdeep\u001b[0m\u001b[0;34m=\u001b[0m\u001b[0;32mFalse\u001b[0m\u001b[0;34m)\u001b[0m\u001b[0;34m\u001b[0m\u001b[0;34m\u001b[0m\u001b[0m\n\u001b[0m\u001b[1;32m    416\u001b[0m         \u001b[0mcomponents\u001b[0m \u001b[0;34m=\u001b[0m \u001b[0;34m[\u001b[0m\u001b[0;34m]\u001b[0m\u001b[0;34m\u001b[0m\u001b[0;34m\u001b[0m\u001b[0m\n\u001b[1;32m    417\u001b[0m         \u001b[0mappend\u001b[0m \u001b[0;34m=\u001b[0m \u001b[0mcomponents\u001b[0m\u001b[0;34m.\u001b[0m\u001b[0mappend\u001b[0m\u001b[0;34m\u001b[0m\u001b[0;34m\u001b[0m\u001b[0m\n",
      "\u001b[0;32m/opt/conda/lib/python3.7/site-packages/lightgbm/sklearn.py\u001b[0m in \u001b[0;36mget_params\u001b[0;34m(self, deep)\u001b[0m\n\u001b[1;32m    345\u001b[0m             \u001b[0mParameter\u001b[0m \u001b[0mnames\u001b[0m \u001b[0mmapped\u001b[0m \u001b[0mto\u001b[0m \u001b[0mtheir\u001b[0m \u001b[0mvalues\u001b[0m\u001b[0;34m.\u001b[0m\u001b[0;34m\u001b[0m\u001b[0;34m\u001b[0m\u001b[0m\n\u001b[1;32m    346\u001b[0m         \"\"\"\n\u001b[0;32m--> 347\u001b[0;31m         \u001b[0mparams\u001b[0m \u001b[0;34m=\u001b[0m \u001b[0msuper\u001b[0m\u001b[0;34m(\u001b[0m\u001b[0mLGBMModel\u001b[0m\u001b[0;34m,\u001b[0m \u001b[0mself\u001b[0m\u001b[0;34m)\u001b[0m\u001b[0;34m.\u001b[0m\u001b[0mget_params\u001b[0m\u001b[0;34m(\u001b[0m\u001b[0mdeep\u001b[0m\u001b[0;34m=\u001b[0m\u001b[0mdeep\u001b[0m\u001b[0;34m)\u001b[0m\u001b[0;34m\u001b[0m\u001b[0;34m\u001b[0m\u001b[0m\n\u001b[0m\u001b[1;32m    348\u001b[0m         \u001b[0mparams\u001b[0m\u001b[0;34m.\u001b[0m\u001b[0mupdate\u001b[0m\u001b[0;34m(\u001b[0m\u001b[0mself\u001b[0m\u001b[0;34m.\u001b[0m\u001b[0m_other_params\u001b[0m\u001b[0;34m)\u001b[0m\u001b[0;34m\u001b[0m\u001b[0;34m\u001b[0m\u001b[0m\n\u001b[1;32m    349\u001b[0m         \u001b[0;32mreturn\u001b[0m \u001b[0mparams\u001b[0m\u001b[0;34m\u001b[0m\u001b[0;34m\u001b[0m\u001b[0m\n",
      "\u001b[0;32m/opt/conda/lib/python3.7/site-packages/sklearn/base.py\u001b[0m in \u001b[0;36mget_params\u001b[0;34m(self, deep)\u001b[0m\n\u001b[1;32m    187\u001b[0m         \"\"\"\n\u001b[1;32m    188\u001b[0m         \u001b[0mout\u001b[0m \u001b[0;34m=\u001b[0m \u001b[0mdict\u001b[0m\u001b[0;34m(\u001b[0m\u001b[0;34m)\u001b[0m\u001b[0;34m\u001b[0m\u001b[0;34m\u001b[0m\u001b[0m\n\u001b[0;32m--> 189\u001b[0;31m         \u001b[0;32mfor\u001b[0m \u001b[0mkey\u001b[0m \u001b[0;32min\u001b[0m \u001b[0mself\u001b[0m\u001b[0;34m.\u001b[0m\u001b[0m_get_param_names\u001b[0m\u001b[0;34m(\u001b[0m\u001b[0;34m)\u001b[0m\u001b[0;34m:\u001b[0m\u001b[0;34m\u001b[0m\u001b[0;34m\u001b[0m\u001b[0m\n\u001b[0m\u001b[1;32m    190\u001b[0m             \u001b[0;32mtry\u001b[0m\u001b[0;34m:\u001b[0m\u001b[0;34m\u001b[0m\u001b[0;34m\u001b[0m\u001b[0m\n\u001b[1;32m    191\u001b[0m                 \u001b[0mvalue\u001b[0m \u001b[0;34m=\u001b[0m \u001b[0mgetattr\u001b[0m\u001b[0;34m(\u001b[0m\u001b[0mself\u001b[0m\u001b[0;34m,\u001b[0m \u001b[0mkey\u001b[0m\u001b[0;34m)\u001b[0m\u001b[0;34m\u001b[0m\u001b[0;34m\u001b[0m\u001b[0m\n",
      "\u001b[0;32m/opt/conda/lib/python3.7/site-packages/sklearn/base.py\u001b[0m in \u001b[0;36m_get_param_names\u001b[0;34m(cls)\u001b[0m\n\u001b[1;32m    167\u001b[0m                                    \u001b[0;34m\" %s with constructor %s doesn't \"\u001b[0m\u001b[0;34m\u001b[0m\u001b[0;34m\u001b[0m\u001b[0m\n\u001b[1;32m    168\u001b[0m                                    \u001b[0;34m\" follow this convention.\"\u001b[0m\u001b[0;34m\u001b[0m\u001b[0;34m\u001b[0m\u001b[0m\n\u001b[0;32m--> 169\u001b[0;31m                                    % (cls, init_signature))\n\u001b[0m\u001b[1;32m    170\u001b[0m         \u001b[0;31m# Extract and sort argument names excluding 'self'\u001b[0m\u001b[0;34m\u001b[0m\u001b[0;34m\u001b[0m\u001b[0;34m\u001b[0m\u001b[0m\n\u001b[1;32m    171\u001b[0m         \u001b[0;32mreturn\u001b[0m \u001b[0msorted\u001b[0m\u001b[0;34m(\u001b[0m\u001b[0;34m[\u001b[0m\u001b[0mp\u001b[0m\u001b[0;34m.\u001b[0m\u001b[0mname\u001b[0m \u001b[0;32mfor\u001b[0m \u001b[0mp\u001b[0m \u001b[0;32min\u001b[0m \u001b[0mparameters\u001b[0m\u001b[0;34m]\u001b[0m\u001b[0;34m)\u001b[0m\u001b[0;34m\u001b[0m\u001b[0;34m\u001b[0m\u001b[0m\n",
      "\u001b[0;31mRuntimeError\u001b[0m: scikit-learn estimators should always specify their parameters in the signature of their __init__ (no varargs). <class 'optuna.integration.lightgbm_tuner.sklearn.LGBMRegressor'> with constructor (self, *args, **kwargs) doesn't  follow this convention."
     ]
    }
   ],
   "source": [
    "optuna.integration.lightgbm.LGBMRegressor()"
   ]
  },
  {
   "cell_type": "code",
   "execution_count": 145,
   "metadata": {},
   "outputs": [],
   "source": [
    "lgb_optuna = optuna.integration.lightgbm_tuner"
   ]
  },
  {
   "cell_type": "code",
   "execution_count": null,
   "metadata": {},
   "outputs": [],
   "source": []
  },
  {
   "cell_type": "code",
   "execution_count": 150,
   "metadata": {},
   "outputs": [
    {
     "name": "stderr",
     "output_type": "stream",
     "text": [
      "\n",
      "\n",
      "\n",
      "\n",
      "\n",
      "\n",
      "\n",
      "\n",
      "  0%|          | 0/7 [00:00<?, ?it/s]\n",
      "\n",
      "\n",
      "\n",
      "\n",
      "\n",
      "\n",
      "\n",
      "tune_feature_fraction, val_score: inf:   0%|          | 0/7 [00:00<?, ?it/s][W 2020-03-14 18:22:21,574] Setting status of trial#0 as TrialState.FAIL because of the following error: ValueError('The truth value of an array with more than one element is ambiguous. Use a.any() or a.all()')\n",
      "Traceback (most recent call last):\n",
      "  File \"/opt/conda/lib/python3.7/site-packages/optuna/study.py\", line 569, in _run_trial\n",
      "    result = func(trial)\n",
      "  File \"/opt/conda/lib/python3.7/site-packages/optuna/integration/lightgbm_tuner/optimize.py\", line 242, in __call__\n",
      "    booster = lgb.train(self.lgbm_params, self.train_set, **self.lgbm_kwargs)\n",
      "  File \"/opt/conda/lib/python3.7/site-packages/lightgbm/engine.py\", line 157, in train\n",
      "    if num_boost_round <= 0:\n",
      "ValueError: The truth value of an array with more than one element is ambiguous. Use a.any() or a.all()\n"
     ]
    },
    {
     "ename": "ValueError",
     "evalue": "The truth value of an array with more than one element is ambiguous. Use a.any() or a.all()",
     "output_type": "error",
     "traceback": [
      "\u001b[0;31m---------------------------------------------------------------------------\u001b[0m",
      "\u001b[0;31mValueError\u001b[0m                                Traceback (most recent call last)",
      "\u001b[0;32m<ipython-input-150-879a950e1919>\u001b[0m in \u001b[0;36m<module>\u001b[0;34m\u001b[0m\n\u001b[1;32m     15\u001b[0m     \u001b[0mverbose_eval\u001b[0m\u001b[0;34m=\u001b[0m\u001b[0;36m0\u001b[0m\u001b[0;34m,\u001b[0m\u001b[0;34m\u001b[0m\u001b[0;34m\u001b[0m\u001b[0m\n\u001b[1;32m     16\u001b[0m     \u001b[0mbest_params\u001b[0m\u001b[0;34m=\u001b[0m\u001b[0mbest_params\u001b[0m\u001b[0;34m,\u001b[0m\u001b[0;34m\u001b[0m\u001b[0;34m\u001b[0m\u001b[0m\n\u001b[0;32m---> 17\u001b[0;31m     tuning_history=tuning_history)\n\u001b[0m",
      "\u001b[0;32m/opt/conda/lib/python3.7/site-packages/optuna/integration/lightgbm_tuner/__init__.py\u001b[0m in \u001b[0;36mtrain\u001b[0;34m(*args, **kwargs)\u001b[0m\n\u001b[1;32m     21\u001b[0m \u001b[0;34m\u001b[0m\u001b[0m\n\u001b[1;32m     22\u001b[0m     \u001b[0mauto_booster\u001b[0m \u001b[0;34m=\u001b[0m \u001b[0mLightGBMTuner\u001b[0m\u001b[0;34m(\u001b[0m\u001b[0;34m*\u001b[0m\u001b[0margs\u001b[0m\u001b[0;34m,\u001b[0m \u001b[0;34m**\u001b[0m\u001b[0mkwargs\u001b[0m\u001b[0;34m)\u001b[0m\u001b[0;34m\u001b[0m\u001b[0;34m\u001b[0m\u001b[0m\n\u001b[0;32m---> 23\u001b[0;31m     \u001b[0mbooster\u001b[0m \u001b[0;34m=\u001b[0m \u001b[0mauto_booster\u001b[0m\u001b[0;34m.\u001b[0m\u001b[0mrun\u001b[0m\u001b[0;34m(\u001b[0m\u001b[0;34m)\u001b[0m\u001b[0;34m\u001b[0m\u001b[0;34m\u001b[0m\u001b[0m\n\u001b[0m\u001b[1;32m     24\u001b[0m     \u001b[0;32mreturn\u001b[0m \u001b[0mbooster\u001b[0m\u001b[0;34m\u001b[0m\u001b[0;34m\u001b[0m\u001b[0m\n",
      "\u001b[0;32m/opt/conda/lib/python3.7/site-packages/optuna/integration/lightgbm_tuner/optimize.py\u001b[0m in \u001b[0;36mrun\u001b[0;34m(self)\u001b[0m\n\u001b[1;32m    381\u001b[0m         \u001b[0mself\u001b[0m\u001b[0;34m.\u001b[0m\u001b[0mstart_time\u001b[0m \u001b[0;34m=\u001b[0m \u001b[0mtime\u001b[0m\u001b[0;34m.\u001b[0m\u001b[0mtime\u001b[0m\u001b[0;34m(\u001b[0m\u001b[0;34m)\u001b[0m\u001b[0;34m\u001b[0m\u001b[0;34m\u001b[0m\u001b[0m\n\u001b[1;32m    382\u001b[0m         \u001b[0;32mwith\u001b[0m \u001b[0m_timer\u001b[0m\u001b[0;34m(\u001b[0m\u001b[0;34m)\u001b[0m \u001b[0;32mas\u001b[0m \u001b[0mt\u001b[0m\u001b[0;34m:\u001b[0m\u001b[0;34m\u001b[0m\u001b[0;34m\u001b[0m\u001b[0m\n\u001b[0;32m--> 383\u001b[0;31m             \u001b[0mself\u001b[0m\u001b[0;34m.\u001b[0m\u001b[0mtune_feature_fraction\u001b[0m\u001b[0;34m(\u001b[0m\u001b[0;34m)\u001b[0m\u001b[0;34m\u001b[0m\u001b[0;34m\u001b[0m\u001b[0m\n\u001b[0m\u001b[1;32m    384\u001b[0m             \u001b[0;32mif\u001b[0m \u001b[0mtime_budget\u001b[0m \u001b[0;32mis\u001b[0m \u001b[0;32mnot\u001b[0m \u001b[0;32mNone\u001b[0m \u001b[0;32mand\u001b[0m \u001b[0mtime_budget\u001b[0m \u001b[0;34m<\u001b[0m \u001b[0mt\u001b[0m\u001b[0;34m.\u001b[0m\u001b[0melapsed_secs\u001b[0m\u001b[0;34m(\u001b[0m\u001b[0;34m)\u001b[0m\u001b[0;34m:\u001b[0m\u001b[0;34m\u001b[0m\u001b[0;34m\u001b[0m\u001b[0m\n\u001b[1;32m    385\u001b[0m                 \u001b[0;32mreturn\u001b[0m \u001b[0mself\u001b[0m\u001b[0;34m.\u001b[0m\u001b[0mbest_booster\u001b[0m\u001b[0;34m\u001b[0m\u001b[0;34m\u001b[0m\u001b[0m\n",
      "\u001b[0;32m/opt/conda/lib/python3.7/site-packages/optuna/integration/lightgbm_tuner/optimize.py\u001b[0m in \u001b[0;36mtune_feature_fraction\u001b[0;34m(self, n_trials)\u001b[0m\n\u001b[1;32m    427\u001b[0m         \u001b[0mparam_values\u001b[0m \u001b[0;34m=\u001b[0m \u001b[0mlist\u001b[0m\u001b[0;34m(\u001b[0m\u001b[0mnp\u001b[0m\u001b[0;34m.\u001b[0m\u001b[0mlinspace\u001b[0m\u001b[0;34m(\u001b[0m\u001b[0;36m0.4\u001b[0m\u001b[0;34m,\u001b[0m \u001b[0;36m1.0\u001b[0m\u001b[0;34m,\u001b[0m \u001b[0mn_trials\u001b[0m\u001b[0;34m)\u001b[0m\u001b[0;34m)\u001b[0m\u001b[0;34m\u001b[0m\u001b[0;34m\u001b[0m\u001b[0m\n\u001b[1;32m    428\u001b[0m         \u001b[0msampler\u001b[0m \u001b[0;34m=\u001b[0m \u001b[0m_GridSamplerUniform1D\u001b[0m\u001b[0;34m(\u001b[0m\u001b[0mparam_name\u001b[0m\u001b[0;34m,\u001b[0m \u001b[0mparam_values\u001b[0m\u001b[0;34m)\u001b[0m\u001b[0;34m\u001b[0m\u001b[0;34m\u001b[0m\u001b[0m\n\u001b[0;32m--> 429\u001b[0;31m         \u001b[0mself\u001b[0m\u001b[0;34m.\u001b[0m\u001b[0mtune_params\u001b[0m\u001b[0;34m(\u001b[0m\u001b[0;34m[\u001b[0m\u001b[0mparam_name\u001b[0m\u001b[0;34m]\u001b[0m\u001b[0;34m,\u001b[0m \u001b[0mlen\u001b[0m\u001b[0;34m(\u001b[0m\u001b[0mparam_values\u001b[0m\u001b[0;34m)\u001b[0m\u001b[0;34m,\u001b[0m \u001b[0msampler\u001b[0m\u001b[0;34m)\u001b[0m\u001b[0;34m\u001b[0m\u001b[0;34m\u001b[0m\u001b[0m\n\u001b[0m\u001b[1;32m    430\u001b[0m \u001b[0;34m\u001b[0m\u001b[0m\n\u001b[1;32m    431\u001b[0m     \u001b[0;32mdef\u001b[0m \u001b[0mtune_num_leaves\u001b[0m\u001b[0;34m(\u001b[0m\u001b[0mself\u001b[0m\u001b[0;34m,\u001b[0m \u001b[0mn_trials\u001b[0m\u001b[0;34m=\u001b[0m\u001b[0;36m20\u001b[0m\u001b[0;34m)\u001b[0m\u001b[0;34m:\u001b[0m\u001b[0;34m\u001b[0m\u001b[0;34m\u001b[0m\u001b[0m\n",
      "\u001b[0;32m/opt/conda/lib/python3.7/site-packages/optuna/integration/lightgbm_tuner/optimize.py\u001b[0m in \u001b[0;36mtune_params\u001b[0;34m(self, target_param_names, n_trials, sampler)\u001b[0m\n\u001b[1;32m    489\u001b[0m             \u001b[0mdirection\u001b[0m\u001b[0;34m=\u001b[0m\u001b[0;34m'maximize'\u001b[0m \u001b[0;32mif\u001b[0m \u001b[0mself\u001b[0m\u001b[0;34m.\u001b[0m\u001b[0mhigher_is_better\u001b[0m\u001b[0;34m(\u001b[0m\u001b[0;34m)\u001b[0m \u001b[0;32melse\u001b[0m \u001b[0;34m'minimize'\u001b[0m\u001b[0;34m,\u001b[0m\u001b[0;34m\u001b[0m\u001b[0;34m\u001b[0m\u001b[0m\n\u001b[1;32m    490\u001b[0m             sampler=sampler)\n\u001b[0;32m--> 491\u001b[0;31m         \u001b[0mstudy\u001b[0m\u001b[0;34m.\u001b[0m\u001b[0moptimize\u001b[0m\u001b[0;34m(\u001b[0m\u001b[0mobjective\u001b[0m\u001b[0;34m,\u001b[0m \u001b[0mn_trials\u001b[0m\u001b[0;34m=\u001b[0m\u001b[0mn_trials\u001b[0m\u001b[0;34m,\u001b[0m \u001b[0mcatch\u001b[0m\u001b[0;34m=\u001b[0m\u001b[0;34m(\u001b[0m\u001b[0;34m)\u001b[0m\u001b[0;34m)\u001b[0m\u001b[0;34m\u001b[0m\u001b[0;34m\u001b[0m\u001b[0m\n\u001b[0m\u001b[1;32m    492\u001b[0m \u001b[0;34m\u001b[0m\u001b[0m\n\u001b[1;32m    493\u001b[0m         \u001b[0mpbar\u001b[0m\u001b[0;34m.\u001b[0m\u001b[0mclose\u001b[0m\u001b[0;34m(\u001b[0m\u001b[0;34m)\u001b[0m\u001b[0;34m\u001b[0m\u001b[0;34m\u001b[0m\u001b[0m\n",
      "\u001b[0;32m/opt/conda/lib/python3.7/site-packages/optuna/study.py\u001b[0m in \u001b[0;36moptimize\u001b[0;34m(self, func, n_trials, timeout, n_jobs, catch, callbacks, gc_after_trial)\u001b[0m\n\u001b[1;32m    300\u001b[0m             \u001b[0;32mif\u001b[0m \u001b[0mn_jobs\u001b[0m \u001b[0;34m==\u001b[0m \u001b[0;36m1\u001b[0m\u001b[0;34m:\u001b[0m\u001b[0;34m\u001b[0m\u001b[0;34m\u001b[0m\u001b[0m\n\u001b[1;32m    301\u001b[0m                 self._optimize_sequential(func, n_trials, timeout, catch, callbacks,\n\u001b[0;32m--> 302\u001b[0;31m                                           gc_after_trial, None)\n\u001b[0m\u001b[1;32m    303\u001b[0m             \u001b[0;32melse\u001b[0m\u001b[0;34m:\u001b[0m\u001b[0;34m\u001b[0m\u001b[0;34m\u001b[0m\u001b[0m\n\u001b[1;32m    304\u001b[0m                 \u001b[0mtime_start\u001b[0m \u001b[0;34m=\u001b[0m \u001b[0mdatetime\u001b[0m\u001b[0;34m.\u001b[0m\u001b[0mdatetime\u001b[0m\u001b[0;34m.\u001b[0m\u001b[0mnow\u001b[0m\u001b[0;34m(\u001b[0m\u001b[0;34m)\u001b[0m\u001b[0;34m\u001b[0m\u001b[0;34m\u001b[0m\u001b[0m\n",
      "\u001b[0;32m/opt/conda/lib/python3.7/site-packages/optuna/study.py\u001b[0m in \u001b[0;36m_optimize_sequential\u001b[0;34m(self, func, n_trials, timeout, catch, callbacks, gc_after_trial, time_start)\u001b[0m\n\u001b[1;32m    536\u001b[0m                     \u001b[0;32mbreak\u001b[0m\u001b[0;34m\u001b[0m\u001b[0;34m\u001b[0m\u001b[0m\n\u001b[1;32m    537\u001b[0m \u001b[0;34m\u001b[0m\u001b[0m\n\u001b[0;32m--> 538\u001b[0;31m             \u001b[0mself\u001b[0m\u001b[0;34m.\u001b[0m\u001b[0m_run_trial_and_callbacks\u001b[0m\u001b[0;34m(\u001b[0m\u001b[0mfunc\u001b[0m\u001b[0;34m,\u001b[0m \u001b[0mcatch\u001b[0m\u001b[0;34m,\u001b[0m \u001b[0mcallbacks\u001b[0m\u001b[0;34m,\u001b[0m \u001b[0mgc_after_trial\u001b[0m\u001b[0;34m)\u001b[0m\u001b[0;34m\u001b[0m\u001b[0;34m\u001b[0m\u001b[0m\n\u001b[0m\u001b[1;32m    539\u001b[0m         \u001b[0mself\u001b[0m\u001b[0;34m.\u001b[0m\u001b[0m_storage\u001b[0m\u001b[0;34m.\u001b[0m\u001b[0mremove_session\u001b[0m\u001b[0;34m(\u001b[0m\u001b[0;34m)\u001b[0m\u001b[0;34m\u001b[0m\u001b[0;34m\u001b[0m\u001b[0m\n\u001b[1;32m    540\u001b[0m \u001b[0;34m\u001b[0m\u001b[0m\n",
      "\u001b[0;32m/opt/conda/lib/python3.7/site-packages/optuna/study.py\u001b[0m in \u001b[0;36m_run_trial_and_callbacks\u001b[0;34m(self, func, catch, callbacks, gc_after_trial)\u001b[0m\n\u001b[1;32m    548\u001b[0m         \u001b[0;31m# type: (...) -> None\u001b[0m\u001b[0;34m\u001b[0m\u001b[0;34m\u001b[0m\u001b[0;34m\u001b[0m\u001b[0m\n\u001b[1;32m    549\u001b[0m \u001b[0;34m\u001b[0m\u001b[0m\n\u001b[0;32m--> 550\u001b[0;31m         \u001b[0mtrial\u001b[0m \u001b[0;34m=\u001b[0m \u001b[0mself\u001b[0m\u001b[0;34m.\u001b[0m\u001b[0m_run_trial\u001b[0m\u001b[0;34m(\u001b[0m\u001b[0mfunc\u001b[0m\u001b[0;34m,\u001b[0m \u001b[0mcatch\u001b[0m\u001b[0;34m,\u001b[0m \u001b[0mgc_after_trial\u001b[0m\u001b[0;34m)\u001b[0m\u001b[0;34m\u001b[0m\u001b[0;34m\u001b[0m\u001b[0m\n\u001b[0m\u001b[1;32m    551\u001b[0m         \u001b[0;32mif\u001b[0m \u001b[0mcallbacks\u001b[0m \u001b[0;32mis\u001b[0m \u001b[0;32mnot\u001b[0m \u001b[0;32mNone\u001b[0m\u001b[0;34m:\u001b[0m\u001b[0;34m\u001b[0m\u001b[0;34m\u001b[0m\u001b[0m\n\u001b[1;32m    552\u001b[0m             \u001b[0mfrozen_trial\u001b[0m \u001b[0;34m=\u001b[0m \u001b[0mself\u001b[0m\u001b[0;34m.\u001b[0m\u001b[0m_storage\u001b[0m\u001b[0;34m.\u001b[0m\u001b[0mget_trial\u001b[0m\u001b[0;34m(\u001b[0m\u001b[0mtrial\u001b[0m\u001b[0;34m.\u001b[0m\u001b[0m_trial_id\u001b[0m\u001b[0;34m)\u001b[0m\u001b[0;34m\u001b[0m\u001b[0;34m\u001b[0m\u001b[0m\n",
      "\u001b[0;32m/opt/conda/lib/python3.7/site-packages/optuna/study.py\u001b[0m in \u001b[0;36m_run_trial\u001b[0;34m(self, func, catch, gc_after_trial)\u001b[0m\n\u001b[1;32m    567\u001b[0m \u001b[0;34m\u001b[0m\u001b[0m\n\u001b[1;32m    568\u001b[0m         \u001b[0;32mtry\u001b[0m\u001b[0;34m:\u001b[0m\u001b[0;34m\u001b[0m\u001b[0;34m\u001b[0m\u001b[0m\n\u001b[0;32m--> 569\u001b[0;31m             \u001b[0mresult\u001b[0m \u001b[0;34m=\u001b[0m \u001b[0mfunc\u001b[0m\u001b[0;34m(\u001b[0m\u001b[0mtrial\u001b[0m\u001b[0;34m)\u001b[0m\u001b[0;34m\u001b[0m\u001b[0;34m\u001b[0m\u001b[0m\n\u001b[0m\u001b[1;32m    570\u001b[0m         \u001b[0;32mexcept\u001b[0m \u001b[0mexceptions\u001b[0m\u001b[0;34m.\u001b[0m\u001b[0mTrialPruned\u001b[0m \u001b[0;32mas\u001b[0m \u001b[0me\u001b[0m\u001b[0;34m:\u001b[0m\u001b[0;34m\u001b[0m\u001b[0;34m\u001b[0m\u001b[0m\n\u001b[1;32m    571\u001b[0m             message = 'Setting status of trial#{} as {}. {}'.format(trial_number,\n",
      "\u001b[0;32m/opt/conda/lib/python3.7/site-packages/optuna/integration/lightgbm_tuner/optimize.py\u001b[0m in \u001b[0;36m__call__\u001b[0;34m(self, trial)\u001b[0m\n\u001b[1;32m    240\u001b[0m \u001b[0;34m\u001b[0m\u001b[0m\n\u001b[1;32m    241\u001b[0m         \u001b[0;32mwith\u001b[0m \u001b[0m_timer\u001b[0m\u001b[0;34m(\u001b[0m\u001b[0;34m)\u001b[0m \u001b[0;32mas\u001b[0m \u001b[0mt\u001b[0m\u001b[0;34m:\u001b[0m\u001b[0;34m\u001b[0m\u001b[0;34m\u001b[0m\u001b[0m\n\u001b[0;32m--> 242\u001b[0;31m             \u001b[0mbooster\u001b[0m \u001b[0;34m=\u001b[0m \u001b[0mlgb\u001b[0m\u001b[0;34m.\u001b[0m\u001b[0mtrain\u001b[0m\u001b[0;34m(\u001b[0m\u001b[0mself\u001b[0m\u001b[0;34m.\u001b[0m\u001b[0mlgbm_params\u001b[0m\u001b[0;34m,\u001b[0m \u001b[0mself\u001b[0m\u001b[0;34m.\u001b[0m\u001b[0mtrain_set\u001b[0m\u001b[0;34m,\u001b[0m \u001b[0;34m**\u001b[0m\u001b[0mself\u001b[0m\u001b[0;34m.\u001b[0m\u001b[0mlgbm_kwargs\u001b[0m\u001b[0;34m)\u001b[0m\u001b[0;34m\u001b[0m\u001b[0;34m\u001b[0m\u001b[0m\n\u001b[0m\u001b[1;32m    243\u001b[0m \u001b[0;34m\u001b[0m\u001b[0m\n\u001b[1;32m    244\u001b[0m         \u001b[0mval_score\u001b[0m \u001b[0;34m=\u001b[0m \u001b[0mself\u001b[0m\u001b[0;34m.\u001b[0m\u001b[0m_get_booster_best_score\u001b[0m\u001b[0;34m(\u001b[0m\u001b[0mbooster\u001b[0m\u001b[0;34m)\u001b[0m\u001b[0;34m\u001b[0m\u001b[0;34m\u001b[0m\u001b[0m\n",
      "\u001b[0;32m/opt/conda/lib/python3.7/site-packages/lightgbm/engine.py\u001b[0m in \u001b[0;36mtrain\u001b[0;34m(params, train_set, num_boost_round, valid_sets, valid_names, fobj, feval, init_model, feature_name, categorical_feature, early_stopping_rounds, evals_result, verbose_eval, learning_rates, keep_training_booster, callbacks)\u001b[0m\n\u001b[1;32m    155\u001b[0m     \u001b[0mfirst_metric_only\u001b[0m \u001b[0;34m=\u001b[0m \u001b[0mparams\u001b[0m\u001b[0;34m.\u001b[0m\u001b[0mpop\u001b[0m\u001b[0;34m(\u001b[0m\u001b[0;34m'first_metric_only'\u001b[0m\u001b[0;34m,\u001b[0m \u001b[0;32mFalse\u001b[0m\u001b[0;34m)\u001b[0m\u001b[0;34m\u001b[0m\u001b[0;34m\u001b[0m\u001b[0m\n\u001b[1;32m    156\u001b[0m \u001b[0;34m\u001b[0m\u001b[0m\n\u001b[0;32m--> 157\u001b[0;31m     \u001b[0;32mif\u001b[0m \u001b[0mnum_boost_round\u001b[0m \u001b[0;34m<=\u001b[0m \u001b[0;36m0\u001b[0m\u001b[0;34m:\u001b[0m\u001b[0;34m\u001b[0m\u001b[0;34m\u001b[0m\u001b[0m\n\u001b[0m\u001b[1;32m    158\u001b[0m         \u001b[0;32mraise\u001b[0m \u001b[0mValueError\u001b[0m\u001b[0;34m(\u001b[0m\u001b[0;34m\"num_boost_round should be greater than zero.\"\u001b[0m\u001b[0;34m)\u001b[0m\u001b[0;34m\u001b[0m\u001b[0;34m\u001b[0m\u001b[0m\n\u001b[1;32m    159\u001b[0m     \u001b[0;32mif\u001b[0m \u001b[0misinstance\u001b[0m\u001b[0;34m(\u001b[0m\u001b[0minit_model\u001b[0m\u001b[0;34m,\u001b[0m \u001b[0mstring_type\u001b[0m\u001b[0;34m)\u001b[0m\u001b[0;34m:\u001b[0m\u001b[0;34m\u001b[0m\u001b[0;34m\u001b[0m\u001b[0m\n",
      "\u001b[0;31mValueError\u001b[0m: The truth value of an array with more than one element is ambiguous. Use a.any() or a.all()"
     ]
    }
   ],
   "source": [
    "best_params, tuning_history = dict(), list()\n",
    "\n",
    "train_dataset=lgb.Dataset(X_train,y_train)\n",
    "#valid_dataset=lgb.Dataset(X_test,y_test,reference=train_dataset)\n",
    "valid_dataset=lgb.Dataset(X_test,y_test)\n",
    "\n",
    "lgb_optuna.train(\n",
    "    {\"objective\":\"regression\", \"metric\": \"l2\"}, \n",
    "    X_train, \n",
    "    y_train, \n",
    "    #train_set=train_dataset, \n",
    "    valid_sets=[valid_dataset], \n",
    "    #num_boost_rounds=300,\n",
    "    early_stopping_rounds=20,\n",
    "    verbose_eval=0, \n",
    "    best_params=best_params, \n",
    "    tuning_history=tuning_history)"
   ]
  },
  {
   "cell_type": "code",
   "execution_count": 143,
   "metadata": {},
   "outputs": [
    {
     "data": {
      "text/plain": [
       "<lightgbm.basic.Dataset at 0x7f8d741fe410>"
      ]
     },
     "execution_count": 143,
     "metadata": {},
     "output_type": "execute_result"
    }
   ],
   "source": [
    "valid_dataset"
   ]
  },
  {
   "cell_type": "code",
   "execution_count": null,
   "metadata": {},
   "outputs": [],
   "source": []
  }
 ],
 "metadata": {
  "kernelspec": {
   "display_name": "Python 3",
   "language": "python",
   "name": "python3"
  },
  "language_info": {
   "codemirror_mode": {
    "name": "ipython",
    "version": 3
   },
   "file_extension": ".py",
   "mimetype": "text/x-python",
   "name": "python",
   "nbconvert_exporter": "python",
   "pygments_lexer": "ipython3",
   "version": "3.7.6"
  }
 },
 "nbformat": 4,
 "nbformat_minor": 4
}
