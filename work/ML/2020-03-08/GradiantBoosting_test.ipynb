{
 "cells": [
  {
   "cell_type": "markdown",
   "metadata": {},
   "source": [
    "# Machine-Learning test\n",
    "\n",
    "- `xgboost`, `lightgbm`あたりの手法を`sklearn`のpipeline, gridsearchCVと組み合わせて使えるようにする（目標）\n",
    "\n",
    "\n",
    "---\n",
    "\n",
    "### sklearn\n",
    "- https://qiita.com/R0w0/items/3b3d8e660b8abc1f804d\n",
    "- https://qiita.com/ishizakiiii/items/0650723cc2b4eef2c1cf\n",
    "- https://qiita.com/yhyhyhjp/items/c81f7cea72a44a7bfd3a\n",
    "- https://qiita.com/saiaron/items/bb96c0f898cd0cbcd788\n",
    "- https://qiita.com/issakuss/items/d30303e200756980ae45\n",
    "\n",
    "\n",
    "### xgboost\n",
    "- http://wolfin.hatenablog.com/entry/2018/02/08/092124\n",
    "- http://tekenuko.hatenablog.com/entry/2016/09/22/220814\n",
    "- https://qiita.com/katsu1110/items/a1c3185fec39e5629bcb\n",
    "- https://blog.amedama.jp/entry/2019/01/29/235642\n",
    "- https://qiita.com/aaatsushi_bb/items/0b605c0f27493f005c88\n",
    "- http://smrmkt.hatenablog.jp/entry/2015/04/28/210039\n",
    "- https://qiita.com/msrks/items/e3e958c04a5167575c41\n",
    "- https://yag.xyz/blog/2015/08/08/xgboost-python/\n",
    "- http://wolfin.hatenablog.com/entry/2018/02/08/092124"
   ]
  },
  {
   "cell_type": "code",
   "execution_count": 1,
   "metadata": {},
   "outputs": [],
   "source": [
    "from pyspark.sql import SparkSession\n",
    "\n",
    "spark = SparkSession.builder.enableHiveSupport().getOrCreate()"
   ]
  },
  {
   "cell_type": "code",
   "execution_count": 2,
   "metadata": {},
   "outputs": [],
   "source": [
    "import numpy as np\n",
    "import pandas as pd\n",
    "import dask.dataframe as dd\n",
    "import seaborn as sns\n",
    "import tensorflow as tf\n",
    "from tensorflow import keras"
   ]
  },
  {
   "cell_type": "code",
   "execution_count": 3,
   "metadata": {},
   "outputs": [],
   "source": [
    "import xgboost as xgb\n",
    "import lightgbm as lgb"
   ]
  },
  {
   "cell_type": "code",
   "execution_count": 4,
   "metadata": {},
   "outputs": [],
   "source": [
    "from sklearn.model_selection import GridSearchCV\n",
    "from sklearn.datasets import load_boston\n",
    "from sklearn.metrics import mean_squared_error\n",
    "from sklearn.metrics import mean_absolute_error\n",
    "from sklearn.metrics import r2_score\n",
    "from sklearn.pipeline import Pipeline\n",
    "from sklearn.model_selection import train_test_split\n",
    "from sklearn.model_selection import cross_val_predict, cross_val_score, cross_validate\n",
    "from sklearn import metrics\n",
    "from sklearn.pipeline import make_pipeline\n",
    "from sklearn.preprocessing import OneHotEncoder\n",
    "from sklearn.preprocessing import normalize\n",
    "from sklearn.impute import SimpleImputer"
   ]
  },
  {
   "cell_type": "code",
   "execution_count": 5,
   "metadata": {},
   "outputs": [],
   "source": [
    "import umap"
   ]
  },
  {
   "cell_type": "code",
   "execution_count": 32,
   "metadata": {},
   "outputs": [],
   "source": [
    "import matplotlib.pyplot as plt"
   ]
  },
  {
   "cell_type": "code",
   "execution_count": null,
   "metadata": {},
   "outputs": [],
   "source": []
  },
  {
   "cell_type": "code",
   "execution_count": null,
   "metadata": {},
   "outputs": [],
   "source": []
  },
  {
   "cell_type": "markdown",
   "metadata": {},
   "source": [
    "- mpgのテストデータを使ってみる"
   ]
  },
  {
   "cell_type": "code",
   "execution_count": 6,
   "metadata": {},
   "outputs": [
    {
     "name": "stdout",
     "output_type": "stream",
     "text": [
      "+----+---------+------------+----------+------+------------+----------+------+\n",
      "| MPG|Cylinders|Displacement|Horsepower|Weight|Acceleration|Model_Year|Origin|\n",
      "+----+---------+------------+----------+------+------------+----------+------+\n",
      "|18.0|        6|       250.0|      78.0|3574.0|        21.0|        76|     1|\n",
      "|18.5|        6|       250.0|     110.0|3645.0|        16.2|        76|     1|\n",
      "|17.5|        6|       258.0|      95.0|3193.0|        17.8|        76|     1|\n",
      "|29.5|        4|        97.0|      71.0|1825.0|        12.2|        76|     2|\n",
      "|32.0|        4|        85.0|      70.0|1990.0|        17.0|        76|     3|\n",
      "|28.0|        4|        97.0|      75.0|2155.0|        16.4|        76|     3|\n",
      "|26.5|        4|       140.0|      72.0|2565.0|        13.6|        76|     1|\n",
      "|20.0|        4|       130.0|     102.0|3150.0|        15.7|        76|     2|\n",
      "|13.0|        8|       318.0|     150.0|3940.0|        13.2|        76|     1|\n",
      "|19.0|        4|       120.0|      88.0|3270.0|        21.9|        76|     2|\n",
      "|19.0|        6|       156.0|     108.0|2930.0|        15.5|        76|     3|\n",
      "|16.5|        6|       168.0|     120.0|3820.0|        16.7|        76|     2|\n",
      "|16.5|        8|       350.0|     180.0|4380.0|        12.1|        76|     1|\n",
      "|13.0|        8|       350.0|     145.0|4055.0|        12.0|        76|     1|\n",
      "|13.0|        8|       302.0|     130.0|3870.0|        15.0|        76|     1|\n",
      "|13.0|        8|       318.0|     150.0|3755.0|        14.0|        76|     1|\n",
      "|31.5|        4|        98.0|      68.0|2045.0|        18.5|        77|     3|\n",
      "|30.0|        4|       111.0|      80.0|2155.0|        14.8|        77|     1|\n",
      "|36.0|        4|        79.0|      58.0|1825.0|        18.6|        77|     2|\n",
      "|25.5|        4|       122.0|      96.0|2300.0|        15.5|        77|     1|\n",
      "+----+---------+------------+----------+------+------------+----------+------+\n",
      "only showing top 20 rows\n",
      "\n"
     ]
    }
   ],
   "source": [
    "df_mpg = spark.read.load(\"/home/jovyan/work/hive-db/external/tf_testdata/mpg\", format=\"orc\")\n",
    "df_mpg.show()\n",
    "pdf_mpg = df_mpg.toPandas()"
   ]
  },
  {
   "cell_type": "markdown",
   "metadata": {},
   "source": [
    "- make data"
   ]
  },
  {
   "cell_type": "code",
   "execution_count": 7,
   "metadata": {},
   "outputs": [],
   "source": [
    "pdf_mpg_oneHot = pd.get_dummies(pdf_mpg, columns=['Origin'], drop_first=False)"
   ]
  },
  {
   "cell_type": "code",
   "execution_count": 8,
   "metadata": {},
   "outputs": [],
   "source": [
    "y = pdf_mpg_oneHot.MPG.values\n",
    "X = pdf_mpg_oneHot.drop(columns=[\"MPG\"]).values\n",
    "\n",
    "X_train, X_test, y_train, y_test = train_test_split(X, y, test_size=0.2, random_state=3)"
   ]
  },
  {
   "cell_type": "code",
   "execution_count": null,
   "metadata": {},
   "outputs": [],
   "source": []
  },
  {
   "cell_type": "markdown",
   "metadata": {},
   "source": [
    "- imputerを使うのはPipelineのテスト用で実質的な意味は無い"
   ]
  },
  {
   "cell_type": "code",
   "execution_count": 114,
   "metadata": {},
   "outputs": [
    {
     "name": "stdout",
     "output_type": "stream",
     "text": [
      "CPU times: user 7.45 s, sys: 0 ns, total: 7.45 s\n",
      "Wall time: 7.45 s\n"
     ]
    },
    {
     "data": {
      "text/plain": [
       "GridSearchCV(cv=3, error_score=nan,\n",
       "             estimator=Pipeline(memory=None,\n",
       "                                steps=[('IMP',\n",
       "                                        SimpleImputer(add_indicator=False,\n",
       "                                                      copy=True,\n",
       "                                                      fill_value=-99999,\n",
       "                                                      missing_values=nan,\n",
       "                                                      strategy='mean',\n",
       "                                                      verbose=0)),\n",
       "                                       ('XGB',\n",
       "                                        XGBRegressor(base_score=0.5,\n",
       "                                                     booster='gbtree',\n",
       "                                                     callbacks=[<function record_evaluation.<locals>.callback at 0x7f7c7b58d7a0>],\n",
       "                                                     colsample_bylevel=1,\n",
       "                                                     colsample_bynode...\n",
       "                                                     reg_alpha=0, reg_lambda=1,\n",
       "                                                     scale_pos_weight=1,\n",
       "                                                     seed=None, silent=None,\n",
       "                                                     subsample=1,\n",
       "                                                     verbosity=1))],\n",
       "                                verbose=False),\n",
       "             iid='deprecated', n_jobs=None,\n",
       "             param_grid={'XGB__colsample_bytree': [0.7, 0.8, 0.9],\n",
       "                         'XGB__learning_rate': [0.05, 0.1],\n",
       "                         'XGB__max_depth': [3, 5, 7, 9],\n",
       "                         'XGB__subsample': [0.8, 0.9, 1.0]},\n",
       "             pre_dispatch='2*n_jobs', refit=True, return_train_score=False,\n",
       "             scoring='r2', verbose=0)"
      ]
     },
     "execution_count": 114,
     "metadata": {},
     "output_type": "execute_result"
    }
   ],
   "source": [
    "%%time\n",
    "\n",
    "eval_results = {}\n",
    "\n",
    "# pipeline\n",
    "pl_xgb = Pipeline([\n",
    "    (\"IMP\", SimpleImputer(fill_value=-99999)),\n",
    "    (\"XGB\", xgb.XGBRegressor(#early_stopping_rounds=20,\n",
    "                             objective=\"reg:squarederror\",\n",
    "                             #eval_metric=\"rmse\",\n",
    "                             n_estimators=1000,\n",
    "                             callbacks=[xgb.callback.record_evaluation(eval_result=eval_results),],  # うまく働いていない様子?\n",
    "                             #verbosity=0,  # silent\n",
    "                             #silent=True,\n",
    "                             random_state=0))\n",
    "])\n",
    "\n",
    "# GridSearch用パラメータ（仮） 要ブラッシュアップ\n",
    "param_grid = {  # 手法の確認が大事で、実際にサーチするのはとりあえず良いので適当に省く\n",
    "    'XGB__learning_rate': [0.05, 0.1,], \n",
    "    'XGB__max_depth': [3, 5, 7, 9], \n",
    "    'XGB__subsample': [0.8, 0.9, 1.0], \n",
    "    'XGB__colsample_bytree': [0.7, 0.8, 0.9],\n",
    "}\n",
    "fit_params = {\n",
    "    \"XGB__eval_set\": [(X_train, y_train), (X_test, y_test)],\n",
    "    \"XGB__eval_metric\": [\"rmse\",\"mae\"],\n",
    "    \"XGB__verbose\": 0,\n",
    "    \"XGB__early_stopping_rounds\": 20,\n",
    "}\n",
    "\n",
    "grid_search = GridSearchCV(estimator=pl_xgb,\n",
    "                           param_grid=param_grid,\n",
    "                           scoring=\"r2\",\n",
    "                           cv=3,\n",
    "                           verbose=0,\n",
    "                          )\n",
    "\n",
    "grid_search.fit(X_train, y_train, **fit_params)"
   ]
  },
  {
   "cell_type": "code",
   "execution_count": 11,
   "metadata": {},
   "outputs": [
    {
     "data": {
      "text/plain": [
       "dict_keys(['explained_variance', 'r2', 'max_error', 'neg_median_absolute_error', 'neg_mean_absolute_error', 'neg_mean_squared_error', 'neg_mean_squared_log_error', 'neg_root_mean_squared_error', 'neg_mean_poisson_deviance', 'neg_mean_gamma_deviance', 'accuracy', 'roc_auc', 'roc_auc_ovr', 'roc_auc_ovo', 'roc_auc_ovr_weighted', 'roc_auc_ovo_weighted', 'balanced_accuracy', 'average_precision', 'neg_log_loss', 'neg_brier_score', 'adjusted_rand_score', 'homogeneity_score', 'completeness_score', 'v_measure_score', 'mutual_info_score', 'adjusted_mutual_info_score', 'normalized_mutual_info_score', 'fowlkes_mallows_score', 'precision', 'precision_macro', 'precision_micro', 'precision_samples', 'precision_weighted', 'recall', 'recall_macro', 'recall_micro', 'recall_samples', 'recall_weighted', 'f1', 'f1_macro', 'f1_micro', 'f1_samples', 'f1_weighted', 'jaccard', 'jaccard_macro', 'jaccard_micro', 'jaccard_samples', 'jaccard_weighted'])"
      ]
     },
     "execution_count": 11,
     "metadata": {},
     "output_type": "execute_result"
    }
   ],
   "source": [
    "import sklearn\n",
    "sklearn.metrics.SCORERS.keys()"
   ]
  },
  {
   "cell_type": "code",
   "execution_count": 115,
   "metadata": {},
   "outputs": [
    {
     "data": {
      "text/plain": [
       "{'XGB__colsample_bytree': 0.7,\n",
       " 'XGB__learning_rate': 0.1,\n",
       " 'XGB__max_depth': 3,\n",
       " 'XGB__subsample': 0.9}"
      ]
     },
     "metadata": {},
     "output_type": "display_data"
    },
    {
     "data": {
      "text/plain": [
       "0.8631206958764026"
      ]
     },
     "metadata": {},
     "output_type": "display_data"
    },
    {
     "data": {
      "text/plain": [
       "Pipeline(memory=None,\n",
       "         steps=[('IMP',\n",
       "                 SimpleImputer(add_indicator=False, copy=True,\n",
       "                               fill_value=-99999, missing_values=nan,\n",
       "                               strategy='mean', verbose=0)),\n",
       "                ('XGB',\n",
       "                 XGBRegressor(base_score=0.5, booster='gbtree',\n",
       "                              callbacks=[<function record_evaluation.<locals>.callback at 0x7f7c7b58d7a0>],\n",
       "                              colsample_bylevel=1, colsample_bynode=1,\n",
       "                              colsample_bytree=0.7, gamma=0,\n",
       "                              importance_type='gain', learning_rate=0.1,\n",
       "                              max_delta_step=0, max_depth=3, min_child_weight=1,\n",
       "                              missing=None, n_estimators=1000, n_jobs=1,\n",
       "                              nthread=None, objective='reg:squarederror',\n",
       "                              random_state=0, reg_alpha=0, reg_lambda=1,\n",
       "                              scale_pos_weight=1, seed=None, silent=None,\n",
       "                              subsample=0.9, verbosity=1))],\n",
       "         verbose=False)"
      ]
     },
     "metadata": {},
     "output_type": "display_data"
    }
   ],
   "source": [
    "display(grid_search.best_params_)\n",
    "display(grid_search.best_score_)\n",
    "display(grid_search.best_estimator_)"
   ]
  },
  {
   "cell_type": "code",
   "execution_count": 116,
   "metadata": {},
   "outputs": [
    {
     "data": {
      "text/plain": [
       "0.8572008411728247"
      ]
     },
     "execution_count": 116,
     "metadata": {},
     "output_type": "execute_result"
    }
   ],
   "source": [
    "r2_score(y_pred=grid_search.predict(X_test), y_true=y_test)"
   ]
  },
  {
   "cell_type": "code",
   "execution_count": 117,
   "metadata": {},
   "outputs": [],
   "source": [
    "learning_data = grid_search.best_estimator_.steps[1][1].evals_result()"
   ]
  },
  {
   "cell_type": "code",
   "execution_count": 118,
   "metadata": {},
   "outputs": [
    {
     "data": {
      "text/html": [
       "<div>\n",
       "<style scoped>\n",
       "    .dataframe tbody tr th:only-of-type {\n",
       "        vertical-align: middle;\n",
       "    }\n",
       "\n",
       "    .dataframe tbody tr th {\n",
       "        vertical-align: top;\n",
       "    }\n",
       "\n",
       "    .dataframe thead th {\n",
       "        text-align: right;\n",
       "    }\n",
       "</style>\n",
       "<table border=\"1\" class=\"dataframe\">\n",
       "  <thead>\n",
       "    <tr style=\"text-align: right;\">\n",
       "      <th></th>\n",
       "      <th>train_rmse</th>\n",
       "      <th>test_rmse</th>\n",
       "      <th>train_mae</th>\n",
       "      <th>test_mae</th>\n",
       "    </tr>\n",
       "  </thead>\n",
       "  <tbody>\n",
       "    <tr>\n",
       "      <th>89</th>\n",
       "      <td>1.499759</td>\n",
       "      <td>2.641740</td>\n",
       "      <td>1.146058</td>\n",
       "      <td>1.983818</td>\n",
       "    </tr>\n",
       "    <tr>\n",
       "      <th>90</th>\n",
       "      <td>1.498293</td>\n",
       "      <td>2.642846</td>\n",
       "      <td>1.143369</td>\n",
       "      <td>1.983930</td>\n",
       "    </tr>\n",
       "    <tr>\n",
       "      <th>91</th>\n",
       "      <td>1.494015</td>\n",
       "      <td>2.642723</td>\n",
       "      <td>1.139090</td>\n",
       "      <td>1.981046</td>\n",
       "    </tr>\n",
       "    <tr>\n",
       "      <th>92</th>\n",
       "      <td>1.487174</td>\n",
       "      <td>2.646271</td>\n",
       "      <td>1.135026</td>\n",
       "      <td>1.983752</td>\n",
       "    </tr>\n",
       "    <tr>\n",
       "      <th>93</th>\n",
       "      <td>1.479439</td>\n",
       "      <td>2.638267</td>\n",
       "      <td>1.129386</td>\n",
       "      <td>1.980774</td>\n",
       "    </tr>\n",
       "  </tbody>\n",
       "</table>\n",
       "</div>"
      ],
      "text/plain": [
       "    train_rmse  test_rmse  train_mae  test_mae\n",
       "89    1.499759   2.641740   1.146058  1.983818\n",
       "90    1.498293   2.642846   1.143369  1.983930\n",
       "91    1.494015   2.642723   1.139090  1.981046\n",
       "92    1.487174   2.646271   1.135026  1.983752\n",
       "93    1.479439   2.638267   1.129386  1.980774"
      ]
     },
     "metadata": {},
     "output_type": "display_data"
    }
   ],
   "source": [
    "df_learning = pd.DataFrame({\n",
    "    \"train_rmse\": learning_data['validation_0'][\"rmse\"],\n",
    "    \"test_rmse\": learning_data[\"validation_1\"][\"rmse\"],\n",
    "    \"train_mae\": learning_data[\"validation_0\"][\"mae\"],\n",
    "    \"test_mae\": learning_data[\"validation_1\"][\"mae\"]\n",
    "})\n",
    "display(df_learning[-5:])\n"
   ]
  },
  {
   "cell_type": "code",
   "execution_count": 119,
   "metadata": {},
   "outputs": [
    {
     "data": {
      "image/png": "[encoded data removed]",
      "text/plain": [
       "<Figure size 864x648 with 1 Axes>"
      ]
     },
     "metadata": {
      "needs_background": "light"
     },
     "output_type": "display_data"
    }
   ],
   "source": [
    "_, ax = plt.subplots(figsize=(12, 9))\n",
    "\n",
    "df_learning[[\"train_rmse\", \"test_rmse\"]].plot(ax=ax)\n",
    "plt.show()"
   ]
  },
  {
   "cell_type": "code",
   "execution_count": 120,
   "metadata": {},
   "outputs": [
    {
     "data": {
      "image/png": "[encoded data removed]",
      "text/plain": [
       "<Figure size 864x648 with 1 Axes>"
      ]
     },
     "metadata": {
      "needs_background": "light"
     },
     "output_type": "display_data"
    }
   ],
   "source": [
    "_, ax = plt.subplots(figsize=(12, 9))\n",
    "\n",
    "df_learning[[\"train_mae\", \"test_mae\"]].plot(ax=ax)\n",
    "plt.show()"
   ]
  },
  {
   "cell_type": "code",
   "execution_count": 121,
   "metadata": {},
   "outputs": [
    {
     "data": {
      "text/plain": [
       "array([0.05165613, 0.40347216, 0.1183825 , 0.21913567, 0.01677631,\n",
       "       0.11591727, 0.0394848 , 0.01569174, 0.01948338], dtype=float32)"
      ]
     },
     "metadata": {},
     "output_type": "display_data"
    }
   ],
   "source": [
    "feature_importtance = grid_search.best_estimator_.steps[1][1].feature_importances_\n",
    "display(feature_importtance)"
   ]
  },
  {
   "cell_type": "code",
   "execution_count": null,
   "metadata": {},
   "outputs": [],
   "source": []
  },
  {
   "cell_type": "code",
   "execution_count": null,
   "metadata": {},
   "outputs": [],
   "source": []
  },
  {
   "cell_type": "code",
   "execution_count": null,
   "metadata": {},
   "outputs": [],
   "source": []
  },
  {
   "cell_type": "code",
   "execution_count": null,
   "metadata": {},
   "outputs": [],
   "source": []
  },
  {
   "cell_type": "code",
   "execution_count": 84,
   "metadata": {},
   "outputs": [],
   "source": [
    "eval_results2={}\n",
    "model_xgb = xgb.XGBRegressor(#early_stopping_rounds=10,\n",
    "                             objective=\"reg:squarederror\",\n",
    "                             n_estimators=1000,\n",
    "                             callbacks=[xgb.callback.record_evaluation(eval_result=eval_results2),],\n",
    "                             random_state=0,\n",
    "                             #silent=True,\n",
    "                            )"
   ]
  },
  {
   "cell_type": "code",
   "execution_count": 85,
   "metadata": {},
   "outputs": [
    {
     "data": {
      "text/plain": [
       "XGBRegressor(base_score=0.5, booster='gbtree',\n",
       "             callbacks=[<function record_evaluation.<locals>.callback at 0x7f7c79ef8830>],\n",
       "             colsample_bylevel=1, colsample_bynode=1, colsample_bytree=1,\n",
       "             gamma=0, importance_type='gain', learning_rate=0.1,\n",
       "             max_delta_step=0, max_depth=3, min_child_weight=1, missing=None,\n",
       "             n_estimators=1000, n_jobs=1, nthread=None,\n",
       "             objective='reg:squarederror', random_state=0, reg_alpha=0,\n",
       "             reg_lambda=1, scale_pos_weight=1, seed=None, silent=None,\n",
       "             subsample=1, verbosity=1)"
      ]
     },
     "execution_count": 85,
     "metadata": {},
     "output_type": "execute_result"
    }
   ],
   "source": [
    "model_xgb.fit(\n",
    "    X_train, y_train, eval_metric=[\"rmse\",\"mae\"],   \n",
    "    early_stopping_rounds=20,\n",
    "    eval_set=[(X_train, y_train), (X_test, y_test)],\n",
    "    verbose=0\n",
    "             )"
   ]
  },
  {
   "cell_type": "code",
   "execution_count": 102,
   "metadata": {},
   "outputs": [
    {
     "data": {
      "text/html": [
       "<div>\n",
       "<style scoped>\n",
       "    .dataframe tbody tr th:only-of-type {\n",
       "        vertical-align: middle;\n",
       "    }\n",
       "\n",
       "    .dataframe tbody tr th {\n",
       "        vertical-align: top;\n",
       "    }\n",
       "\n",
       "    .dataframe thead th {\n",
       "        text-align: right;\n",
       "    }\n",
       "</style>\n",
       "<table border=\"1\" class=\"dataframe\">\n",
       "  <thead>\n",
       "    <tr style=\"text-align: right;\">\n",
       "      <th></th>\n",
       "      <th>train_rmse</th>\n",
       "      <th>train_mae</th>\n",
       "      <th>test_rmse</th>\n",
       "      <th>test_mae</th>\n",
       "    </tr>\n",
       "  </thead>\n",
       "  <tbody>\n",
       "    <tr>\n",
       "      <th>47</th>\n",
       "      <td>1.823304</td>\n",
       "      <td>1.346833</td>\n",
       "      <td>2.661465</td>\n",
       "      <td>2.031392</td>\n",
       "    </tr>\n",
       "    <tr>\n",
       "      <th>48</th>\n",
       "      <td>1.809409</td>\n",
       "      <td>1.340060</td>\n",
       "      <td>2.667198</td>\n",
       "      <td>2.035068</td>\n",
       "    </tr>\n",
       "    <tr>\n",
       "      <th>49</th>\n",
       "      <td>1.794926</td>\n",
       "      <td>1.330759</td>\n",
       "      <td>2.671304</td>\n",
       "      <td>2.036406</td>\n",
       "    </tr>\n",
       "    <tr>\n",
       "      <th>50</th>\n",
       "      <td>1.785801</td>\n",
       "      <td>1.323275</td>\n",
       "      <td>2.671929</td>\n",
       "      <td>2.036625</td>\n",
       "    </tr>\n",
       "    <tr>\n",
       "      <th>51</th>\n",
       "      <td>1.775736</td>\n",
       "      <td>1.318270</td>\n",
       "      <td>2.676368</td>\n",
       "      <td>2.039552</td>\n",
       "    </tr>\n",
       "  </tbody>\n",
       "</table>\n",
       "</div>"
      ],
      "text/plain": [
       "    train_rmse  train_mae  test_rmse  test_mae\n",
       "47    1.823304   1.346833   2.661465  2.031392\n",
       "48    1.809409   1.340060   2.667198  2.035068\n",
       "49    1.794926   1.330759   2.671304  2.036406\n",
       "50    1.785801   1.323275   2.671929  2.036625\n",
       "51    1.775736   1.318270   2.676368  2.039552"
      ]
     },
     "execution_count": 102,
     "metadata": {},
     "output_type": "execute_result"
    }
   ],
   "source": [
    "eval_result2 = model_xgb.evals_result()\n",
    "\n",
    "df_evals2 = pd.DataFrame({\n",
    "    \"train_rmse\": eval_result2[\"validation_0\"][\"rmse\"],\n",
    "    \"train_mae\": eval_result2[\"validation_0\"][\"mae\"],\n",
    "    \"test_rmse\": eval_result2[\"validation_1\"][\"rmse\"],\n",
    "    \"test_mae\": eval_result2[\"validation_1\"][\"mae\"]\n",
    "})\n",
    "df_evals2[-5:]"
   ]
  },
  {
   "cell_type": "code",
   "execution_count": 87,
   "metadata": {},
   "outputs": [
    {
     "data": {
      "text/plain": [
       "0.8443040566756019"
      ]
     },
     "execution_count": 87,
     "metadata": {},
     "output_type": "execute_result"
    }
   ],
   "source": [
    "r2_score(y_pred=model_xgb.predict(X_test), y_true=y_test)"
   ]
  },
  {
   "cell_type": "code",
   "execution_count": 88,
   "metadata": {},
   "outputs": [
    {
     "data": {
      "text/plain": [
       "array([0.01197179, 0.4588093 , 0.11465207, 0.2972325 , 0.01463368,\n",
       "       0.07777458, 0.02163796, 0.00328813, 0.        ], dtype=float32)"
      ]
     },
     "execution_count": 88,
     "metadata": {},
     "output_type": "execute_result"
    }
   ],
   "source": [
    "model_xgb.feature_importances_"
   ]
  },
  {
   "cell_type": "code",
   "execution_count": 89,
   "metadata": {},
   "outputs": [
    {
     "data": {
      "image/png": "[encoded data removed]",
      "text/plain": [
       "<Figure size 864x648 with 1 Axes>"
      ]
     },
     "metadata": {
      "needs_background": "light"
     },
     "output_type": "display_data"
    }
   ],
   "source": [
    "import matplotlib.pyplot as plt\n",
    "_, ax = plt.subplots(figsize=(12,9))\n",
    "\n",
    "xgb.plot_importance(model_xgb,\n",
    "                   ax=ax,\n",
    "                   importance_type=\"gain\",\n",
    "                   show_values=True)\n",
    "plt.show()"
   ]
  },
  {
   "cell_type": "code",
   "execution_count": 90,
   "metadata": {},
   "outputs": [
    {
     "data": {
      "text/plain": [
       "array([0.01197179, 0.4588093 , 0.11465207, 0.2972325 , 0.01463368,\n",
       "       0.07777458, 0.02163796, 0.00328813, 0.        ], dtype=float32)"
      ]
     },
     "execution_count": 90,
     "metadata": {},
     "output_type": "execute_result"
    }
   ],
   "source": [
    "model_xgb.feature_importances_"
   ]
  },
  {
   "cell_type": "markdown",
   "metadata": {},
   "source": [
    "- callbacksの使い方がうまく出来ていないが、これでも最低限のことは出来ていそう"
   ]
  },
  {
   "cell_type": "code",
   "execution_count": 91,
   "metadata": {},
   "outputs": [
    {
     "data": {
      "text/plain": [
       "52"
      ]
     },
     "execution_count": 91,
     "metadata": {},
     "output_type": "execute_result"
    }
   ],
   "source": [
    "len(df_evals2)"
   ]
  },
  {
   "cell_type": "code",
   "execution_count": null,
   "metadata": {},
   "outputs": [],
   "source": []
  },
  {
   "cell_type": "markdown",
   "metadata": {},
   "source": [
    "- parameter-tuning x cross-validation"
   ]
  },
  {
   "cell_type": "code",
   "execution_count": 146,
   "metadata": {},
   "outputs": [
    {
     "name": "stdout",
     "output_type": "stream",
     "text": [
      "CPU times: user 1min 41s, sys: 4.08 s, total: 1min 45s\n",
      "Wall time: 30.2 s\n"
     ]
    }
   ],
   "source": [
    "%%time\n",
    "\n",
    "\n",
    "eval_results = {}\n",
    "\n",
    "# pipeline\n",
    "pl_xgb = Pipeline([\n",
    "    (\"XGB\", xgb.XGBRegressor(objective=\"reg:squarederror\",\n",
    "                             n_estimators=1000,\n",
    "                             n_jobs=4,\n",
    "                             #callbacks=[xgb.callback.record_evaluation(eval_result=eval_results),],  # うまく働いていない様子?\n",
    "                             random_state=0))\n",
    "])\n",
    "\n",
    "# GridSearch用パラメータ（仮） 要ブラッシュアップ\n",
    "param_grid = {  # 手法の確認が大事で、実際にサーチするのはとりあえず良いので適当に省く\n",
    "    'XGB__learning_rate': [0.1,], \n",
    "    'XGB__max_depth': [3, 5, 7,], \n",
    "    'XGB__subsample': [0.8, 0.9, 1.0], \n",
    "    'XGB__colsample_bytree': [0.7, 0.8, 0.9],\n",
    "}\n",
    "fit_params = {\n",
    "    \"XGB__eval_set\": [(X_train, y_train),], #[(X_train, y_train), (X_test, y_test)],\n",
    "    #\"XGB__eval_metric\": [\"rmse\",\"mae\"],\n",
    "    \"XGB__verbose\": 0,\n",
    "    \"XGB__early_stopping_rounds\": 10,\n",
    "}\n",
    "\n",
    "gs = GridSearchCV(estimator=pl_xgb,                           \n",
    "                  param_grid=param_grid,                           \n",
    "                  scoring=\"r2\",                           \n",
    "                  cv=3,                        \n",
    "                  verbose=0,                          \n",
    "                 )\n",
    "\n",
    "#grid_search.fit(X_train, y_train, **fit_params)\n",
    "\n",
    "scores = cross_val_score(gs,\n",
    "                         X_train,\n",
    "                         y_train,\n",
    "                         scoring=\"r2\",\n",
    "                         cv=5,\n",
    "                         fit_params=fit_params\n",
    "                        )\n",
    "\n"
   ]
  },
  {
   "cell_type": "code",
   "execution_count": 147,
   "metadata": {},
   "outputs": [
    {
     "data": {
      "text/plain": [
       "array([0.89348962, 0.80472485, 0.91559687, 0.88068986, 0.89738356])"
      ]
     },
     "execution_count": 147,
     "metadata": {},
     "output_type": "execute_result"
    }
   ],
   "source": [
    "scores"
   ]
  },
  {
   "cell_type": "code",
   "execution_count": 148,
   "metadata": {},
   "outputs": [
    {
     "name": "stdout",
     "output_type": "stream",
     "text": [
      "0.8783769511842839 0.038483628287560016\n"
     ]
    }
   ],
   "source": [
    "print(np.mean(scores), np.std(scores))"
   ]
  },
  {
   "cell_type": "markdown",
   "metadata": {},
   "source": [
    "- ↑モデルを何にするかの基準に使える"
   ]
  },
  {
   "cell_type": "code",
   "execution_count": null,
   "metadata": {},
   "outputs": [],
   "source": []
  },
  {
   "cell_type": "code",
   "execution_count": null,
   "metadata": {},
   "outputs": [],
   "source": []
  },
  {
   "cell_type": "markdown",
   "metadata": {},
   "source": [
    "- lightgbm"
   ]
  },
  {
   "cell_type": "code",
   "execution_count": 155,
   "metadata": {},
   "outputs": [
    {
     "name": "stdout",
     "output_type": "stream",
     "text": [
      "CPU times: user 50.7 s, sys: 2.15 s, total: 52.9 s\n",
      "Wall time: 14.3 s\n"
     ]
    },
    {
     "data": {
      "text/plain": [
       "GridSearchCV(cv=5, error_score=nan,\n",
       "             estimator=Pipeline(memory=None,\n",
       "                                steps=[('IMP',\n",
       "                                        SimpleImputer(add_indicator=False,\n",
       "                                                      copy=True,\n",
       "                                                      fill_value=-99999,\n",
       "                                                      missing_values=nan,\n",
       "                                                      strategy='mean',\n",
       "                                                      verbose=0)),\n",
       "                                       ('LGBM',\n",
       "                                        LGBMRegressor(boosting_type='gbdt',\n",
       "                                                      class_weight=None,\n",
       "                                                      colsample_bytree=1.0,\n",
       "                                                      importance_type='split',\n",
       "                                                      learning_rate=0.1,\n",
       "                                                      max_depth=-1,\n",
       "                                                      min_child_samples=20,\n",
       "                                                      min_...\n",
       "                                                      reg_lambda=0.0,\n",
       "                                                      silent=True,\n",
       "                                                      subsample=1.0,\n",
       "                                                      subsample_for_bin=200000,\n",
       "                                                      subsample_freq=0))],\n",
       "                                verbose=False),\n",
       "             iid='deprecated', n_jobs=None,\n",
       "             param_grid={'LGBM__colsample_bytree': [0.7, 0.8, 0.9],\n",
       "                         'LGBM__learning_rate': [0.05, 0.1],\n",
       "                         'LGBM__max_depth': [3, 5, 7, 9],\n",
       "                         'LGBM__subsample': [0.8, 0.9, 1.0]},\n",
       "             pre_dispatch='2*n_jobs', refit=True, return_train_score=False,\n",
       "             scoring='r2', verbose=0)"
      ]
     },
     "execution_count": 155,
     "metadata": {},
     "output_type": "execute_result"
    }
   ],
   "source": [
    "%%time\n",
    "\n",
    "eval_results_lgb = {} # initialize\n",
    "\n",
    "# pipeline\n",
    "pl_lgbm = Pipeline([\n",
    "    (\"IMP\", SimpleImputer(fill_value=-99999)),\n",
    "    (\"LGBM\", lgb.LGBMRegressor(objective=\"regression\",      \n",
    "                               n_jobs=-1,\n",
    "                               n_estimators=1000,                             \n",
    "                               random_state=0))\n",
    "])\n",
    "\n",
    "# GridSearch用パラメータ（仮） 要ブラッシュアップ\n",
    "param_grid = {  # 手法の確認が大事で、実際にサーチするのはとりあえず良いので適当に省く\n",
    "    'LGBM__learning_rate': [0.05, 0.1,], \n",
    "    'LGBM__max_depth': [3, 5, 7, 9],  # -1 で制限無し\n",
    "    'LGBM__subsample': [0.8, 0.9, 1.0],   # alias for bagging_fraction\n",
    "    'LGBM__colsample_bytree': [0.7, 0.8, 0.9],  # feature_fraction\n",
    "}\n",
    "fit_params = {\n",
    "    \"LGBM__eval_set\": [(X_train, y_train), (X_test, y_test)],\n",
    "    \"LGBM__eval_metric\": [\"rmse\",\"mae\"],  # <= alias for [\"l2\", \"l1\"]\n",
    "    \"LGBM__verbose\": False,\n",
    "    \"LGBM__early_stopping_rounds\": 20,\n",
    "    \"LGBM__callbacks\": [lgb.record_evaluation(eval_results_lgb),],\n",
    "}\n",
    "\n",
    "gs_lgbm = GridSearchCV(estimator=pl_lgbm,                           \n",
    "                       param_grid=param_grid,                           \n",
    "                       scoring=\"r2\",                           \n",
    "                       cv=5,                           \n",
    "                       verbose=0,                          \n",
    "                      )\n",
    "\n",
    "gs_lgbm.fit(X_train, y_train, **fit_params)\n"
   ]
  },
  {
   "cell_type": "code",
   "execution_count": 156,
   "metadata": {},
   "outputs": [
    {
     "data": {
      "text/plain": [
       "{'LGBM__colsample_bytree': 0.7,\n",
       " 'LGBM__learning_rate': 0.1,\n",
       " 'LGBM__max_depth': 5,\n",
       " 'LGBM__subsample': 0.8}"
      ]
     },
     "metadata": {},
     "output_type": "display_data"
    },
    {
     "data": {
      "text/plain": [
       "0.8826156325856822"
      ]
     },
     "metadata": {},
     "output_type": "display_data"
    },
    {
     "data": {
      "text/plain": [
       "Pipeline(memory=None,\n",
       "         steps=[('IMP',\n",
       "                 SimpleImputer(add_indicator=False, copy=True,\n",
       "                               fill_value=-99999, missing_values=nan,\n",
       "                               strategy='mean', verbose=0)),\n",
       "                ('LGBM',\n",
       "                 LGBMRegressor(boosting_type='gbdt', class_weight=None,\n",
       "                               colsample_bytree=0.7, importance_type='split',\n",
       "                               learning_rate=0.1, max_depth=5,\n",
       "                               min_child_samples=20, min_child_weight=0.001,\n",
       "                               min_split_gain=0.0, n_estimators=1000, n_jobs=-1,\n",
       "                               num_leaves=31, objective='regression',\n",
       "                               random_state=0, reg_alpha=0.0, reg_lambda=0.0,\n",
       "                               silent=True, subsample=0.8,\n",
       "                               subsample_for_bin=200000, subsample_freq=0))],\n",
       "         verbose=False)"
      ]
     },
     "metadata": {},
     "output_type": "display_data"
    }
   ],
   "source": [
    "display(gs_lgbm.best_params_)\n",
    "display(gs_lgbm.best_score_)\n",
    "display(gs_lgbm.best_estimator_)"
   ]
  },
  {
   "cell_type": "code",
   "execution_count": 157,
   "metadata": {},
   "outputs": [
    {
     "data": {
      "text/plain": [
       "0.8431741489645361"
      ]
     },
     "execution_count": 157,
     "metadata": {},
     "output_type": "execute_result"
    }
   ],
   "source": [
    "r2_score(y_pred=gs_lgbm.predict(X_test), y_true=y_test)"
   ]
  },
  {
   "cell_type": "code",
   "execution_count": 175,
   "metadata": {},
   "outputs": [
    {
     "data": {
      "text/html": [
       "<div>\n",
       "<style scoped>\n",
       "    .dataframe tbody tr th:only-of-type {\n",
       "        vertical-align: middle;\n",
       "    }\n",
       "\n",
       "    .dataframe tbody tr th {\n",
       "        vertical-align: top;\n",
       "    }\n",
       "\n",
       "    .dataframe thead th {\n",
       "        text-align: right;\n",
       "    }\n",
       "</style>\n",
       "<table border=\"1\" class=\"dataframe\">\n",
       "  <thead>\n",
       "    <tr style=\"text-align: right;\">\n",
       "      <th></th>\n",
       "      <th>train_rmse</th>\n",
       "      <th>test_rmse</th>\n",
       "      <th>train_l1</th>\n",
       "      <th>test_l1</th>\n",
       "      <th>train_l2</th>\n",
       "      <th>test_l2</th>\n",
       "    </tr>\n",
       "  </thead>\n",
       "  <tbody>\n",
       "    <tr>\n",
       "      <th>51</th>\n",
       "      <td>1.993686</td>\n",
       "      <td>2.793536</td>\n",
       "      <td>1.387977</td>\n",
       "      <td>2.039859</td>\n",
       "      <td>3.974784</td>\n",
       "      <td>7.803846</td>\n",
       "    </tr>\n",
       "    <tr>\n",
       "      <th>52</th>\n",
       "      <td>1.984693</td>\n",
       "      <td>2.782488</td>\n",
       "      <td>1.379407</td>\n",
       "      <td>2.036651</td>\n",
       "      <td>3.939004</td>\n",
       "      <td>7.742241</td>\n",
       "    </tr>\n",
       "    <tr>\n",
       "      <th>53</th>\n",
       "      <td>1.978912</td>\n",
       "      <td>2.782376</td>\n",
       "      <td>1.374264</td>\n",
       "      <td>2.040600</td>\n",
       "      <td>3.916093</td>\n",
       "      <td>7.741614</td>\n",
       "    </tr>\n",
       "    <tr>\n",
       "      <th>54</th>\n",
       "      <td>1.966488</td>\n",
       "      <td>2.779588</td>\n",
       "      <td>1.365803</td>\n",
       "      <td>2.045003</td>\n",
       "      <td>3.867076</td>\n",
       "      <td>7.726110</td>\n",
       "    </tr>\n",
       "    <tr>\n",
       "      <th>55</th>\n",
       "      <td>1.957982</td>\n",
       "      <td>2.782936</td>\n",
       "      <td>1.358501</td>\n",
       "      <td>2.045531</td>\n",
       "      <td>3.833695</td>\n",
       "      <td>7.744731</td>\n",
       "    </tr>\n",
       "  </tbody>\n",
       "</table>\n",
       "</div>"
      ],
      "text/plain": [
       "    train_rmse  test_rmse  train_l1   test_l1  train_l2   test_l2\n",
       "51    1.993686   2.793536  1.387977  2.039859  3.974784  7.803846\n",
       "52    1.984693   2.782488  1.379407  2.036651  3.939004  7.742241\n",
       "53    1.978912   2.782376  1.374264  2.040600  3.916093  7.741614\n",
       "54    1.966488   2.779588  1.365803  2.045003  3.867076  7.726110\n",
       "55    1.957982   2.782936  1.358501  2.045531  3.833695  7.744731"
      ]
     },
     "execution_count": 175,
     "metadata": {},
     "output_type": "execute_result"
    }
   ],
   "source": [
    "eval_results_lgb_best = gs_lgbm.best_estimator_.steps[1][1].evals_result_\n",
    "\n",
    "df_eval_lgbm = pd.DataFrame({\n",
    "    \"train_rmse\": eval_results_lgb_best[\"valid_0\"][\"rmse\"],\n",
    "    \"test_rmse\": eval_results_lgb_best[\"valid_1\"][\"rmse\"],\n",
    "    \"train_l1\": eval_results_lgb_best[\"valid_0\"][\"l1\"],\n",
    "    \"test_l1\": eval_results_lgb_best[\"valid_1\"][\"l1\"],\n",
    "    \"train_l2\": eval_results_lgb_best[\"valid_0\"][\"l2\"],\n",
    "    \"test_l2\": eval_results_lgb_best[\"valid_1\"][\"l2\"],\n",
    "})\n",
    "df_eval_lgbm[-5:]"
   ]
  },
  {
   "cell_type": "code",
   "execution_count": 168,
   "metadata": {},
   "outputs": [
    {
     "data": {
      "text/plain": [
       "odict_keys(['rmse', 'l1', 'l2'])"
      ]
     },
     "execution_count": 168,
     "metadata": {},
     "output_type": "execute_result"
    }
   ],
   "source": [
    "eval_results_lgb[\"valid_0\"].keys()"
   ]
  },
  {
   "cell_type": "code",
   "execution_count": 176,
   "metadata": {},
   "outputs": [
    {
     "data": {
      "image/png": "[encoded data removed]",
      "text/plain": [
       "<Figure size 864x648 with 1 Axes>"
      ]
     },
     "metadata": {
      "needs_background": "light"
     },
     "output_type": "display_data"
    }
   ],
   "source": [
    "_, ax = plt.subplots(figsize=(12, 9))\n",
    "\n",
    "df_eval_lgbm[[\"train_rmse\", \"test_rmse\"]].plot(ax=ax)\n",
    "plt.show()"
   ]
  },
  {
   "cell_type": "code",
   "execution_count": 177,
   "metadata": {},
   "outputs": [
    {
     "data": {
      "image/png": "[encoded data removed]",
      "text/plain": [
       "<Figure size 864x648 with 1 Axes>"
      ]
     },
     "metadata": {
      "needs_background": "light"
     },
     "output_type": "display_data"
    }
   ],
   "source": [
    "_, ax = plt.subplots(figsize=(12, 9))\n",
    "\n",
    "df_eval_lgbm[[\"train_l1\", \"test_l1\"]].plot(ax=ax)\n",
    "plt.show()"
   ]
  },
  {
   "cell_type": "code",
   "execution_count": 178,
   "metadata": {},
   "outputs": [
    {
     "data": {
      "image/png": "[encoded data removed]",
      "text/plain": [
       "<Figure size 864x648 with 1 Axes>"
      ]
     },
     "metadata": {
      "needs_background": "light"
     },
     "output_type": "display_data"
    }
   ],
   "source": [
    "_, ax = plt.subplots(figsize=(12, 9))\n",
    "\n",
    "df_eval_lgbm[[\"train_l2\", \"test_l2\"]].plot(ax=ax)\n",
    "plt.show()"
   ]
  },
  {
   "cell_type": "code",
   "execution_count": null,
   "metadata": {},
   "outputs": [],
   "source": []
  },
  {
   "cell_type": "code",
   "execution_count": 179,
   "metadata": {},
   "outputs": [
    {
     "name": "stdout",
     "output_type": "stream",
     "text": [
      "CPU times: user 3min 1s, sys: 6.61 s, total: 3min 8s\n",
      "Wall time: 50.9 s\n"
     ]
    }
   ],
   "source": [
    "%%time\n",
    "\n",
    "\n",
    "#eval_results = {}\n",
    "\n",
    "# pipeline\n",
    "pl_lgbm_cv = Pipeline([\n",
    "    (\"IMP\", SimpleImputer(fill_value=-99999)),\n",
    "    (\"LGBM\", lgb.LGBMRegressor(objective=\"regression\",      \n",
    "                               n_jobs=-1,\n",
    "                               n_estimators=1000,                             \n",
    "                               random_state=0))\n",
    "])\n",
    "\n",
    "# GridSearch用パラメータ（仮） 要ブラッシュアップ\n",
    "param_grid = {  # 手法の確認が大事で、実際にサーチするのはとりあえず良いので適当に省く\n",
    "    'LGBM__learning_rate': [0.1,], \n",
    "    'LGBM__max_depth': [6, 7, 8],  # -1 で制限無し\n",
    "    'LGBM__subsample': [0.7, 0.8, 0.9],   # alias for bagging_fraction\n",
    "    'LGBM__colsample_bytree': [0.6, 0.7, 0.8],  # feature_fraction\n",
    "}\n",
    "fit_params = {\n",
    "    \"LGBM__eval_set\": [(X_train, y_train),], #[(X_train, y_train), (X_test, y_test)],\n",
    "    \"LGBM__eval_metric\": [\"rmse\",], #[\"rmse\",\"mae\"],  # <= alias for [\"l2\", \"l1\"]\n",
    "    \"LGBM__verbose\": False,\n",
    "    \"LGBM__early_stopping_rounds\": 20,\n",
    "    #\"LGBM__callbacks\": [lgb.record_evaluation(eval_results_lgb),],\n",
    "}\n",
    "\n",
    "gs_lgbm_cv = GridSearchCV(estimator=pl_lgbm_cv,                           \n",
    "                          param_grid=param_grid,                           \n",
    "                          scoring=\"r2\",                           \n",
    "                          cv=3,                           \n",
    "                          verbose=0,                          \n",
    "                         )\n",
    "\n",
    "#grid_search.fit(X_train, y_train, **fit_params)\n",
    "\n",
    "\n",
    "scores = cross_val_score(gs_lgbm_cv,\n",
    "                         X_train,\n",
    "                         y_train,\n",
    "                         scoring=\"r2\",\n",
    "                         cv=5,\n",
    "                         fit_params=fit_params\n",
    "                        )\n"
   ]
  },
  {
   "cell_type": "code",
   "execution_count": 180,
   "metadata": {},
   "outputs": [
    {
     "data": {
      "text/plain": [
       "array([0.89585975, 0.82109648, 0.90136161, 0.89298592, 0.89672813])"
      ]
     },
     "execution_count": 180,
     "metadata": {},
     "output_type": "execute_result"
    }
   ],
   "source": [
    "scores"
   ]
  },
  {
   "cell_type": "code",
   "execution_count": 181,
   "metadata": {},
   "outputs": [
    {
     "name": "stdout",
     "output_type": "stream",
     "text": [
      "0.8816063785953941 0.030374451192319175\n"
     ]
    }
   ],
   "source": [
    "print(np.mean(scores), np.std(scores))"
   ]
  },
  {
   "cell_type": "code",
   "execution_count": null,
   "metadata": {},
   "outputs": [],
   "source": []
  },
  {
   "cell_type": "code",
   "execution_count": null,
   "metadata": {},
   "outputs": [],
   "source": []
  },
  {
   "cell_type": "code",
   "execution_count": 183,
   "metadata": {},
   "outputs": [
    {
     "name": "stdout",
     "output_type": "stream",
     "text": [
      "CPU times: user 47.1 s, sys: 1.56 s, total: 48.7 s\n",
      "Wall time: 13.2 s\n"
     ]
    }
   ],
   "source": [
    "%%time\n",
    "\n",
    "\n",
    "#eval_results = {}\n",
    "\n",
    "# pipeline\n",
    "pl_lgbm_cv2 = Pipeline([\n",
    "    (\"LGBM\", lgb.LGBMRegressor(objective=\"regression\",      \n",
    "                               n_jobs=-1,\n",
    "                               n_estimators=1000,                             \n",
    "                               random_state=0))\n",
    "])\n",
    "\n",
    "# GridSearch用パラメータ（仮） 要ブラッシュアップ\n",
    "param_grid = {  # 手法の確認が大事で、実際にサーチするのはとりあえず良いので適当に省く\n",
    "    'LGBM__learning_rate': [0.1,], \n",
    "    'LGBM__max_depth': [6, 7, 8],  # -1 で制限無し\n",
    "    'LGBM__subsample': [0.7, 0.8, 0.9],   # alias for bagging_fraction\n",
    "    'LGBM__colsample_bytree': [0.6, 0.7, 0.8],  # feature_fraction\n",
    "}\n",
    "fit_params = {\n",
    "    \"LGBM__eval_set\": [(X_train, y_train),], #[(X_train, y_train), (X_test, y_test)],\n",
    "    \"LGBM__eval_metric\": [\"rmse\",], #[\"rmse\",\"mae\"],  # <= alias for [\"l2\", \"l1\"]\n",
    "    \"LGBM__verbose\": False,\n",
    "    \"LGBM__early_stopping_rounds\": 20,\n",
    "    #\"LGBM__callbacks\": [lgb.record_evaluation(eval_results_lgb),],\n",
    "}\n",
    "\n",
    "gs_lgbm_cv2 = GridSearchCV(estimator=pl_lgbm_cv2,                           \n",
    "                          param_grid=param_grid,                           \n",
    "                          scoring=\"r2\",                           \n",
    "                          cv=2,                           \n",
    "                          verbose=0,                          \n",
    "                         )\n",
    "\n",
    "#grid_search.fit(X_train, y_train, **fit_params)\n",
    "\n",
    "\n",
    "scores2 = cross_val_score(gs_lgbm_cv2,\n",
    "                         X_train,\n",
    "                         y_train,\n",
    "                         scoring=\"r2\",\n",
    "                         cv=5,\n",
    "                         fit_params=fit_params\n",
    "                        )"
   ]
  },
  {
   "cell_type": "code",
   "execution_count": 184,
   "metadata": {},
   "outputs": [
    {
     "data": {
      "text/plain": [
       "array([0.8923034 , 0.81771342, 0.90928169, 0.89723982, 0.89368895])"
      ]
     },
     "execution_count": 184,
     "metadata": {},
     "output_type": "execute_result"
    }
   ],
   "source": [
    "scores2"
   ]
  },
  {
   "cell_type": "code",
   "execution_count": 185,
   "metadata": {},
   "outputs": [
    {
     "name": "stdout",
     "output_type": "stream",
     "text": [
      "0.882045455364505 0.03271723996551744\n"
     ]
    }
   ],
   "source": [
    "print(np.mean(scores2), np.std(scores2))"
   ]
  },
  {
   "cell_type": "code",
   "execution_count": null,
   "metadata": {},
   "outputs": [],
   "source": []
  },
  {
   "cell_type": "code",
   "execution_count": null,
   "metadata": {},
   "outputs": [],
   "source": []
  },
  {
   "cell_type": "markdown",
   "metadata": {},
   "source": [
    "- 以降の課題\n",
    "    - validation_curve, learning_curveなどの確認\n",
    "        - モデルの評価や解釈についての理解深化\n",
    "    - `keras`(`tensorflow2`), `randomforest`, `SVR`などの実施と比較\n",
    "    - `optuna`を使ったベイズ最適化を使った更なるチューニング方法の確認\n",
    "    - スタッキングなどのアンサンブル"
   ]
  },
  {
   "cell_type": "code",
   "execution_count": null,
   "metadata": {},
   "outputs": [],
   "source": []
  }
 ],
 "metadata": {
  "kernelspec": {
   "display_name": "Python 3",
   "language": "python",
   "name": "python3"
  },
  "language_info": {
   "codemirror_mode": {
    "name": "ipython",
    "version": 3
   },
   "file_extension": ".py",
   "mimetype": "text/x-python",
   "name": "python",
   "nbconvert_exporter": "python",
   "pygments_lexer": "ipython3",
   "version": "3.7.6"
  }
 },
 "nbformat": 4,
 "nbformat_minor": 4
}
