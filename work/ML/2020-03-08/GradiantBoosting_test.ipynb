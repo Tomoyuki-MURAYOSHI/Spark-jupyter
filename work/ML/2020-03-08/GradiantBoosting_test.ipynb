{
 "cells": [
  {
   "cell_type": "markdown",
   "metadata": {},
   "source": [
    "# Machine-Learning test\n",
    "\n",
    "- `xgboost`, `lightgbm`あたりの手法を`sklearn`のpipeline, gridsearchCVと組み合わせて使えるようにする（目標）\n",
    "\n",
    "\n",
    "---\n",
    "\n",
    "### sklearn\n",
    "- https://qiita.com/R0w0/items/3b3d8e660b8abc1f804d\n",
    "- https://qiita.com/ishizakiiii/items/0650723cc2b4eef2c1cf\n",
    "- https://qiita.com/yhyhyhjp/items/c81f7cea72a44a7bfd3a\n",
    "- https://qiita.com/saiaron/items/bb96c0f898cd0cbcd788\n",
    "- https://qiita.com/issakuss/items/d30303e200756980ae45\n",
    "\n",
    "\n",
    "### xgboost\n",
    "- http://wolfin.hatenablog.com/entry/2018/02/08/092124\n",
    "- http://tekenuko.hatenablog.com/entry/2016/09/22/220814\n",
    "- https://qiita.com/katsu1110/items/a1c3185fec39e5629bcb\n",
    "- https://blog.amedama.jp/entry/2019/01/29/235642\n",
    "- https://qiita.com/aaatsushi_bb/items/0b605c0f27493f005c88\n",
    "- http://smrmkt.hatenablog.jp/entry/2015/04/28/210039\n",
    "- https://qiita.com/msrks/items/e3e958c04a5167575c41\n",
    "- https://yag.xyz/blog/2015/08/08/xgboost-python/\n",
    "- http://wolfin.hatenablog.com/entry/2018/02/08/092124"
   ]
  },
  {
   "cell_type": "code",
   "execution_count": 1,
   "metadata": {},
   "outputs": [],
   "source": [
    "from pyspark.sql import SparkSession\n",
    "\n",
    "spark = SparkSession.builder.enableHiveSupport().getOrCreate()"
   ]
  },
  {
   "cell_type": "code",
   "execution_count": 2,
   "metadata": {},
   "outputs": [],
   "source": [
    "import numpy as np\n",
    "import pandas as pd\n",
    "import dask.dataframe as dd\n",
    "import seaborn as sns\n",
    "import tensorflow as tf\n",
    "from tensorflow import keras"
   ]
  },
  {
   "cell_type": "code",
   "execution_count": 3,
   "metadata": {},
   "outputs": [],
   "source": [
    "import xgboost as xgb\n",
    "import lightgbm as lgb"
   ]
  },
  {
   "cell_type": "code",
   "execution_count": 4,
   "metadata": {},
   "outputs": [],
   "source": [
    "from sklearn.model_selection import GridSearchCV\n",
    "from sklearn.datasets import load_boston\n",
    "from sklearn.metrics import mean_squared_error\n",
    "from sklearn.metrics import mean_absolute_error\n",
    "from sklearn.metrics import r2_score\n",
    "from sklearn.pipeline import Pipeline\n",
    "from sklearn.model_selection import train_test_split\n",
    "from sklearn.model_selection import cross_val_predict, cross_val_score, cross_validate\n",
    "from sklearn import metrics\n",
    "from sklearn.pipeline import make_pipeline\n",
    "from sklearn.preprocessing import OneHotEncoder\n",
    "from sklearn.preprocessing import normalize\n",
    "from sklearn.impute import SimpleImputer"
   ]
  },
  {
   "cell_type": "code",
   "execution_count": 5,
   "metadata": {},
   "outputs": [],
   "source": [
    "import umap"
   ]
  },
  {
   "cell_type": "code",
   "execution_count": 32,
   "metadata": {},
   "outputs": [],
   "source": [
    "import matplotlib.pyplot as plt"
   ]
  },
  {
   "cell_type": "code",
   "execution_count": null,
   "metadata": {},
   "outputs": [],
   "source": []
  },
  {
   "cell_type": "code",
   "execution_count": null,
   "metadata": {},
   "outputs": [],
   "source": []
  },
  {
   "cell_type": "markdown",
   "metadata": {},
   "source": [
    "- mpgのテストデータを使ってみる"
   ]
  },
  {
   "cell_type": "code",
   "execution_count": 6,
   "metadata": {},
   "outputs": [
    {
     "name": "stdout",
     "output_type": "stream",
     "text": [
      "+----+---------+------------+----------+------+------------+----------+------+\n",
      "| MPG|Cylinders|Displacement|Horsepower|Weight|Acceleration|Model_Year|Origin|\n",
      "+----+---------+------------+----------+------+------------+----------+------+\n",
      "|18.0|        6|       250.0|      78.0|3574.0|        21.0|        76|     1|\n",
      "|18.5|        6|       250.0|     110.0|3645.0|        16.2|        76|     1|\n",
      "|17.5|        6|       258.0|      95.0|3193.0|        17.8|        76|     1|\n",
      "|29.5|        4|        97.0|      71.0|1825.0|        12.2|        76|     2|\n",
      "|32.0|        4|        85.0|      70.0|1990.0|        17.0|        76|     3|\n",
      "|28.0|        4|        97.0|      75.0|2155.0|        16.4|        76|     3|\n",
      "|26.5|        4|       140.0|      72.0|2565.0|        13.6|        76|     1|\n",
      "|20.0|        4|       130.0|     102.0|3150.0|        15.7|        76|     2|\n",
      "|13.0|        8|       318.0|     150.0|3940.0|        13.2|        76|     1|\n",
      "|19.0|        4|       120.0|      88.0|3270.0|        21.9|        76|     2|\n",
      "|19.0|        6|       156.0|     108.0|2930.0|        15.5|        76|     3|\n",
      "|16.5|        6|       168.0|     120.0|3820.0|        16.7|        76|     2|\n",
      "|16.5|        8|       350.0|     180.0|4380.0|        12.1|        76|     1|\n",
      "|13.0|        8|       350.0|     145.0|4055.0|        12.0|        76|     1|\n",
      "|13.0|        8|       302.0|     130.0|3870.0|        15.0|        76|     1|\n",
      "|13.0|        8|       318.0|     150.0|3755.0|        14.0|        76|     1|\n",
      "|31.5|        4|        98.0|      68.0|2045.0|        18.5|        77|     3|\n",
      "|30.0|        4|       111.0|      80.0|2155.0|        14.8|        77|     1|\n",
      "|36.0|        4|        79.0|      58.0|1825.0|        18.6|        77|     2|\n",
      "|25.5|        4|       122.0|      96.0|2300.0|        15.5|        77|     1|\n",
      "+----+---------+------------+----------+------+------------+----------+------+\n",
      "only showing top 20 rows\n",
      "\n"
     ]
    }
   ],
   "source": [
    "df_mpg = spark.read.load(\"/home/jovyan/work/hive-db/external/tf_testdata/mpg\", format=\"orc\")\n",
    "df_mpg.show()\n",
    "pdf_mpg = df_mpg.toPandas()"
   ]
  },
  {
   "cell_type": "markdown",
   "metadata": {},
   "source": [
    "- make data"
   ]
  },
  {
   "cell_type": "code",
   "execution_count": 7,
   "metadata": {},
   "outputs": [],
   "source": [
    "pdf_mpg_oneHot = pd.get_dummies(pdf_mpg, columns=['Origin'], drop_first=False)"
   ]
  },
  {
   "cell_type": "code",
   "execution_count": 8,
   "metadata": {},
   "outputs": [],
   "source": [
    "y = pdf_mpg_oneHot.MPG.values\n",
    "X = pdf_mpg_oneHot.drop(columns=[\"MPG\"]).values\n",
    "\n",
    "X_train, X_test, y_train, y_test = train_test_split(X, y, test_size=0.2, random_state=3)"
   ]
  },
  {
   "cell_type": "code",
   "execution_count": null,
   "metadata": {},
   "outputs": [],
   "source": []
  },
  {
   "cell_type": "markdown",
   "metadata": {},
   "source": [
    "- imputerを使うのはPipelineのテスト用で実質的な意味は無い"
   ]
  },
  {
   "cell_type": "code",
   "execution_count": 114,
   "metadata": {},
   "outputs": [
    {
     "name": "stdout",
     "output_type": "stream",
     "text": [
      "CPU times: user 7.45 s, sys: 0 ns, total: 7.45 s\n",
      "Wall time: 7.45 s\n"
     ]
    },
    {
     "data": {
      "text/plain": [
       "GridSearchCV(cv=3, error_score=nan,\n",
       "             estimator=Pipeline(memory=None,\n",
       "                                steps=[('IMP',\n",
       "                                        SimpleImputer(add_indicator=False,\n",
       "                                                      copy=True,\n",
       "                                                      fill_value=-99999,\n",
       "                                                      missing_values=nan,\n",
       "                                                      strategy='mean',\n",
       "                                                      verbose=0)),\n",
       "                                       ('XGB',\n",
       "                                        XGBRegressor(base_score=0.5,\n",
       "                                                     booster='gbtree',\n",
       "                                                     callbacks=[<function record_evaluation.<locals>.callback at 0x7f7c7b58d7a0>],\n",
       "                                                     colsample_bylevel=1,\n",
       "                                                     colsample_bynode...\n",
       "                                                     reg_alpha=0, reg_lambda=1,\n",
       "                                                     scale_pos_weight=1,\n",
       "                                                     seed=None, silent=None,\n",
       "                                                     subsample=1,\n",
       "                                                     verbosity=1))],\n",
       "                                verbose=False),\n",
       "             iid='deprecated', n_jobs=None,\n",
       "             param_grid={'XGB__colsample_bytree': [0.7, 0.8, 0.9],\n",
       "                         'XGB__learning_rate': [0.05, 0.1],\n",
       "                         'XGB__max_depth': [3, 5, 7, 9],\n",
       "                         'XGB__subsample': [0.8, 0.9, 1.0]},\n",
       "             pre_dispatch='2*n_jobs', refit=True, return_train_score=False,\n",
       "             scoring='r2', verbose=0)"
      ]
     },
     "execution_count": 114,
     "metadata": {},
     "output_type": "execute_result"
    }
   ],
   "source": [
    "%%time\n",
    "\n",
    "eval_results = {}\n",
    "\n",
    "# pipeline\n",
    "pl_xgb = Pipeline([\n",
    "    (\"IMP\", SimpleImputer(fill_value=-99999)),\n",
    "    (\"XGB\", xgb.XGBRegressor(#early_stopping_rounds=20,\n",
    "                             objective=\"reg:squarederror\",\n",
    "                             #eval_metric=\"rmse\",\n",
    "                             n_estimators=1000,\n",
    "                             callbacks=[xgb.callback.record_evaluation(eval_result=eval_results),],  # うまく働いていない様子?\n",
    "                             #verbosity=0,  # silent\n",
    "                             #silent=True,\n",
    "                             random_state=0))\n",
    "])\n",
    "\n",
    "# GridSearch用パラメータ（仮） 要ブラッシュアップ\n",
    "param_grid = {  # 手法の確認が大事で、実際にサーチするのはとりあえず良いので適当に省く\n",
    "    'XGB__learning_rate': [0.05, 0.1,], \n",
    "    'XGB__max_depth': [3, 5, 7, 9], \n",
    "    'XGB__subsample': [0.8, 0.9, 1.0], \n",
    "    'XGB__colsample_bytree': [0.7, 0.8, 0.9],\n",
    "}\n",
    "fit_params = {\n",
    "    \"XGB__eval_set\": [(X_train, y_train), (X_test, y_test)],\n",
    "    \"XGB__eval_metric\": [\"rmse\",\"mae\"],\n",
    "    \"XGB__verbose\": 0,\n",
    "    \"XGB__early_stopping_rounds\": 20,\n",
    "}\n",
    "\n",
    "grid_search = GridSearchCV(estimator=pl_xgb,\n",
    "                           param_grid=param_grid,\n",
    "                           scoring=\"r2\",\n",
    "                           cv=3,\n",
    "                           verbose=0,\n",
    "                          )\n",
    "\n",
    "grid_search.fit(X_train, y_train, **fit_params)"
   ]
  },
  {
   "cell_type": "code",
   "execution_count": 11,
   "metadata": {},
   "outputs": [
    {
     "data": {
      "text/plain": [
       "dict_keys(['explained_variance', 'r2', 'max_error', 'neg_median_absolute_error', 'neg_mean_absolute_error', 'neg_mean_squared_error', 'neg_mean_squared_log_error', 'neg_root_mean_squared_error', 'neg_mean_poisson_deviance', 'neg_mean_gamma_deviance', 'accuracy', 'roc_auc', 'roc_auc_ovr', 'roc_auc_ovo', 'roc_auc_ovr_weighted', 'roc_auc_ovo_weighted', 'balanced_accuracy', 'average_precision', 'neg_log_loss', 'neg_brier_score', 'adjusted_rand_score', 'homogeneity_score', 'completeness_score', 'v_measure_score', 'mutual_info_score', 'adjusted_mutual_info_score', 'normalized_mutual_info_score', 'fowlkes_mallows_score', 'precision', 'precision_macro', 'precision_micro', 'precision_samples', 'precision_weighted', 'recall', 'recall_macro', 'recall_micro', 'recall_samples', 'recall_weighted', 'f1', 'f1_macro', 'f1_micro', 'f1_samples', 'f1_weighted', 'jaccard', 'jaccard_macro', 'jaccard_micro', 'jaccard_samples', 'jaccard_weighted'])"
      ]
     },
     "execution_count": 11,
     "metadata": {},
     "output_type": "execute_result"
    }
   ],
   "source": [
    "import sklearn\n",
    "sklearn.metrics.SCORERS.keys()"
   ]
  },
  {
   "cell_type": "code",
   "execution_count": 115,
   "metadata": {},
   "outputs": [
    {
     "data": {
      "text/plain": [
       "{'XGB__colsample_bytree': 0.7,\n",
       " 'XGB__learning_rate': 0.1,\n",
       " 'XGB__max_depth': 3,\n",
       " 'XGB__subsample': 0.9}"
      ]
     },
     "metadata": {},
     "output_type": "display_data"
    },
    {
     "data": {
      "text/plain": [
       "0.8631206958764026"
      ]
     },
     "metadata": {},
     "output_type": "display_data"
    },
    {
     "data": {
      "text/plain": [
       "Pipeline(memory=None,\n",
       "         steps=[('IMP',\n",
       "                 SimpleImputer(add_indicator=False, copy=True,\n",
       "                               fill_value=-99999, missing_values=nan,\n",
       "                               strategy='mean', verbose=0)),\n",
       "                ('XGB',\n",
       "                 XGBRegressor(base_score=0.5, booster='gbtree',\n",
       "                              callbacks=[<function record_evaluation.<locals>.callback at 0x7f7c7b58d7a0>],\n",
       "                              colsample_bylevel=1, colsample_bynode=1,\n",
       "                              colsample_bytree=0.7, gamma=0,\n",
       "                              importance_type='gain', learning_rate=0.1,\n",
       "                              max_delta_step=0, max_depth=3, min_child_weight=1,\n",
       "                              missing=None, n_estimators=1000, n_jobs=1,\n",
       "                              nthread=None, objective='reg:squarederror',\n",
       "                              random_state=0, reg_alpha=0, reg_lambda=1,\n",
       "                              scale_pos_weight=1, seed=None, silent=None,\n",
       "                              subsample=0.9, verbosity=1))],\n",
       "         verbose=False)"
      ]
     },
     "metadata": {},
     "output_type": "display_data"
    }
   ],
   "source": [
    "display(grid_search.best_params_)\n",
    "display(grid_search.best_score_)\n",
    "display(grid_search.best_estimator_)"
   ]
  },
  {
   "cell_type": "code",
   "execution_count": 116,
   "metadata": {},
   "outputs": [
    {
     "data": {
      "text/plain": [
       "0.8572008411728247"
      ]
     },
     "execution_count": 116,
     "metadata": {},
     "output_type": "execute_result"
    }
   ],
   "source": [
    "r2_score(y_pred=grid_search.predict(X_test), y_true=y_test)"
   ]
  },
  {
   "cell_type": "code",
   "execution_count": 117,
   "metadata": {},
   "outputs": [],
   "source": [
    "learning_data = grid_search.best_estimator_.steps[1][1].evals_result()"
   ]
  },
  {
   "cell_type": "code",
   "execution_count": 118,
   "metadata": {},
   "outputs": [
    {
     "data": {
      "text/html": [
       "<div>\n",
       "<style scoped>\n",
       "    .dataframe tbody tr th:only-of-type {\n",
       "        vertical-align: middle;\n",
       "    }\n",
       "\n",
       "    .dataframe tbody tr th {\n",
       "        vertical-align: top;\n",
       "    }\n",
       "\n",
       "    .dataframe thead th {\n",
       "        text-align: right;\n",
       "    }\n",
       "</style>\n",
       "<table border=\"1\" class=\"dataframe\">\n",
       "  <thead>\n",
       "    <tr style=\"text-align: right;\">\n",
       "      <th></th>\n",
       "      <th>train_rmse</th>\n",
       "      <th>test_rmse</th>\n",
       "      <th>train_mae</th>\n",
       "      <th>test_mae</th>\n",
       "    </tr>\n",
       "  </thead>\n",
       "  <tbody>\n",
       "    <tr>\n",
       "      <th>89</th>\n",
       "      <td>1.499759</td>\n",
       "      <td>2.641740</td>\n",
       "      <td>1.146058</td>\n",
       "      <td>1.983818</td>\n",
       "    </tr>\n",
       "    <tr>\n",
       "      <th>90</th>\n",
       "      <td>1.498293</td>\n",
       "      <td>2.642846</td>\n",
       "      <td>1.143369</td>\n",
       "      <td>1.983930</td>\n",
       "    </tr>\n",
       "    <tr>\n",
       "      <th>91</th>\n",
       "      <td>1.494015</td>\n",
       "      <td>2.642723</td>\n",
       "      <td>1.139090</td>\n",
       "      <td>1.981046</td>\n",
       "    </tr>\n",
       "    <tr>\n",
       "      <th>92</th>\n",
       "      <td>1.487174</td>\n",
       "      <td>2.646271</td>\n",
       "      <td>1.135026</td>\n",
       "      <td>1.983752</td>\n",
       "    </tr>\n",
       "    <tr>\n",
       "      <th>93</th>\n",
       "      <td>1.479439</td>\n",
       "      <td>2.638267</td>\n",
       "      <td>1.129386</td>\n",
       "      <td>1.980774</td>\n",
       "    </tr>\n",
       "  </tbody>\n",
       "</table>\n",
       "</div>"
      ],
      "text/plain": [
       "    train_rmse  test_rmse  train_mae  test_mae\n",
       "89    1.499759   2.641740   1.146058  1.983818\n",
       "90    1.498293   2.642846   1.143369  1.983930\n",
       "91    1.494015   2.642723   1.139090  1.981046\n",
       "92    1.487174   2.646271   1.135026  1.983752\n",
       "93    1.479439   2.638267   1.129386  1.980774"
      ]
     },
     "metadata": {},
     "output_type": "display_data"
    }
   ],
   "source": [
    "df_learning = pd.DataFrame({\n",
    "    \"train_rmse\": learning_data['validation_0'][\"rmse\"],\n",
    "    \"test_rmse\": learning_data[\"validation_1\"][\"rmse\"],\n",
    "    \"train_mae\": learning_data[\"validation_0\"][\"mae\"],\n",
    "    \"test_mae\": learning_data[\"validation_1\"][\"mae\"]\n",
    "})\n",
    "display(df_learning[-5:])\n"
   ]
  },
  {
   "cell_type": "code",
   "execution_count": 119,
   "metadata": {},
   "outputs": [
    {
     "data": {
      "image/png": "[encoded data removed]",
      "text/plain": [
       "<Figure size 864x648 with 1 Axes>"
      ]
     },
     "metadata": {
      "needs_background": "light"
     },
     "output_type": "display_data"
    }
   ],
   "source": [
    "_, ax = plt.subplots(figsize=(12, 9))\n",
    "\n",
    "df_learning[[\"train_rmse\", \"test_rmse\"]].plot(ax=ax)\n",
    "plt.show()"
   ]
  },
  {
   "cell_type": "code",
   "execution_count": 120,
   "metadata": {},
   "outputs": [
    {
     "data": {
      "image/png": "[encoded data removed]",
      "text/plain": [
       "<Figure size 864x648 with 1 Axes>"
      ]
     },
     "metadata": {
      "needs_background": "light"
     },
     "output_type": "display_data"
    }
   ],
   "source": [
    "_, ax = plt.subplots(figsize=(12, 9))\n",
    "\n",
    "df_learning[[\"train_mae\", \"test_mae\"]].plot(ax=ax)\n",
    "plt.show()"
   ]
  },
  {
   "cell_type": "code",
   "execution_count": 121,
   "metadata": {},
   "outputs": [
    {
     "data": {
      "text/plain": [
       "array([0.05165613, 0.40347216, 0.1183825 , 0.21913567, 0.01677631,\n",
       "       0.11591727, 0.0394848 , 0.01569174, 0.01948338], dtype=float32)"
      ]
     },
     "metadata": {},
     "output_type": "display_data"
    }
   ],
   "source": [
    "feature_importtance = grid_search.best_estimator_.steps[1][1].feature_importances_\n",
    "display(feature_importtance)"
   ]
  },
  {
   "cell_type": "code",
   "execution_count": null,
   "metadata": {},
   "outputs": [],
   "source": []
  },
  {
   "cell_type": "code",
   "execution_count": null,
   "metadata": {},
   "outputs": [],
   "source": []
  },
  {
   "cell_type": "code",
   "execution_count": null,
   "metadata": {},
   "outputs": [],
   "source": []
  },
  {
   "cell_type": "code",
   "execution_count": null,
   "metadata": {},
   "outputs": [],
   "source": []
  },
  {
   "cell_type": "code",
   "execution_count": 84,
   "metadata": {},
   "outputs": [],
   "source": [
    "eval_results2={}\n",
    "model_xgb = xgb.XGBRegressor(#early_stopping_rounds=10,\n",
    "                             objective=\"reg:squarederror\",\n",
    "                             n_estimators=1000,\n",
    "                             callbacks=[xgb.callback.record_evaluation(eval_result=eval_results2),],\n",
    "                             random_state=0,\n",
    "                             #silent=True,\n",
    "                            )"
   ]
  },
  {
   "cell_type": "code",
   "execution_count": 85,
   "metadata": {},
   "outputs": [
    {
     "data": {
      "text/plain": [
       "XGBRegressor(base_score=0.5, booster='gbtree',\n",
       "             callbacks=[<function record_evaluation.<locals>.callback at 0x7f7c79ef8830>],\n",
       "             colsample_bylevel=1, colsample_bynode=1, colsample_bytree=1,\n",
       "             gamma=0, importance_type='gain', learning_rate=0.1,\n",
       "             max_delta_step=0, max_depth=3, min_child_weight=1, missing=None,\n",
       "             n_estimators=1000, n_jobs=1, nthread=None,\n",
       "             objective='reg:squarederror', random_state=0, reg_alpha=0,\n",
       "             reg_lambda=1, scale_pos_weight=1, seed=None, silent=None,\n",
       "             subsample=1, verbosity=1)"
      ]
     },
     "execution_count": 85,
     "metadata": {},
     "output_type": "execute_result"
    }
   ],
   "source": [
    "model_xgb.fit(\n",
    "    X_train, y_train, eval_metric=[\"rmse\",\"mae\"],   \n",
    "    early_stopping_rounds=20,\n",
    "    eval_set=[(X_train, y_train), (X_test, y_test)],\n",
    "    verbose=0\n",
    "             )"
   ]
  },
  {
   "cell_type": "code",
   "execution_count": 102,
   "metadata": {},
   "outputs": [
    {
     "data": {
      "text/html": [
       "<div>\n",
       "<style scoped>\n",
       "    .dataframe tbody tr th:only-of-type {\n",
       "        vertical-align: middle;\n",
       "    }\n",
       "\n",
       "    .dataframe tbody tr th {\n",
       "        vertical-align: top;\n",
       "    }\n",
       "\n",
       "    .dataframe thead th {\n",
       "        text-align: right;\n",
       "    }\n",
       "</style>\n",
       "<table border=\"1\" class=\"dataframe\">\n",
       "  <thead>\n",
       "    <tr style=\"text-align: right;\">\n",
       "      <th></th>\n",
       "      <th>train_rmse</th>\n",
       "      <th>train_mae</th>\n",
       "      <th>test_rmse</th>\n",
       "      <th>test_mae</th>\n",
       "    </tr>\n",
       "  </thead>\n",
       "  <tbody>\n",
       "    <tr>\n",
       "      <th>47</th>\n",
       "      <td>1.823304</td>\n",
       "      <td>1.346833</td>\n",
       "      <td>2.661465</td>\n",
       "      <td>2.031392</td>\n",
       "    </tr>\n",
       "    <tr>\n",
       "      <th>48</th>\n",
       "      <td>1.809409</td>\n",
       "      <td>1.340060</td>\n",
       "      <td>2.667198</td>\n",
       "      <td>2.035068</td>\n",
       "    </tr>\n",
       "    <tr>\n",
       "      <th>49</th>\n",
       "      <td>1.794926</td>\n",
       "      <td>1.330759</td>\n",
       "      <td>2.671304</td>\n",
       "      <td>2.036406</td>\n",
       "    </tr>\n",
       "    <tr>\n",
       "      <th>50</th>\n",
       "      <td>1.785801</td>\n",
       "      <td>1.323275</td>\n",
       "      <td>2.671929</td>\n",
       "      <td>2.036625</td>\n",
       "    </tr>\n",
       "    <tr>\n",
       "      <th>51</th>\n",
       "      <td>1.775736</td>\n",
       "      <td>1.318270</td>\n",
       "      <td>2.676368</td>\n",
       "      <td>2.039552</td>\n",
       "    </tr>\n",
       "  </tbody>\n",
       "</table>\n",
       "</div>"
      ],
      "text/plain": [
       "    train_rmse  train_mae  test_rmse  test_mae\n",
       "47    1.823304   1.346833   2.661465  2.031392\n",
       "48    1.809409   1.340060   2.667198  2.035068\n",
       "49    1.794926   1.330759   2.671304  2.036406\n",
       "50    1.785801   1.323275   2.671929  2.036625\n",
       "51    1.775736   1.318270   2.676368  2.039552"
      ]
     },
     "execution_count": 102,
     "metadata": {},
     "output_type": "execute_result"
    }
   ],
   "source": [
    "eval_result2 = model_xgb.evals_result()\n",
    "\n",
    "df_evals2 = pd.DataFrame({\n",
    "    \"train_rmse\": eval_result2[\"validation_0\"][\"rmse\"],\n",
    "    \"train_mae\": eval_result2[\"validation_0\"][\"mae\"],\n",
    "    \"test_rmse\": eval_result2[\"validation_1\"][\"rmse\"],\n",
    "    \"test_mae\": eval_result2[\"validation_1\"][\"mae\"]\n",
    "})\n",
    "df_evals2[-5:]"
   ]
  },
  {
   "cell_type": "code",
   "execution_count": 87,
   "metadata": {},
   "outputs": [
    {
     "data": {
      "text/plain": [
       "0.8443040566756019"
      ]
     },
     "execution_count": 87,
     "metadata": {},
     "output_type": "execute_result"
    }
   ],
   "source": [
    "r2_score(y_pred=model_xgb.predict(X_test), y_true=y_test)"
   ]
  },
  {
   "cell_type": "code",
   "execution_count": 88,
   "metadata": {},
   "outputs": [
    {
     "data": {
      "text/plain": [
       "array([0.01197179, 0.4588093 , 0.11465207, 0.2972325 , 0.01463368,\n",
       "       0.07777458, 0.02163796, 0.00328813, 0.        ], dtype=float32)"
      ]
     },
     "execution_count": 88,
     "metadata": {},
     "output_type": "execute_result"
    }
   ],
   "source": [
    "model_xgb.feature_importances_"
   ]
  },
  {
   "cell_type": "code",
   "execution_count": 89,
   "metadata": {},
   "outputs": [
    {
     "data": {
      "image/png": "[encoded data removed]",
      "text/plain": [
       "<Figure size 864x648 with 1 Axes>"
      ]
     },
     "metadata": {
      "needs_background": "light"
     },
     "output_type": "display_data"
    }
   ],
   "source": [
    "import matplotlib.pyplot as plt\n",
    "_, ax = plt.subplots(figsize=(12,9))\n",
    "\n",
    "xgb.plot_importance(model_xgb,\n",
    "                   ax=ax,\n",
    "                   importance_type=\"gain\",\n",
    "                   show_values=True)\n",
    "plt.show()"
   ]
  },
  {
   "cell_type": "code",
   "execution_count": 90,
   "metadata": {},
   "outputs": [
    {
     "data": {
      "text/plain": [
       "array([0.01197179, 0.4588093 , 0.11465207, 0.2972325 , 0.01463368,\n",
       "       0.07777458, 0.02163796, 0.00328813, 0.        ], dtype=float32)"
      ]
     },
     "execution_count": 90,
     "metadata": {},
     "output_type": "execute_result"
    }
   ],
   "source": [
    "model_xgb.feature_importances_"
   ]
  },
  {
   "cell_type": "markdown",
   "metadata": {},
   "source": [
    "- callbacksの使い方がうまく出来ていないが、これでも最低限のことは出来ていそう"
   ]
  },
  {
   "cell_type": "code",
   "execution_count": 91,
   "metadata": {},
   "outputs": [
    {
     "data": {
      "text/plain": [
       "52"
      ]
     },
     "execution_count": 91,
     "metadata": {},
     "output_type": "execute_result"
    }
   ],
   "source": [
    "len(df_evals2)"
   ]
  },
  {
   "cell_type": "code",
   "execution_count": null,
   "metadata": {},
   "outputs": [],
   "source": []
  },
  {
   "cell_type": "markdown",
   "metadata": {},
   "source": [
    "- parameter-tuning x cross-validation"
   ]
  },
  {
   "cell_type": "code",
   "execution_count": 132,
   "metadata": {},
   "outputs": [
    {
     "name": "stdout",
     "output_type": "stream",
     "text": [
      "CPU times: user 7.12 s, sys: 0 ns, total: 7.12 s\n",
      "Wall time: 7.14 s\n"
     ]
    }
   ],
   "source": [
    "%%time\n",
    "\n",
    "\n",
    "eval_results = {}\n",
    "\n",
    "# pipeline\n",
    "pl_xgb = Pipeline([\n",
    "    (\"XGB\", xgb.XGBRegressor(objective=\"reg:squarederror\",\n",
    "                             n_estimators=1000,\n",
    "                             callbacks=[xgb.callback.record_evaluation(eval_result=eval_results),],  # うまく働いていない様子?\n",
    "                             random_state=0))\n",
    "])\n",
    "\n",
    "# GridSearch用パラメータ（仮） 要ブラッシュアップ\n",
    "param_grid = {  # 手法の確認が大事で、実際にサーチするのはとりあえず良いので適当に省く\n",
    "    'XGB__learning_rate': [0.1,], \n",
    "    'XGB__max_depth': [3, 5, 7,], \n",
    "    'XGB__subsample': [0.8, 0.9, 1.0], \n",
    "    'XGB__colsample_bytree': [0.7, 0.8, 0.9],\n",
    "}\n",
    "fit_params = {\n",
    "    \"XGB__eval_set\": [(X_train, y_train), (X_test, y_test)],\n",
    "    \"XGB__eval_metric\": [\"rmse\",\"mae\"],\n",
    "    \"XGB__verbose\": 0,\n",
    "    \"XGB__early_stopping_rounds\": 10,\n",
    "}\n",
    "\n",
    "gs = GridSearchCV(estimator=pl_xgb,                           \n",
    "                  param_grid=param_grid,                           \n",
    "                  scoring=\"r2\",                           \n",
    "                  cv=3,                        \n",
    "                  verbose=0,                          \n",
    "                 )\n",
    "\n",
    "#grid_search.fit(X_train, y_train, **fit_params)\n",
    "\n",
    "scores = cross_val_score(gs,\n",
    "                         X_train,\n",
    "                         y_train,\n",
    "                         scoring=\"r2\",\n",
    "                         cv=5,\n",
    "                         fit_params=fit_params\n",
    "                        )\n",
    "\n"
   ]
  },
  {
   "cell_type": "code",
   "execution_count": 133,
   "metadata": {},
   "outputs": [
    {
     "data": {
      "text/plain": [
       "array([0.88062562, 0.8007626 , 0.89162789, 0.84986566, 0.86660863])"
      ]
     },
     "execution_count": 133,
     "metadata": {},
     "output_type": "execute_result"
    }
   ],
   "source": [
    "scores"
   ]
  },
  {
   "cell_type": "code",
   "execution_count": 134,
   "metadata": {},
   "outputs": [
    {
     "name": "stdout",
     "output_type": "stream",
     "text": [
      "0.8578980789199602 0.031809111556111706\n"
     ]
    }
   ],
   "source": [
    "print(np.mean(scores), np.std(scores))"
   ]
  },
  {
   "cell_type": "markdown",
   "metadata": {},
   "source": [
    "- ↑モデルを何にするかの基準に使える"
   ]
  },
  {
   "cell_type": "code",
   "execution_count": null,
   "metadata": {},
   "outputs": [],
   "source": []
  },
  {
   "cell_type": "code",
   "execution_count": null,
   "metadata": {},
   "outputs": [],
   "source": []
  },
  {
   "cell_type": "markdown",
   "metadata": {},
   "source": [
    "- lightgbm"
   ]
  },
  {
   "cell_type": "code",
   "execution_count": null,
   "metadata": {},
   "outputs": [],
   "source": [
    "%%time\n",
    "\n",
    "eval_results = {}\n",
    "\n",
    "# pipeline\n",
    "pl_lgbm = Pipeline([\n",
    "    (\"IMP\", SimpleImputer(fill_value=-99999)),\n",
    "    (\"LGBM\", lgb.LGBMRegressor(\n",
    "                             objective=\"reg:squarederror\",\n",
    "                             #eval_metric=\"rmse\",\n",
    "                             n_estimators=1000,\n",
    "                             callbacks=[xgb.callback.record_evaluation(eval_result=eval_results),],  # うまく働いていない様子?\n",
    "                             #verbosity=0,  # silent\n",
    "                             #silent=True,\n",
    "                             random_state=0))\n",
    "])\n",
    "\n",
    "# GridSearch用パラメータ（仮） 要ブラッシュアップ\n",
    "param_grid = {  # 手法の確認が大事で、実際にサーチするのはとりあえず良いので適当に省く\n",
    "    'XGB__learning_rate': [0.05, 0.1,], \n",
    "    'XGB__max_depth': [3, 5, 7, 9], \n",
    "    'XGB__subsample': [0.8, 0.9, 1.0], \n",
    "    'XGB__colsample_bytree': [0.7, 0.8, 0.9],\n",
    "}\n",
    "fit_params = {\n",
    "    \"XGB__eval_set\": [(X_train, y_train), (X_test, y_test)],\n",
    "    \"XGB__eval_metric\": [\"rmse\",\"mae\"],\n",
    "    \"XGB__verbose\": 0,\n",
    "    \"XGB__early_stopping_rounds\": 20,\n",
    "}\n",
    "\n",
    "grid_search = GridSearchCV(estimator=pl_xgb,\n",
    "                           param_grid=param_grid,\n",
    "                           scoring=\"r2\",\n",
    "                           cv=3,\n",
    "                           verbose=0,\n",
    "                          )\n",
    "\n",
    "grid_search.fit(X_train, y_train, **fit_params)\n"
   ]
  },
  {
   "cell_type": "code",
   "execution_count": null,
   "metadata": {},
   "outputs": [],
   "source": []
  },
  {
   "cell_type": "code",
   "execution_count": null,
   "metadata": {},
   "outputs": [],
   "source": [
    "lgb.LGBMRegressor"
   ]
  }
 ],
 "metadata": {
  "kernelspec": {
   "display_name": "Python 3",
   "language": "python",
   "name": "python3"
  },
  "language_info": {
   "codemirror_mode": {
    "name": "ipython",
    "version": 3
   },
   "file_extension": ".py",
   "mimetype": "text/x-python",
   "name": "python",
   "nbconvert_exporter": "python",
   "pygments_lexer": "ipython3",
   "version": "3.7.6"
  }
 },
 "nbformat": 4,
 "nbformat_minor": 4
}
