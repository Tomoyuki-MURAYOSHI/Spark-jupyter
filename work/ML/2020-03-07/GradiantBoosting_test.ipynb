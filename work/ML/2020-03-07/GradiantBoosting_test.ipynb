{
 "cells": [
  {
   "cell_type": "markdown",
   "metadata": {},
   "source": [
    "# Machine-Learning test\n",
    "\n",
    "- `xgboost`, `lightgbm`あたりの手法を`sklearn`のpipeline, gridsearchCVと組み合わせて使えるようにする（目標）\n",
    "\n",
    "\n",
    "---\n",
    "\n",
    "### sklearn\n",
    "- https://qiita.com/R0w0/items/3b3d8e660b8abc1f804d\n",
    "- https://qiita.com/ishizakiiii/items/0650723cc2b4eef2c1cf\n",
    "- https://qiita.com/yhyhyhjp/items/c81f7cea72a44a7bfd3a\n",
    "- https://qiita.com/saiaron/items/bb96c0f898cd0cbcd788\n",
    "- https://qiita.com/issakuss/items/d30303e200756980ae45\n",
    "\n",
    "\n",
    "### xgboost\n",
    "- http://wolfin.hatenablog.com/entry/2018/02/08/092124\n",
    "- http://tekenuko.hatenablog.com/entry/2016/09/22/220814\n",
    "- https://qiita.com/katsu1110/items/a1c3185fec39e5629bcb\n",
    "- https://blog.amedama.jp/entry/2019/01/29/235642\n",
    "- https://qiita.com/aaatsushi_bb/items/0b605c0f27493f005c88\n",
    "- http://smrmkt.hatenablog.jp/entry/2015/04/28/210039\n",
    "- https://qiita.com/msrks/items/e3e958c04a5167575c41\n",
    "- https://yag.xyz/blog/2015/08/08/xgboost-python/\n",
    "- http://wolfin.hatenablog.com/entry/2018/02/08/092124"
   ]
  },
  {
   "cell_type": "code",
   "execution_count": 4,
   "metadata": {},
   "outputs": [],
   "source": [
    "from pyspark.sql import SparkSession\n",
    "\n",
    "spark = SparkSession.builder.enableHiveSupport().getOrCreate()"
   ]
  },
  {
   "cell_type": "code",
   "execution_count": 1,
   "metadata": {},
   "outputs": [],
   "source": [
    "import numpy as np\n",
    "import dask.dataframe as dd\n",
    "import seaborn as sns\n",
    "from tensorflow import keras"
   ]
  },
  {
   "cell_type": "code",
   "execution_count": 11,
   "metadata": {},
   "outputs": [],
   "source": [
    "import xgboost as xgb\n",
    "import lightgbm as lgb"
   ]
  },
  {
   "cell_type": "code",
   "execution_count": 123,
   "metadata": {},
   "outputs": [],
   "source": [
    "from sklearn.model_selection import GridSearchCV\n",
    "from sklearn.datasets import load_boston\n",
    "from sklearn.metrics import mean_squared_error\n",
    "from sklearn.metrics import mean_absolute_error\n",
    "from sklearn.metrics import r2_score\n",
    "from sklearn.pipeline import Pipeline\n",
    "from sklearn.model_selection import train_test_split\n",
    "from sklearn.model_selection import cross_val_predict, cross_val_score, cross_validate\n",
    "from sklearn import metrics\n",
    "from sklearn.pipeline import make_pipeline\n",
    "from sklearn.preprocessing import OneHotEncoder"
   ]
  },
  {
   "cell_type": "code",
   "execution_count": 63,
   "metadata": {},
   "outputs": [],
   "source": [
    "from sklearn.impute import SimpleImputer"
   ]
  },
  {
   "cell_type": "code",
   "execution_count": 16,
   "metadata": {},
   "outputs": [],
   "source": [
    "import umap"
   ]
  },
  {
   "cell_type": "code",
   "execution_count": null,
   "metadata": {},
   "outputs": [],
   "source": []
  },
  {
   "cell_type": "markdown",
   "metadata": {},
   "source": [
    "- mpgのテストデータを使ってみる"
   ]
  },
  {
   "cell_type": "code",
   "execution_count": 2,
   "metadata": {},
   "outputs": [
    {
     "name": "stdout",
     "output_type": "stream",
     "text": [
      "Downloading data from https://archive.ics.uci.edu/ml/machine-learning-databases/auto-mpg/auto-mpg.data\n",
      "32768/30286 [================================] - 0s 4us/step\n"
     ]
    },
    {
     "data": {
      "text/plain": [
       "'/home/jovyan/.keras/datasets/auto-mpg.data'"
      ]
     },
     "execution_count": 2,
     "metadata": {},
     "output_type": "execute_result"
    }
   ],
   "source": [
    "dataset_path = keras.utils.get_file(\"auto-mpg.data\", \"https://archive.ics.uci.edu/ml/machine-learning-databases/auto-mpg/auto-mpg.data\")\n",
    "dataset_path"
   ]
  },
  {
   "cell_type": "code",
   "execution_count": 3,
   "metadata": {},
   "outputs": [
    {
     "data": {
      "text/html": [
       "<div>\n",
       "<style scoped>\n",
       "    .dataframe tbody tr th:only-of-type {\n",
       "        vertical-align: middle;\n",
       "    }\n",
       "\n",
       "    .dataframe tbody tr th {\n",
       "        vertical-align: top;\n",
       "    }\n",
       "\n",
       "    .dataframe thead th {\n",
       "        text-align: right;\n",
       "    }\n",
       "</style>\n",
       "<table border=\"1\" class=\"dataframe\">\n",
       "  <thead>\n",
       "    <tr style=\"text-align: right;\">\n",
       "      <th></th>\n",
       "      <th>MPG</th>\n",
       "      <th>Cylinders</th>\n",
       "      <th>Displacement</th>\n",
       "      <th>Horsepower</th>\n",
       "      <th>Weight</th>\n",
       "      <th>Acceleration</th>\n",
       "      <th>Model Year</th>\n",
       "      <th>Origin</th>\n",
       "    </tr>\n",
       "  </thead>\n",
       "  <tbody>\n",
       "    <tr>\n",
       "      <th>393</th>\n",
       "      <td>27.0</td>\n",
       "      <td>4</td>\n",
       "      <td>140.0</td>\n",
       "      <td>86.0</td>\n",
       "      <td>2790.0</td>\n",
       "      <td>15.6</td>\n",
       "      <td>82</td>\n",
       "      <td>1</td>\n",
       "    </tr>\n",
       "    <tr>\n",
       "      <th>394</th>\n",
       "      <td>44.0</td>\n",
       "      <td>4</td>\n",
       "      <td>97.0</td>\n",
       "      <td>52.0</td>\n",
       "      <td>2130.0</td>\n",
       "      <td>24.6</td>\n",
       "      <td>82</td>\n",
       "      <td>2</td>\n",
       "    </tr>\n",
       "    <tr>\n",
       "      <th>395</th>\n",
       "      <td>32.0</td>\n",
       "      <td>4</td>\n",
       "      <td>135.0</td>\n",
       "      <td>84.0</td>\n",
       "      <td>2295.0</td>\n",
       "      <td>11.6</td>\n",
       "      <td>82</td>\n",
       "      <td>1</td>\n",
       "    </tr>\n",
       "    <tr>\n",
       "      <th>396</th>\n",
       "      <td>28.0</td>\n",
       "      <td>4</td>\n",
       "      <td>120.0</td>\n",
       "      <td>79.0</td>\n",
       "      <td>2625.0</td>\n",
       "      <td>18.6</td>\n",
       "      <td>82</td>\n",
       "      <td>1</td>\n",
       "    </tr>\n",
       "    <tr>\n",
       "      <th>397</th>\n",
       "      <td>31.0</td>\n",
       "      <td>4</td>\n",
       "      <td>119.0</td>\n",
       "      <td>82.0</td>\n",
       "      <td>2720.0</td>\n",
       "      <td>19.4</td>\n",
       "      <td>82</td>\n",
       "      <td>1</td>\n",
       "    </tr>\n",
       "  </tbody>\n",
       "</table>\n",
       "</div>"
      ],
      "text/plain": [
       "      MPG  Cylinders  Displacement  Horsepower  Weight  Acceleration  \\\n",
       "393  27.0          4         140.0        86.0  2790.0          15.6   \n",
       "394  44.0          4          97.0        52.0  2130.0          24.6   \n",
       "395  32.0          4         135.0        84.0  2295.0          11.6   \n",
       "396  28.0          4         120.0        79.0  2625.0          18.6   \n",
       "397  31.0          4         119.0        82.0  2720.0          19.4   \n",
       "\n",
       "     Model Year  Origin  \n",
       "393          82       1  \n",
       "394          82       2  \n",
       "395          82       1  \n",
       "396          82       1  \n",
       "397          82       1  "
      ]
     },
     "execution_count": 3,
     "metadata": {},
     "output_type": "execute_result"
    }
   ],
   "source": [
    "column_names = ['MPG','Cylinders','Displacement','Horsepower','Weight',\n",
    "                'Acceleration', 'Model Year', 'Origin'] \n",
    "raw_dataset = pd.read_csv(dataset_path, names=column_names,\n",
    "                      na_values = \"?\", comment='\\t',\n",
    "                      sep=\" \", skipinitialspace=True)\n",
    "\n",
    "dataset = raw_dataset.copy()\n",
    "dataset.tail()\n"
   ]
  },
  {
   "cell_type": "code",
   "execution_count": 9,
   "metadata": {},
   "outputs": [
    {
     "name": "stdout",
     "output_type": "stream",
     "text": [
      "+----+---------+------------+----------+------+------------+----------+------+\n",
      "| MPG|Cylinders|Displacement|Horsepower|Weight|Acceleration|Model_Year|Origin|\n",
      "+----+---------+------------+----------+------+------------+----------+------+\n",
      "|18.0|        8|       307.0|     130.0|3504.0|        12.0|        70|     1|\n",
      "|15.0|        8|       350.0|     165.0|3693.0|        11.5|        70|     1|\n",
      "|18.0|        8|       318.0|     150.0|3436.0|        11.0|        70|     1|\n",
      "|16.0|        8|       304.0|     150.0|3433.0|        12.0|        70|     1|\n",
      "|17.0|        8|       302.0|     140.0|3449.0|        10.5|        70|     1|\n",
      "|15.0|        8|       429.0|     198.0|4341.0|        10.0|        70|     1|\n",
      "|14.0|        8|       454.0|     220.0|4354.0|         9.0|        70|     1|\n",
      "|14.0|        8|       440.0|     215.0|4312.0|         8.5|        70|     1|\n",
      "|14.0|        8|       455.0|     225.0|4425.0|        10.0|        70|     1|\n",
      "|15.0|        8|       390.0|     190.0|3850.0|         8.5|        70|     1|\n",
      "|15.0|        8|       383.0|     170.0|3563.0|        10.0|        70|     1|\n",
      "|14.0|        8|       340.0|     160.0|3609.0|         8.0|        70|     1|\n",
      "|15.0|        8|       400.0|     150.0|3761.0|         9.5|        70|     1|\n",
      "|14.0|        8|       455.0|     225.0|3086.0|        10.0|        70|     1|\n",
      "|24.0|        4|       113.0|      95.0|2372.0|        15.0|        70|     3|\n",
      "|22.0|        6|       198.0|      95.0|2833.0|        15.5|        70|     1|\n",
      "|18.0|        6|       199.0|      97.0|2774.0|        15.5|        70|     1|\n",
      "|21.0|        6|       200.0|      85.0|2587.0|        16.0|        70|     1|\n",
      "|27.0|        4|        97.0|      88.0|2130.0|        14.5|        70|     3|\n",
      "|26.0|        4|        97.0|      46.0|1835.0|        20.5|        70|     2|\n",
      "+----+---------+------------+----------+------+------------+----------+------+\n",
      "only showing top 20 rows\n",
      "\n"
     ]
    }
   ],
   "source": [
    "df_mpg = spark.createDataFrame(dataset.rename(columns={\"Model Year\":\"Model_Year\"}))\n",
    "df_mpg.show()"
   ]
  },
  {
   "cell_type": "code",
   "execution_count": 10,
   "metadata": {},
   "outputs": [
    {
     "name": "stdout",
     "output_type": "stream",
     "text": [
      "CPU times: user 3.1 ms, sys: 574 µs, total: 3.68 ms\n",
      "Wall time: 1.25 s\n"
     ]
    }
   ],
   "source": [
    "%%time\n",
    "df_mpg.write.saveAsTable(\"mpg\", format=\"orc\", compression=\"zlib\", path=\"/home/jovyan/work/hive-db/external/tf_testdata/mpg\")"
   ]
  },
  {
   "cell_type": "code",
   "execution_count": 29,
   "metadata": {},
   "outputs": [],
   "source": [
    "pdf_mpg = df_mpg.toPandas()"
   ]
  },
  {
   "cell_type": "markdown",
   "metadata": {},
   "source": [
    "- make data"
   ]
  },
  {
   "cell_type": "code",
   "execution_count": 52,
   "metadata": {},
   "outputs": [],
   "source": [
    "pdf_mpg_oneHot = pd.get_dummies(pdf_mpg, columns=['Origin'], drop_first=True)"
   ]
  },
  {
   "cell_type": "code",
   "execution_count": 56,
   "metadata": {},
   "outputs": [],
   "source": [
    "y = pdf_mpg_oneHot.MPG.values\n",
    "X = pdf_mpg_oneHot.drop(columns=[\"MPG\"]).values\n",
    "\n",
    "X_train, X_test, y_train, y_test = train_test_split(X, y, test_size=0.2, random_state=3)"
   ]
  },
  {
   "cell_type": "code",
   "execution_count": null,
   "metadata": {},
   "outputs": [],
   "source": []
  },
  {
   "cell_type": "code",
   "execution_count": 58,
   "metadata": {},
   "outputs": [],
   "source": [
    "xgb_reg = xgb.XGBRegressor()"
   ]
  },
  {
   "cell_type": "code",
   "execution_count": 60,
   "metadata": {},
   "outputs": [
    {
     "ename": "AttributeError",
     "evalue": "module 'xgboost' has no attribute 'fit'",
     "output_type": "error",
     "traceback": [
      "\u001b[0;31m---------------------------------------------------------------------------\u001b[0m",
      "\u001b[0;31mAttributeError\u001b[0m                            Traceback (most recent call last)",
      "\u001b[0;32m<ipython-input-60-230fd53560ff>\u001b[0m in \u001b[0;36m<module>\u001b[0;34m\u001b[0m\n\u001b[0;32m----> 1\u001b[0;31m \u001b[0mxgb\u001b[0m\u001b[0;34m.\u001b[0m\u001b[0mfit\u001b[0m\u001b[0;34m\u001b[0m\u001b[0;34m\u001b[0m\u001b[0m\n\u001b[0m",
      "\u001b[0;31mAttributeError\u001b[0m: module 'xgboost' has no attribute 'fit'"
     ]
    }
   ],
   "source": []
  },
  {
   "cell_type": "code",
   "execution_count": 61,
   "metadata": {},
   "outputs": [],
   "source": [
    "from sklearn.preprocessing import normalize"
   ]
  },
  {
   "cell_type": "code",
   "execution_count": 64,
   "metadata": {},
   "outputs": [],
   "source": [
    "imp = SimpleImputer(fill_value=-1)"
   ]
  },
  {
   "cell_type": "code",
   "execution_count": 65,
   "metadata": {},
   "outputs": [
    {
     "data": {
      "text/plain": [
       "array([[  8., 307., 130., ...,  70.,   0.,   0.],\n",
       "       [  8., 350., 165., ...,  70.,   0.,   0.],\n",
       "       [  8., 318., 150., ...,  70.,   0.,   0.],\n",
       "       ...,\n",
       "       [  4., 135.,  84., ...,  82.,   0.,   0.],\n",
       "       [  4., 120.,  79., ...,  82.,   0.,   0.],\n",
       "       [  4., 119.,  82., ...,  82.,   0.,   0.]])"
      ]
     },
     "execution_count": 65,
     "metadata": {},
     "output_type": "execute_result"
    }
   ],
   "source": [
    "imp.fit_transform(X)"
   ]
  },
  {
   "cell_type": "markdown",
   "metadata": {},
   "source": [
    "- imputerを使うのはPipelineのテスト用で実質的な意味は無い"
   ]
  },
  {
   "cell_type": "code",
   "execution_count": 86,
   "metadata": {},
   "outputs": [],
   "source": [
    "eval_results = {}\n",
    "\n",
    "pl_xgb = Pipeline([\n",
    "    (\"IMP\", SimpleImputer(fill_value=-99999)),\n",
    "    (\"XGB\", xgb.XGBRegressor(early_stopping_rounds=20,\n",
    "                             objective=\"reg:squarederror\",\n",
    "                             eval_metric=\"rmse\",\n",
    "                             callbacks=[xgb.callback.record_evaluation(eval_result=eval_results),],\n",
    "                             random_state=0))\n",
    "])"
   ]
  },
  {
   "cell_type": "code",
   "execution_count": null,
   "metadata": {},
   "outputs": [],
   "source": [
    "params_grid = {'max_depth': [3, 5, 10], 'learning_rate': [0.05, 0.1], 'max_depth': [3, 5, 10, 100], 'subsample': [0.8, 0.85, 0.9, 0.95], 'colsample_bytree': [0.5, 1.0]}"
   ]
  },
  {
   "cell_type": "code",
   "execution_count": null,
   "metadata": {},
   "outputs": [],
   "source": [
    "grid_search = GridSearchCV"
   ]
  },
  {
   "cell_type": "code",
   "execution_count": 74,
   "metadata": {},
   "outputs": [
    {
     "data": {
      "text/plain": [
       "XGBRegressor(base_score=0.5, booster='gbtree', colsample_bylevel=1,\n",
       "             colsample_bynode=1, colsample_bytree=1, early_stopping_rounds=10,\n",
       "             gamma=0, importance_type='gain', learning_rate=0.1,\n",
       "             max_delta_step=0, max_depth=3, min_child_weight=1, missing=None,\n",
       "             n_estimators=100, n_jobs=1, nthread=None, num_boost_round=1000,\n",
       "             objective='reg:linear', random_state=0, reg_alpha=0, reg_lambda=1,\n",
       "             scale_pos_weight=1, seed=None, silent=None, subsample=1,\n",
       "             verbosity=1)"
      ]
     },
     "execution_count": 74,
     "metadata": {},
     "output_type": "execute_result"
    }
   ],
   "source": [
    "xgb.XGBRegressor(num_boost_round=1000, early_stopping_rounds=10)"
   ]
  },
  {
   "cell_type": "code",
   "execution_count": 75,
   "metadata": {},
   "outputs": [
    {
     "data": {
      "text/plain": [
       "<function xgboost.callback.record_evaluation(eval_result)>"
      ]
     },
     "execution_count": 75,
     "metadata": {},
     "output_type": "execute_result"
    }
   ],
   "source": [
    "xgb.callback.record_evaluation"
   ]
  },
  {
   "cell_type": "code",
   "execution_count": 87,
   "metadata": {},
   "outputs": [
    {
     "data": {
      "text/plain": [
       "Pipeline(memory=None,\n",
       "         steps=[('IMP',\n",
       "                 SimpleImputer(add_indicator=False, copy=True,\n",
       "                               fill_value=-99999, missing_values=nan,\n",
       "                               strategy='mean', verbose=0)),\n",
       "                ('XGB',\n",
       "                 XGBRegressor(base_score=0.5, booster='gbtree',\n",
       "                              callbacks=[<function record_evaluation.<locals>.callback at 0x7f6e3c38f290>],\n",
       "                              colsample_bylevel=1, colsample_bynode=1,\n",
       "                              colsample_bytree=1, early_stopping_rounds=20,\n",
       "                              eval_metric='rmse', gamma=0,\n",
       "                              importance_type='gain', learning_rate=0.1,\n",
       "                              max_delta_step=0, max_depth=3, min_child_weight=1,\n",
       "                              missing=None, n_estimators=100, n_jobs=1,\n",
       "                              nthread=None, objective='reg:squarederror',\n",
       "                              random_state=0, reg_alpha=0, reg_lambda=1,\n",
       "                              scale_pos_weight=1, seed=None, silent=None,\n",
       "                              subsample=1, verbosity=1))],\n",
       "         verbose=False)"
      ]
     },
     "execution_count": 87,
     "metadata": {},
     "output_type": "execute_result"
    }
   ],
   "source": [
    "pl_xgb.fit(X_train, y_train)"
   ]
  },
  {
   "cell_type": "code",
   "execution_count": 88,
   "metadata": {},
   "outputs": [
    {
     "data": {
      "text/plain": [
       "{}"
      ]
     },
     "execution_count": 88,
     "metadata": {},
     "output_type": "execute_result"
    }
   ],
   "source": [
    "eval_results"
   ]
  },
  {
   "cell_type": "code",
   "execution_count": 85,
   "metadata": {},
   "outputs": [
    {
     "ename": "AttributeError",
     "evalue": "'XGBRegressor' object has no attribute 'evals_result_'",
     "output_type": "error",
     "traceback": [
      "\u001b[0;31m---------------------------------------------------------------------------\u001b[0m",
      "\u001b[0;31mAttributeError\u001b[0m                            Traceback (most recent call last)",
      "\u001b[0;32m<ipython-input-85-ccf06bbe4400>\u001b[0m in \u001b[0;36m<module>\u001b[0;34m\u001b[0m\n\u001b[0;32m----> 1\u001b[0;31m \u001b[0mpl_xgb\u001b[0m\u001b[0;34m.\u001b[0m\u001b[0msteps\u001b[0m\u001b[0;34m[\u001b[0m\u001b[0;36m1\u001b[0m\u001b[0;34m]\u001b[0m\u001b[0;34m[\u001b[0m\u001b[0;36m1\u001b[0m\u001b[0;34m]\u001b[0m\u001b[0;34m.\u001b[0m\u001b[0mevals_result\u001b[0m\u001b[0;34m(\u001b[0m\u001b[0;34m)\u001b[0m\u001b[0;34m\u001b[0m\u001b[0;34m\u001b[0m\u001b[0m\n\u001b[0m",
      "\u001b[0;32m/opt/conda/lib/python3.7/site-packages/xgboost/sklearn.py\u001b[0m in \u001b[0;36mevals_result\u001b[0;34m(self)\u001b[0m\n\u001b[1;32m    514\u001b[0m             'validation_1': {'logloss': ['0.41965', '0.17686']}}\n\u001b[1;32m    515\u001b[0m         \"\"\"\n\u001b[0;32m--> 516\u001b[0;31m         \u001b[0;32mif\u001b[0m \u001b[0mself\u001b[0m\u001b[0;34m.\u001b[0m\u001b[0mevals_result_\u001b[0m\u001b[0;34m:\u001b[0m\u001b[0;34m\u001b[0m\u001b[0;34m\u001b[0m\u001b[0m\n\u001b[0m\u001b[1;32m    517\u001b[0m             \u001b[0mevals_result\u001b[0m \u001b[0;34m=\u001b[0m \u001b[0mself\u001b[0m\u001b[0;34m.\u001b[0m\u001b[0mevals_result_\u001b[0m\u001b[0;34m\u001b[0m\u001b[0;34m\u001b[0m\u001b[0m\n\u001b[1;32m    518\u001b[0m         \u001b[0;32melse\u001b[0m\u001b[0;34m:\u001b[0m\u001b[0;34m\u001b[0m\u001b[0;34m\u001b[0m\u001b[0m\n",
      "\u001b[0;31mAttributeError\u001b[0m: 'XGBRegressor' object has no attribute 'evals_result_'"
     ]
    }
   ],
   "source": [
    "pl_xgb.steps[1][1].evals_result()"
   ]
  },
  {
   "cell_type": "code",
   "execution_count": 101,
   "metadata": {},
   "outputs": [],
   "source": [
    "eval_results={}\n",
    "model_xgb = xgb.XGBRegressor(early_stopping_rounds=20,\n",
    "                             objective=\"reg:squarederror\",\n",
    "                             #eval_metric=\"rmse\",\n",
    "                             #eval_set=[(X_train, y_train), (X_test, y_test)],\n",
    "                             callbacks=[xgb.callback.record_evaluation(eval_result=eval_results),],\n",
    "                             random_state=0)"
   ]
  },
  {
   "cell_type": "code",
   "execution_count": 112,
   "metadata": {},
   "outputs": [
    {
     "name": "stdout",
     "output_type": "stream",
     "text": [
      "[0]\tvalidation_0-rmse:21.8118\tvalidation_0-mae:20.5916\tvalidation_1-rmse:22.5818\tvalidation_1-mae:21.3623\n",
      "[1]\tvalidation_0-rmse:19.7243\tvalidation_0-mae:18.565\tvalidation_1-rmse:20.4369\tvalidation_1-mae:19.2547\n",
      "[2]\tvalidation_0-rmse:17.8449\tvalidation_0-mae:16.746\tvalidation_1-rmse:18.497\tvalidation_1-mae:17.3613\n",
      "[3]\tvalidation_0-rmse:16.147\tvalidation_0-mae:15.1091\tvalidation_1-rmse:16.7731\tvalidation_1-mae:15.6793\n",
      "[4]\tvalidation_0-rmse:14.6192\tvalidation_0-mae:13.6342\tvalidation_1-rmse:15.2189\tvalidation_1-mae:14.1603\n",
      "[5]\tvalidation_0-rmse:13.2458\tvalidation_0-mae:12.2962\tvalidation_1-rmse:13.7888\tvalidation_1-mae:12.7381\n",
      "[6]\tvalidation_0-rmse:12.0082\tvalidation_0-mae:11.0965\tvalidation_1-rmse:12.5248\tvalidation_1-mae:11.4884\n",
      "[7]\tvalidation_0-rmse:10.9014\tvalidation_0-mae:10.0091\tvalidation_1-rmse:11.4168\tvalidation_1-mae:10.3742\n",
      "[8]\tvalidation_0-rmse:9.90081\tvalidation_0-mae:9.03015\tvalidation_1-rmse:10.414\tvalidation_1-mae:9.36821\n",
      "[9]\tvalidation_0-rmse:8.99963\tvalidation_0-mae:8.14684\tvalidation_1-rmse:9.4966\tvalidation_1-mae:8.43997\n",
      "[10]\tvalidation_0-rmse:8.19275\tvalidation_0-mae:7.34954\tvalidation_1-rmse:8.67509\tvalidation_1-mae:7.60152\n",
      "[11]\tvalidation_0-rmse:7.46723\tvalidation_0-mae:6.63023\tvalidation_1-rmse:7.94658\tvalidation_1-mae:6.84368\n",
      "[12]\tvalidation_0-rmse:6.81832\tvalidation_0-mae:5.98209\tvalidation_1-rmse:7.30159\tvalidation_1-mae:6.17936\n",
      "[13]\tvalidation_0-rmse:6.23791\tvalidation_0-mae:5.39871\tvalidation_1-rmse:6.76348\tvalidation_1-mae:5.60626\n",
      "[14]\tvalidation_0-rmse:5.71994\tvalidation_0-mae:4.87477\tvalidation_1-rmse:6.2694\tvalidation_1-mae:5.11235\n",
      "[15]\tvalidation_0-rmse:5.25598\tvalidation_0-mae:4.40657\tvalidation_1-rmse:5.82541\tvalidation_1-mae:4.66992\n",
      "[16]\tvalidation_0-rmse:4.8442\tvalidation_0-mae:3.99805\tvalidation_1-rmse:5.44386\tvalidation_1-mae:4.28327\n",
      "[17]\tvalidation_0-rmse:4.47457\tvalidation_0-mae:3.62726\tvalidation_1-rmse:5.09669\tvalidation_1-mae:3.95852\n",
      "[18]\tvalidation_0-rmse:4.14452\tvalidation_0-mae:3.3024\tvalidation_1-rmse:4.82168\tvalidation_1-mae:3.71171\n",
      "[19]\tvalidation_0-rmse:3.85401\tvalidation_0-mae:3.02276\tvalidation_1-rmse:4.58109\tvalidation_1-mae:3.50852\n",
      "[20]\tvalidation_0-rmse:3.60102\tvalidation_0-mae:2.77882\tvalidation_1-rmse:4.36261\tvalidation_1-mae:3.32464\n",
      "[21]\tvalidation_0-rmse:3.37737\tvalidation_0-mae:2.5653\tvalidation_1-rmse:4.1625\tvalidation_1-mae:3.16426\n",
      "[22]\tvalidation_0-rmse:3.17859\tvalidation_0-mae:2.38258\tvalidation_1-rmse:3.99423\tvalidation_1-mae:3.01738\n",
      "[23]\tvalidation_0-rmse:3.00759\tvalidation_0-mae:2.22296\tvalidation_1-rmse:3.85325\tvalidation_1-mae:2.89511\n",
      "[24]\tvalidation_0-rmse:2.85327\tvalidation_0-mae:2.08691\tvalidation_1-rmse:3.71613\tvalidation_1-mae:2.78185\n",
      "[25]\tvalidation_0-rmse:2.72259\tvalidation_0-mae:1.9733\tvalidation_1-rmse:3.62983\tvalidation_1-mae:2.69998\n",
      "[26]\tvalidation_0-rmse:2.59374\tvalidation_0-mae:1.86609\tvalidation_1-rmse:3.57146\tvalidation_1-mae:2.65089\n",
      "[27]\tvalidation_0-rmse:2.49468\tvalidation_0-mae:1.77999\tvalidation_1-rmse:3.50248\tvalidation_1-mae:2.59663\n",
      "[28]\tvalidation_0-rmse:2.39322\tvalidation_0-mae:1.7041\tvalidation_1-rmse:3.46242\tvalidation_1-mae:2.57689\n",
      "[29]\tvalidation_0-rmse:2.31511\tvalidation_0-mae:1.63739\tvalidation_1-rmse:3.4044\tvalidation_1-mae:2.53254\n",
      "[30]\tvalidation_0-rmse:2.24901\tvalidation_0-mae:1.58765\tvalidation_1-rmse:3.36699\tvalidation_1-mae:2.50357\n",
      "[31]\tvalidation_0-rmse:2.18247\tvalidation_0-mae:1.54181\tvalidation_1-rmse:3.32107\tvalidation_1-mae:2.46722\n",
      "[32]\tvalidation_0-rmse:2.12858\tvalidation_0-mae:1.50118\tvalidation_1-rmse:3.27539\tvalidation_1-mae:2.43111\n",
      "[33]\tvalidation_0-rmse:2.07458\tvalidation_0-mae:1.46905\tvalidation_1-rmse:3.26081\tvalidation_1-mae:2.41341\n",
      "[34]\tvalidation_0-rmse:2.02826\tvalidation_0-mae:1.43664\tvalidation_1-rmse:3.23929\tvalidation_1-mae:2.40009\n",
      "[35]\tvalidation_0-rmse:1.99131\tvalidation_0-mae:1.41451\tvalidation_1-rmse:3.21873\tvalidation_1-mae:2.38229\n",
      "[36]\tvalidation_0-rmse:1.95921\tvalidation_0-mae:1.39501\tvalidation_1-rmse:3.20785\tvalidation_1-mae:2.36939\n",
      "[37]\tvalidation_0-rmse:1.93203\tvalidation_0-mae:1.37719\tvalidation_1-rmse:3.20464\tvalidation_1-mae:2.36058\n",
      "[38]\tvalidation_0-rmse:1.90496\tvalidation_0-mae:1.36167\tvalidation_1-rmse:3.19782\tvalidation_1-mae:2.34936\n",
      "[39]\tvalidation_0-rmse:1.88381\tvalidation_0-mae:1.34861\tvalidation_1-rmse:3.19403\tvalidation_1-mae:2.34535\n",
      "[40]\tvalidation_0-rmse:1.85204\tvalidation_0-mae:1.33089\tvalidation_1-rmse:3.17973\tvalidation_1-mae:2.33054\n",
      "[41]\tvalidation_0-rmse:1.82867\tvalidation_0-mae:1.31669\tvalidation_1-rmse:3.15878\tvalidation_1-mae:2.3097\n",
      "[42]\tvalidation_0-rmse:1.81275\tvalidation_0-mae:1.30662\tvalidation_1-rmse:3.16013\tvalidation_1-mae:2.30507\n",
      "[43]\tvalidation_0-rmse:1.79565\tvalidation_0-mae:1.2925\tvalidation_1-rmse:3.14794\tvalidation_1-mae:2.29171\n",
      "[44]\tvalidation_0-rmse:1.77295\tvalidation_0-mae:1.28096\tvalidation_1-rmse:3.13764\tvalidation_1-mae:2.27922\n",
      "[45]\tvalidation_0-rmse:1.76112\tvalidation_0-mae:1.27337\tvalidation_1-rmse:3.13734\tvalidation_1-mae:2.28201\n",
      "[46]\tvalidation_0-rmse:1.74687\tvalidation_0-mae:1.2646\tvalidation_1-rmse:3.12509\tvalidation_1-mae:2.27726\n",
      "[47]\tvalidation_0-rmse:1.72491\tvalidation_0-mae:1.25571\tvalidation_1-rmse:3.129\tvalidation_1-mae:2.28396\n",
      "[48]\tvalidation_0-rmse:1.71375\tvalidation_0-mae:1.24858\tvalidation_1-rmse:3.12903\tvalidation_1-mae:2.28656\n",
      "[49]\tvalidation_0-rmse:1.69732\tvalidation_0-mae:1.23831\tvalidation_1-rmse:3.11797\tvalidation_1-mae:2.27757\n",
      "[50]\tvalidation_0-rmse:1.6878\tvalidation_0-mae:1.22897\tvalidation_1-rmse:3.11965\tvalidation_1-mae:2.27519\n",
      "[51]\tvalidation_0-rmse:1.67718\tvalidation_0-mae:1.21848\tvalidation_1-rmse:3.12531\tvalidation_1-mae:2.28165\n",
      "[52]\tvalidation_0-rmse:1.66105\tvalidation_0-mae:1.21044\tvalidation_1-rmse:3.12072\tvalidation_1-mae:2.28409\n",
      "[53]\tvalidation_0-rmse:1.65192\tvalidation_0-mae:1.20634\tvalidation_1-rmse:3.1215\tvalidation_1-mae:2.28338\n",
      "[54]\tvalidation_0-rmse:1.63817\tvalidation_0-mae:1.19932\tvalidation_1-rmse:3.11879\tvalidation_1-mae:2.2858\n",
      "[55]\tvalidation_0-rmse:1.6276\tvalidation_0-mae:1.19461\tvalidation_1-rmse:3.12022\tvalidation_1-mae:2.28878\n",
      "[56]\tvalidation_0-rmse:1.61597\tvalidation_0-mae:1.18845\tvalidation_1-rmse:3.11929\tvalidation_1-mae:2.29134\n",
      "[57]\tvalidation_0-rmse:1.60863\tvalidation_0-mae:1.18516\tvalidation_1-rmse:3.11947\tvalidation_1-mae:2.2941\n",
      "[58]\tvalidation_0-rmse:1.59655\tvalidation_0-mae:1.17798\tvalidation_1-rmse:3.1189\tvalidation_1-mae:2.29202\n",
      "[59]\tvalidation_0-rmse:1.58894\tvalidation_0-mae:1.16955\tvalidation_1-rmse:3.12017\tvalidation_1-mae:2.29459\n",
      "[60]\tvalidation_0-rmse:1.57889\tvalidation_0-mae:1.16371\tvalidation_1-rmse:3.12356\tvalidation_1-mae:2.30248\n",
      "[61]\tvalidation_0-rmse:1.56769\tvalidation_0-mae:1.15545\tvalidation_1-rmse:3.11533\tvalidation_1-mae:2.29446\n",
      "[62]\tvalidation_0-rmse:1.55734\tvalidation_0-mae:1.14975\tvalidation_1-rmse:3.11399\tvalidation_1-mae:2.29024\n",
      "[63]\tvalidation_0-rmse:1.5489\tvalidation_0-mae:1.14548\tvalidation_1-rmse:3.11458\tvalidation_1-mae:2.29113\n",
      "[64]\tvalidation_0-rmse:1.53269\tvalidation_0-mae:1.13404\tvalidation_1-rmse:3.10789\tvalidation_1-mae:2.2839\n",
      "[65]\tvalidation_0-rmse:1.52589\tvalidation_0-mae:1.13084\tvalidation_1-rmse:3.1086\tvalidation_1-mae:2.28649\n",
      "[66]\tvalidation_0-rmse:1.51873\tvalidation_0-mae:1.12567\tvalidation_1-rmse:3.11344\tvalidation_1-mae:2.29341\n",
      "[67]\tvalidation_0-rmse:1.50514\tvalidation_0-mae:1.11637\tvalidation_1-rmse:3.10796\tvalidation_1-mae:2.28975\n",
      "[68]\tvalidation_0-rmse:1.49616\tvalidation_0-mae:1.10869\tvalidation_1-rmse:3.10259\tvalidation_1-mae:2.28358\n",
      "[69]\tvalidation_0-rmse:1.48817\tvalidation_0-mae:1.10344\tvalidation_1-rmse:3.10836\tvalidation_1-mae:2.29181\n",
      "[70]\tvalidation_0-rmse:1.48386\tvalidation_0-mae:1.09805\tvalidation_1-rmse:3.10818\tvalidation_1-mae:2.29334\n",
      "[71]\tvalidation_0-rmse:1.47775\tvalidation_0-mae:1.09403\tvalidation_1-rmse:3.11279\tvalidation_1-mae:2.29576\n",
      "[72]\tvalidation_0-rmse:1.47341\tvalidation_0-mae:1.08909\tvalidation_1-rmse:3.11482\tvalidation_1-mae:2.29881\n",
      "[73]\tvalidation_0-rmse:1.46805\tvalidation_0-mae:1.08534\tvalidation_1-rmse:3.12052\tvalidation_1-mae:2.30299\n",
      "[74]\tvalidation_0-rmse:1.46454\tvalidation_0-mae:1.08282\tvalidation_1-rmse:3.1194\tvalidation_1-mae:2.29975\n",
      "[75]\tvalidation_0-rmse:1.45812\tvalidation_0-mae:1.07866\tvalidation_1-rmse:3.12231\tvalidation_1-mae:2.30581\n",
      "[76]\tvalidation_0-rmse:1.45319\tvalidation_0-mae:1.07656\tvalidation_1-rmse:3.12403\tvalidation_1-mae:2.30697\n",
      "[77]\tvalidation_0-rmse:1.43975\tvalidation_0-mae:1.06637\tvalidation_1-rmse:3.11666\tvalidation_1-mae:2.30139\n",
      "[78]\tvalidation_0-rmse:1.43504\tvalidation_0-mae:1.0642\tvalidation_1-rmse:3.12196\tvalidation_1-mae:2.30502\n",
      "[79]\tvalidation_0-rmse:1.432\tvalidation_0-mae:1.06064\tvalidation_1-rmse:3.1225\tvalidation_1-mae:2.3064\n",
      "[80]\tvalidation_0-rmse:1.42621\tvalidation_0-mae:1.05711\tvalidation_1-rmse:3.12202\tvalidation_1-mae:2.30912\n",
      "[81]\tvalidation_0-rmse:1.42352\tvalidation_0-mae:1.05502\tvalidation_1-rmse:3.12126\tvalidation_1-mae:2.30755\n",
      "[82]\tvalidation_0-rmse:1.41523\tvalidation_0-mae:1.04983\tvalidation_1-rmse:3.1179\tvalidation_1-mae:2.30474\n",
      "[83]\tvalidation_0-rmse:1.40543\tvalidation_0-mae:1.04307\tvalidation_1-rmse:3.11579\tvalidation_1-mae:2.30302\n",
      "[84]\tvalidation_0-rmse:1.4013\tvalidation_0-mae:1.04103\tvalidation_1-rmse:3.11856\tvalidation_1-mae:2.30275\n",
      "[85]\tvalidation_0-rmse:1.39873\tvalidation_0-mae:1.03854\tvalidation_1-rmse:3.1191\tvalidation_1-mae:2.3027\n",
      "[86]\tvalidation_0-rmse:1.39473\tvalidation_0-mae:1.03374\tvalidation_1-rmse:3.1149\tvalidation_1-mae:2.30684\n",
      "[87]\tvalidation_0-rmse:1.39251\tvalidation_0-mae:1.03208\tvalidation_1-rmse:3.11433\tvalidation_1-mae:2.30601\n",
      "[88]\tvalidation_0-rmse:1.39048\tvalidation_0-mae:1.02908\tvalidation_1-rmse:3.11405\tvalidation_1-mae:2.30537\n",
      "[89]\tvalidation_0-rmse:1.38005\tvalidation_0-mae:1.02141\tvalidation_1-rmse:3.10733\tvalidation_1-mae:2.29906\n",
      "[90]\tvalidation_0-rmse:1.37627\tvalidation_0-mae:1.0193\tvalidation_1-rmse:3.11256\tvalidation_1-mae:2.30304\n",
      "[91]\tvalidation_0-rmse:1.37314\tvalidation_0-mae:1.01781\tvalidation_1-rmse:3.11583\tvalidation_1-mae:2.30503\n",
      "[92]\tvalidation_0-rmse:1.36603\tvalidation_0-mae:1.01327\tvalidation_1-rmse:3.11089\tvalidation_1-mae:2.30178\n",
      "[93]\tvalidation_0-rmse:1.35671\tvalidation_0-mae:1.0068\tvalidation_1-rmse:3.11218\tvalidation_1-mae:2.3009\n",
      "[94]\tvalidation_0-rmse:1.35346\tvalidation_0-mae:1.00474\tvalidation_1-rmse:3.11161\tvalidation_1-mae:2.29876\n",
      "[95]\tvalidation_0-rmse:1.35169\tvalidation_0-mae:1.00165\tvalidation_1-rmse:3.11089\tvalidation_1-mae:2.29808\n",
      "[96]\tvalidation_0-rmse:1.34543\tvalidation_0-mae:0.997456\tvalidation_1-rmse:3.10731\tvalidation_1-mae:2.29603\n",
      "[97]\tvalidation_0-rmse:1.3391\tvalidation_0-mae:0.993257\tvalidation_1-rmse:3.10366\tvalidation_1-mae:2.29332\n",
      "[98]\tvalidation_0-rmse:1.33148\tvalidation_0-mae:0.988285\tvalidation_1-rmse:3.10174\tvalidation_1-mae:2.29081\n",
      "[99]\tvalidation_0-rmse:1.3257\tvalidation_0-mae:0.985264\tvalidation_1-rmse:3.10246\tvalidation_1-mae:2.29168\n"
     ]
    },
    {
     "data": {
      "text/plain": [
       "XGBRegressor(base_score=0.5, booster='gbtree',\n",
       "             callbacks=[<function record_evaluation.<locals>.callback at 0x7f6e3c38f0e0>],\n",
       "             colsample_bylevel=1, colsample_bynode=1, colsample_bytree=1,\n",
       "             early_stopping_rounds=20, gamma=0, importance_type='gain',\n",
       "             learning_rate=0.1, max_delta_step=0, max_depth=3,\n",
       "             min_child_weight=1, missing=None, n_estimators=100, n_jobs=1,\n",
       "             nthread=None, objective='reg:squarederror', random_state=0,\n",
       "             reg_alpha=0, reg_lambda=1, scale_pos_weight=1, seed=None,\n",
       "             silent=None, subsample=1, verbosity=1)"
      ]
     },
     "execution_count": 112,
     "metadata": {},
     "output_type": "execute_result"
    }
   ],
   "source": [
    "model_xgb.fit(X_train, y_train, eval_metric=[\"rmse\",\"mae\"],\n",
    "                             eval_set=[(X_train, y_train), (X_test, y_test)],\n",
    "             )"
   ]
  },
  {
   "cell_type": "code",
   "execution_count": 106,
   "metadata": {},
   "outputs": [
    {
     "data": {
      "text/plain": [
       "{}"
      ]
     },
     "execution_count": 106,
     "metadata": {},
     "output_type": "execute_result"
    }
   ],
   "source": [
    "eval_results"
   ]
  },
  {
   "cell_type": "code",
   "execution_count": 113,
   "metadata": {},
   "outputs": [
    {
     "data": {
      "text/plain": [
       "{'validation_0': {'rmse': [21.811825,\n",
       "   19.724339,\n",
       "   17.844919,\n",
       "   16.146986,\n",
       "   14.619184,\n",
       "   13.24578,\n",
       "   12.008202,\n",
       "   10.901402,\n",
       "   9.900814,\n",
       "   8.999632,\n",
       "   8.19275,\n",
       "   7.467234,\n",
       "   6.818316,\n",
       "   6.237907,\n",
       "   5.719942,\n",
       "   5.255979,\n",
       "   4.844197,\n",
       "   4.474569,\n",
       "   4.144517,\n",
       "   3.854015,\n",
       "   3.601016,\n",
       "   3.377367,\n",
       "   3.178587,\n",
       "   3.00759,\n",
       "   2.853274,\n",
       "   2.722594,\n",
       "   2.593741,\n",
       "   2.494678,\n",
       "   2.393215,\n",
       "   2.315109,\n",
       "   2.249013,\n",
       "   2.182474,\n",
       "   2.128579,\n",
       "   2.074581,\n",
       "   2.028258,\n",
       "   1.991305,\n",
       "   1.959206,\n",
       "   1.932026,\n",
       "   1.904956,\n",
       "   1.883814,\n",
       "   1.852037,\n",
       "   1.828669,\n",
       "   1.812753,\n",
       "   1.795653,\n",
       "   1.772947,\n",
       "   1.761117,\n",
       "   1.746874,\n",
       "   1.724908,\n",
       "   1.713753,\n",
       "   1.697321,\n",
       "   1.687803,\n",
       "   1.677184,\n",
       "   1.661045,\n",
       "   1.651923,\n",
       "   1.638172,\n",
       "   1.627604,\n",
       "   1.615972,\n",
       "   1.608628,\n",
       "   1.596555,\n",
       "   1.588943,\n",
       "   1.578886,\n",
       "   1.567693,\n",
       "   1.557343,\n",
       "   1.548904,\n",
       "   1.532691,\n",
       "   1.525887,\n",
       "   1.518733,\n",
       "   1.505136,\n",
       "   1.496158,\n",
       "   1.488168,\n",
       "   1.483862,\n",
       "   1.477749,\n",
       "   1.473415,\n",
       "   1.46805,\n",
       "   1.464537,\n",
       "   1.458125,\n",
       "   1.453187,\n",
       "   1.439748,\n",
       "   1.435042,\n",
       "   1.431998,\n",
       "   1.426213,\n",
       "   1.423523,\n",
       "   1.415231,\n",
       "   1.405434,\n",
       "   1.401301,\n",
       "   1.398727,\n",
       "   1.394732,\n",
       "   1.392513,\n",
       "   1.390476,\n",
       "   1.380054,\n",
       "   1.376274,\n",
       "   1.373144,\n",
       "   1.36603,\n",
       "   1.356709,\n",
       "   1.353463,\n",
       "   1.351689,\n",
       "   1.345432,\n",
       "   1.339104,\n",
       "   1.331481,\n",
       "   1.325704],\n",
       "  'mae': [20.591619,\n",
       "   18.56496,\n",
       "   16.745995,\n",
       "   15.109141,\n",
       "   13.634174,\n",
       "   12.296192,\n",
       "   11.096491,\n",
       "   10.00911,\n",
       "   9.030151,\n",
       "   8.146843,\n",
       "   7.349538,\n",
       "   6.630225,\n",
       "   5.982091,\n",
       "   5.398714,\n",
       "   4.874772,\n",
       "   4.406569,\n",
       "   3.998052,\n",
       "   3.627265,\n",
       "   3.302403,\n",
       "   3.02276,\n",
       "   2.778822,\n",
       "   2.565297,\n",
       "   2.382583,\n",
       "   2.222963,\n",
       "   2.086912,\n",
       "   1.973296,\n",
       "   1.866094,\n",
       "   1.779987,\n",
       "   1.704096,\n",
       "   1.637385,\n",
       "   1.587652,\n",
       "   1.541807,\n",
       "   1.501182,\n",
       "   1.469053,\n",
       "   1.436641,\n",
       "   1.414506,\n",
       "   1.395013,\n",
       "   1.377188,\n",
       "   1.361667,\n",
       "   1.348611,\n",
       "   1.330891,\n",
       "   1.31669,\n",
       "   1.306622,\n",
       "   1.292496,\n",
       "   1.280963,\n",
       "   1.273372,\n",
       "   1.264596,\n",
       "   1.255708,\n",
       "   1.248582,\n",
       "   1.238313,\n",
       "   1.22897,\n",
       "   1.218482,\n",
       "   1.210442,\n",
       "   1.206343,\n",
       "   1.199318,\n",
       "   1.194606,\n",
       "   1.18845,\n",
       "   1.185161,\n",
       "   1.177984,\n",
       "   1.169545,\n",
       "   1.163712,\n",
       "   1.155455,\n",
       "   1.149752,\n",
       "   1.145481,\n",
       "   1.134045,\n",
       "   1.130839,\n",
       "   1.12567,\n",
       "   1.11637,\n",
       "   1.108689,\n",
       "   1.103444,\n",
       "   1.098051,\n",
       "   1.094031,\n",
       "   1.089092,\n",
       "   1.085341,\n",
       "   1.082815,\n",
       "   1.078665,\n",
       "   1.076556,\n",
       "   1.066374,\n",
       "   1.064198,\n",
       "   1.060642,\n",
       "   1.057111,\n",
       "   1.055021,\n",
       "   1.049829,\n",
       "   1.043073,\n",
       "   1.041033,\n",
       "   1.03854,\n",
       "   1.033743,\n",
       "   1.03208,\n",
       "   1.029076,\n",
       "   1.021414,\n",
       "   1.019302,\n",
       "   1.017808,\n",
       "   1.013266,\n",
       "   1.006801,\n",
       "   1.004736,\n",
       "   1.001651,\n",
       "   0.997456,\n",
       "   0.993257,\n",
       "   0.988285,\n",
       "   0.985264]},\n",
       " 'validation_1': {'rmse': [22.581757,\n",
       "   20.436949,\n",
       "   18.496956,\n",
       "   16.773054,\n",
       "   15.218933,\n",
       "   13.788788,\n",
       "   12.524833,\n",
       "   11.416828,\n",
       "   10.413971,\n",
       "   9.496604,\n",
       "   8.675092,\n",
       "   7.946577,\n",
       "   7.301585,\n",
       "   6.763483,\n",
       "   6.269403,\n",
       "   5.825407,\n",
       "   5.443859,\n",
       "   5.096686,\n",
       "   4.821677,\n",
       "   4.581093,\n",
       "   4.362609,\n",
       "   4.162499,\n",
       "   3.99423,\n",
       "   3.853248,\n",
       "   3.716126,\n",
       "   3.629833,\n",
       "   3.571464,\n",
       "   3.502478,\n",
       "   3.462415,\n",
       "   3.404395,\n",
       "   3.366992,\n",
       "   3.321069,\n",
       "   3.275388,\n",
       "   3.260808,\n",
       "   3.239291,\n",
       "   3.218733,\n",
       "   3.207853,\n",
       "   3.20464,\n",
       "   3.197823,\n",
       "   3.194034,\n",
       "   3.179729,\n",
       "   3.158777,\n",
       "   3.160133,\n",
       "   3.147939,\n",
       "   3.137644,\n",
       "   3.137337,\n",
       "   3.125087,\n",
       "   3.129004,\n",
       "   3.129029,\n",
       "   3.117972,\n",
       "   3.119655,\n",
       "   3.125309,\n",
       "   3.120718,\n",
       "   3.121499,\n",
       "   3.118789,\n",
       "   3.120219,\n",
       "   3.119294,\n",
       "   3.119473,\n",
       "   3.118904,\n",
       "   3.120172,\n",
       "   3.123559,\n",
       "   3.115331,\n",
       "   3.113994,\n",
       "   3.114578,\n",
       "   3.107893,\n",
       "   3.108599,\n",
       "   3.113443,\n",
       "   3.107962,\n",
       "   3.102587,\n",
       "   3.108359,\n",
       "   3.108181,\n",
       "   3.112791,\n",
       "   3.114816,\n",
       "   3.120523,\n",
       "   3.119405,\n",
       "   3.122315,\n",
       "   3.124026,\n",
       "   3.116663,\n",
       "   3.121964,\n",
       "   3.122499,\n",
       "   3.122024,\n",
       "   3.121258,\n",
       "   3.117899,\n",
       "   3.115795,\n",
       "   3.118561,\n",
       "   3.119103,\n",
       "   3.114895,\n",
       "   3.114334,\n",
       "   3.114047,\n",
       "   3.107335,\n",
       "   3.112561,\n",
       "   3.115828,\n",
       "   3.110891,\n",
       "   3.112178,\n",
       "   3.111612,\n",
       "   3.110893,\n",
       "   3.107314,\n",
       "   3.103656,\n",
       "   3.101741,\n",
       "   3.102464],\n",
       "  'mae': [21.362328,\n",
       "   19.254726,\n",
       "   17.361317,\n",
       "   15.679334,\n",
       "   14.160275,\n",
       "   12.738058,\n",
       "   11.48844,\n",
       "   10.374226,\n",
       "   9.368215,\n",
       "   8.439973,\n",
       "   7.601521,\n",
       "   6.84368,\n",
       "   6.17936,\n",
       "   5.606261,\n",
       "   5.112348,\n",
       "   4.669918,\n",
       "   4.283272,\n",
       "   3.958518,\n",
       "   3.711707,\n",
       "   3.508522,\n",
       "   3.32464,\n",
       "   3.164259,\n",
       "   3.017379,\n",
       "   2.895106,\n",
       "   2.781849,\n",
       "   2.699984,\n",
       "   2.650886,\n",
       "   2.596631,\n",
       "   2.576886,\n",
       "   2.532541,\n",
       "   2.503571,\n",
       "   2.467222,\n",
       "   2.43111,\n",
       "   2.413406,\n",
       "   2.400095,\n",
       "   2.382288,\n",
       "   2.369391,\n",
       "   2.360582,\n",
       "   2.349358,\n",
       "   2.345347,\n",
       "   2.330545,\n",
       "   2.309704,\n",
       "   2.305073,\n",
       "   2.291715,\n",
       "   2.279225,\n",
       "   2.282007,\n",
       "   2.277259,\n",
       "   2.283958,\n",
       "   2.286559,\n",
       "   2.277574,\n",
       "   2.275192,\n",
       "   2.281651,\n",
       "   2.28409,\n",
       "   2.283376,\n",
       "   2.285799,\n",
       "   2.28878,\n",
       "   2.291336,\n",
       "   2.294104,\n",
       "   2.292022,\n",
       "   2.294586,\n",
       "   2.302484,\n",
       "   2.294461,\n",
       "   2.290236,\n",
       "   2.291128,\n",
       "   2.283901,\n",
       "   2.28649,\n",
       "   2.293409,\n",
       "   2.28975,\n",
       "   2.283577,\n",
       "   2.291806,\n",
       "   2.293337,\n",
       "   2.295761,\n",
       "   2.298807,\n",
       "   2.302992,\n",
       "   2.299746,\n",
       "   2.305809,\n",
       "   2.306972,\n",
       "   2.301391,\n",
       "   2.305022,\n",
       "   2.306397,\n",
       "   2.309119,\n",
       "   2.307546,\n",
       "   2.304739,\n",
       "   2.30302,\n",
       "   2.302755,\n",
       "   2.302699,\n",
       "   2.306841,\n",
       "   2.306007,\n",
       "   2.305368,\n",
       "   2.299061,\n",
       "   2.303044,\n",
       "   2.305025,\n",
       "   2.301779,\n",
       "   2.300896,\n",
       "   2.298758,\n",
       "   2.298081,\n",
       "   2.296027,\n",
       "   2.293319,\n",
       "   2.290814,\n",
       "   2.291681]}}"
      ]
     },
     "execution_count": 113,
     "metadata": {},
     "output_type": "execute_result"
    }
   ],
   "source": [
    "a = model_xgb.evals_result()\n",
    "a\n"
   ]
  },
  {
   "cell_type": "code",
   "execution_count": 125,
   "metadata": {},
   "outputs": [
    {
     "data": {
      "text/plain": [
       "0.8442909508242775"
      ]
     },
     "execution_count": 125,
     "metadata": {},
     "output_type": "execute_result"
    }
   ],
   "source": [
    "r2_score(y_pred=model_xgb.predict(X_test), y_true=y_test)"
   ]
  },
  {
   "cell_type": "code",
   "execution_count": 126,
   "metadata": {},
   "outputs": [
    {
     "data": {
      "text/plain": [
       "array([0.01506082, 0.36401403, 0.13824697, 0.34278297, 0.01711842,\n",
       "       0.07688458, 0.03003405, 0.0158581 ], dtype=float32)"
      ]
     },
     "execution_count": 126,
     "metadata": {},
     "output_type": "execute_result"
    }
   ],
   "source": [
    "model_xgb.feature_importances_"
   ]
  },
  {
   "cell_type": "code",
   "execution_count": 127,
   "metadata": {},
   "outputs": [
    {
     "data": {
      "image/png": "[encoded data removed]",
      "text/plain": [
       "<Figure size 432x288 with 1 Axes>"
      ]
     },
     "metadata": {
      "needs_background": "light"
     },
     "output_type": "display_data"
    }
   ],
   "source": [
    "import matplotlib.pyplot as plt\n",
    "_, ax = plt.subplots()\n",
    "\n",
    "xgb.plot_importance(model_xgb,\n",
    "                   ax=ax,\n",
    "                   importance_type=\"gain\",\n",
    "                   show_values=True)\n",
    "plt.show()"
   ]
  },
  {
   "cell_type": "markdown",
   "metadata": {},
   "source": [
    "- 使い方はともかく、こんな感じでプロット出来る（↑は見たい項目では無い気がするが。。。）"
   ]
  },
  {
   "cell_type": "code",
   "execution_count": null,
   "metadata": {},
   "outputs": [],
   "source": []
  },
  {
   "cell_type": "markdown",
   "metadata": {},
   "source": [
    "- callbacksの使い方がうまく出来ていないが、これでも最低限のことは出来ていそう"
   ]
  },
  {
   "cell_type": "code",
   "execution_count": 115,
   "metadata": {},
   "outputs": [
    {
     "data": {
      "text/html": [
       "<div>\n",
       "<style scoped>\n",
       "    .dataframe tbody tr th:only-of-type {\n",
       "        vertical-align: middle;\n",
       "    }\n",
       "\n",
       "    .dataframe tbody tr th {\n",
       "        vertical-align: top;\n",
       "    }\n",
       "\n",
       "    .dataframe thead th {\n",
       "        text-align: right;\n",
       "    }\n",
       "</style>\n",
       "<table border=\"1\" class=\"dataframe\">\n",
       "  <thead>\n",
       "    <tr style=\"text-align: right;\">\n",
       "      <th></th>\n",
       "      <th>validation_0</th>\n",
       "      <th>validation_1</th>\n",
       "    </tr>\n",
       "  </thead>\n",
       "  <tbody>\n",
       "    <tr>\n",
       "      <th>rmse</th>\n",
       "      <td>[21.811825, 19.724339, 17.844919, 16.146986, 1...</td>\n",
       "      <td>[22.581757, 20.436949, 18.496956, 16.773054, 1...</td>\n",
       "    </tr>\n",
       "    <tr>\n",
       "      <th>mae</th>\n",
       "      <td>[20.591619, 18.56496, 16.745995, 15.109141, 13...</td>\n",
       "      <td>[21.362328, 19.254726, 17.361317, 15.679334, 1...</td>\n",
       "    </tr>\n",
       "  </tbody>\n",
       "</table>\n",
       "</div>"
      ],
      "text/plain": [
       "                                           validation_0  \\\n",
       "rmse  [21.811825, 19.724339, 17.844919, 16.146986, 1...   \n",
       "mae   [20.591619, 18.56496, 16.745995, 15.109141, 13...   \n",
       "\n",
       "                                           validation_1  \n",
       "rmse  [22.581757, 20.436949, 18.496956, 16.773054, 1...  \n",
       "mae   [21.362328, 19.254726, 17.361317, 15.679334, 1...  "
      ]
     },
     "execution_count": 115,
     "metadata": {},
     "output_type": "execute_result"
    }
   ],
   "source": [
    "pd.DataFrame(a)"
   ]
  },
  {
   "cell_type": "code",
   "execution_count": 116,
   "metadata": {},
   "outputs": [],
   "source": [
    "pd.DataFrame(a).to_parquet(\"tmp_fit_validation.snappy.parquet\")"
   ]
  },
  {
   "cell_type": "code",
   "execution_count": 120,
   "metadata": {},
   "outputs": [
    {
     "name": "stdout",
     "output_type": "stream",
     "text": [
      "+--------------------+--------------------+-----------------+\n",
      "|        validation_0|        validation_1|__index_level_0__|\n",
      "+--------------------+--------------------+-----------------+\n",
      "|[21.811825, 19.72...|[22.581757, 20.43...|             rmse|\n",
      "|[20.591619, 18.56...|[21.362328, 19.25...|              mae|\n",
      "+--------------------+--------------------+-----------------+\n",
      "\n",
      "root\n",
      " |-- validation_0: array (nullable = true)\n",
      " |    |-- element: double (containsNull = true)\n",
      " |-- validation_1: array (nullable = true)\n",
      " |    |-- element: double (containsNull = true)\n",
      " |-- __index_level_0__: string (nullable = true)\n",
      "\n"
     ]
    },
    {
     "data": {
      "text/plain": [
       "[('validation_0', 'array<double>'),\n",
       " ('validation_1', 'array<double>'),\n",
       " ('__index_level_0__', 'string')]"
      ]
     },
     "execution_count": 120,
     "metadata": {},
     "output_type": "execute_result"
    }
   ],
   "source": [
    "spark.read.load(\"tmp_fit_*parquet\").show()\n",
    "spark.read.load(\"tmp_fit_*parquet\").printSchema()\n",
    "spark.read.load(\"tmp_fit_*parquet\").dtypes"
   ]
  },
  {
   "cell_type": "code",
   "execution_count": null,
   "metadata": {},
   "outputs": [],
   "source": []
  },
  {
   "cell_type": "code",
   "execution_count": null,
   "metadata": {},
   "outputs": [],
   "source": []
  },
  {
   "cell_type": "code",
   "execution_count": 128,
   "metadata": {},
   "outputs": [
    {
     "data": {
      "text/html": [
       "<div>\n",
       "<style scoped>\n",
       "    .dataframe tbody tr th:only-of-type {\n",
       "        vertical-align: middle;\n",
       "    }\n",
       "\n",
       "    .dataframe tbody tr th {\n",
       "        vertical-align: top;\n",
       "    }\n",
       "\n",
       "    .dataframe thead th {\n",
       "        text-align: right;\n",
       "    }\n",
       "</style>\n",
       "<table border=\"1\" class=\"dataframe\">\n",
       "  <thead>\n",
       "    <tr style=\"text-align: right;\">\n",
       "      <th></th>\n",
       "      <th>MPG</th>\n",
       "      <th>Cylinders</th>\n",
       "      <th>Displacement</th>\n",
       "      <th>Horsepower</th>\n",
       "      <th>Weight</th>\n",
       "      <th>Acceleration</th>\n",
       "      <th>Model_Year</th>\n",
       "      <th>Origin_2</th>\n",
       "      <th>Origin_3</th>\n",
       "    </tr>\n",
       "  </thead>\n",
       "  <tbody>\n",
       "    <tr>\n",
       "      <th>0</th>\n",
       "      <td>18.0</td>\n",
       "      <td>8</td>\n",
       "      <td>307.0</td>\n",
       "      <td>130.0</td>\n",
       "      <td>3504.0</td>\n",
       "      <td>12.0</td>\n",
       "      <td>70</td>\n",
       "      <td>0</td>\n",
       "      <td>0</td>\n",
       "    </tr>\n",
       "    <tr>\n",
       "      <th>1</th>\n",
       "      <td>15.0</td>\n",
       "      <td>8</td>\n",
       "      <td>350.0</td>\n",
       "      <td>165.0</td>\n",
       "      <td>3693.0</td>\n",
       "      <td>11.5</td>\n",
       "      <td>70</td>\n",
       "      <td>0</td>\n",
       "      <td>0</td>\n",
       "    </tr>\n",
       "    <tr>\n",
       "      <th>2</th>\n",
       "      <td>18.0</td>\n",
       "      <td>8</td>\n",
       "      <td>318.0</td>\n",
       "      <td>150.0</td>\n",
       "      <td>3436.0</td>\n",
       "      <td>11.0</td>\n",
       "      <td>70</td>\n",
       "      <td>0</td>\n",
       "      <td>0</td>\n",
       "    </tr>\n",
       "    <tr>\n",
       "      <th>3</th>\n",
       "      <td>16.0</td>\n",
       "      <td>8</td>\n",
       "      <td>304.0</td>\n",
       "      <td>150.0</td>\n",
       "      <td>3433.0</td>\n",
       "      <td>12.0</td>\n",
       "      <td>70</td>\n",
       "      <td>0</td>\n",
       "      <td>0</td>\n",
       "    </tr>\n",
       "    <tr>\n",
       "      <th>4</th>\n",
       "      <td>17.0</td>\n",
       "      <td>8</td>\n",
       "      <td>302.0</td>\n",
       "      <td>140.0</td>\n",
       "      <td>3449.0</td>\n",
       "      <td>10.5</td>\n",
       "      <td>70</td>\n",
       "      <td>0</td>\n",
       "      <td>0</td>\n",
       "    </tr>\n",
       "    <tr>\n",
       "      <th>...</th>\n",
       "      <td>...</td>\n",
       "      <td>...</td>\n",
       "      <td>...</td>\n",
       "      <td>...</td>\n",
       "      <td>...</td>\n",
       "      <td>...</td>\n",
       "      <td>...</td>\n",
       "      <td>...</td>\n",
       "      <td>...</td>\n",
       "    </tr>\n",
       "    <tr>\n",
       "      <th>393</th>\n",
       "      <td>27.0</td>\n",
       "      <td>4</td>\n",
       "      <td>140.0</td>\n",
       "      <td>86.0</td>\n",
       "      <td>2790.0</td>\n",
       "      <td>15.6</td>\n",
       "      <td>82</td>\n",
       "      <td>0</td>\n",
       "      <td>0</td>\n",
       "    </tr>\n",
       "    <tr>\n",
       "      <th>394</th>\n",
       "      <td>44.0</td>\n",
       "      <td>4</td>\n",
       "      <td>97.0</td>\n",
       "      <td>52.0</td>\n",
       "      <td>2130.0</td>\n",
       "      <td>24.6</td>\n",
       "      <td>82</td>\n",
       "      <td>1</td>\n",
       "      <td>0</td>\n",
       "    </tr>\n",
       "    <tr>\n",
       "      <th>395</th>\n",
       "      <td>32.0</td>\n",
       "      <td>4</td>\n",
       "      <td>135.0</td>\n",
       "      <td>84.0</td>\n",
       "      <td>2295.0</td>\n",
       "      <td>11.6</td>\n",
       "      <td>82</td>\n",
       "      <td>0</td>\n",
       "      <td>0</td>\n",
       "    </tr>\n",
       "    <tr>\n",
       "      <th>396</th>\n",
       "      <td>28.0</td>\n",
       "      <td>4</td>\n",
       "      <td>120.0</td>\n",
       "      <td>79.0</td>\n",
       "      <td>2625.0</td>\n",
       "      <td>18.6</td>\n",
       "      <td>82</td>\n",
       "      <td>0</td>\n",
       "      <td>0</td>\n",
       "    </tr>\n",
       "    <tr>\n",
       "      <th>397</th>\n",
       "      <td>31.0</td>\n",
       "      <td>4</td>\n",
       "      <td>119.0</td>\n",
       "      <td>82.0</td>\n",
       "      <td>2720.0</td>\n",
       "      <td>19.4</td>\n",
       "      <td>82</td>\n",
       "      <td>0</td>\n",
       "      <td>0</td>\n",
       "    </tr>\n",
       "  </tbody>\n",
       "</table>\n",
       "<p>398 rows × 9 columns</p>\n",
       "</div>"
      ],
      "text/plain": [
       "      MPG  Cylinders  Displacement  Horsepower  Weight  Acceleration  \\\n",
       "0    18.0          8         307.0       130.0  3504.0          12.0   \n",
       "1    15.0          8         350.0       165.0  3693.0          11.5   \n",
       "2    18.0          8         318.0       150.0  3436.0          11.0   \n",
       "3    16.0          8         304.0       150.0  3433.0          12.0   \n",
       "4    17.0          8         302.0       140.0  3449.0          10.5   \n",
       "..    ...        ...           ...         ...     ...           ...   \n",
       "393  27.0          4         140.0        86.0  2790.0          15.6   \n",
       "394  44.0          4          97.0        52.0  2130.0          24.6   \n",
       "395  32.0          4         135.0        84.0  2295.0          11.6   \n",
       "396  28.0          4         120.0        79.0  2625.0          18.6   \n",
       "397  31.0          4         119.0        82.0  2720.0          19.4   \n",
       "\n",
       "     Model_Year  Origin_2  Origin_3  \n",
       "0            70         0         0  \n",
       "1            70         0         0  \n",
       "2            70         0         0  \n",
       "3            70         0         0  \n",
       "4            70         0         0  \n",
       "..          ...       ...       ...  \n",
       "393          82         0         0  \n",
       "394          82         1         0  \n",
       "395          82         0         0  \n",
       "396          82         0         0  \n",
       "397          82         0         0  \n",
       "\n",
       "[398 rows x 9 columns]"
      ]
     },
     "execution_count": 128,
     "metadata": {},
     "output_type": "execute_result"
    }
   ],
   "source": [
    "pdf_mpg_oneHot"
   ]
  },
  {
   "cell_type": "code",
   "execution_count": null,
   "metadata": {},
   "outputs": [],
   "source": []
  }
 ],
 "metadata": {
  "kernelspec": {
   "display_name": "Python 3",
   "language": "python",
   "name": "python3"
  },
  "language_info": {
   "codemirror_mode": {
    "name": "ipython",
    "version": 3
   },
   "file_extension": ".py",
   "mimetype": "text/x-python",
   "name": "python",
   "nbconvert_exporter": "python",
   "pygments_lexer": "ipython3",
   "version": "3.7.6"
  }
 },
 "nbformat": 4,
 "nbformat_minor": 4
}
